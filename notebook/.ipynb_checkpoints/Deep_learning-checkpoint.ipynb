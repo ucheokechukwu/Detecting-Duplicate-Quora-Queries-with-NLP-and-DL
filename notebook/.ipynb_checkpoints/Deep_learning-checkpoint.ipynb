{
 "cells": [
  {
   "cell_type": "markdown",
   "metadata": {
    "id": "8DxNFiQKgz0H"
   },
   "source": [
    "**Note**: This notebook continues from the previous notebook on EDA and Feature Engineering. Most of this Notebook was prepared with Google Colab. The URLs to file locations on Google Drive can be replaced by the local file path. i.e. `/content/drive/MyDrive/output/train_complete.csv` should be substituted with `../output/train_complete.csv`\n",
    "\n",
    "Please note that some files were considered too large for Git and are not available."
   ]
  },
  {
   "cell_type": "code",
   "execution_count": 1,
   "metadata": {
    "colab": {
     "base_uri": "https://localhost:8080/"
    },
    "id": "1Tf3dK0c8oWD",
    "outputId": "e08d405a-ed6c-4c53-b654-ff0fdb8461e3"
   },
   "outputs": [
    {
     "name": "stdout",
     "output_type": "stream",
     "text": [
      "Mounted at /content/drive\n"
     ]
    }
   ],
   "source": [
    "from google.colab import drive\n",
    "drive.mount('/content/drive')"
   ]
  },
  {
   "cell_type": "code",
   "execution_count": 2,
   "metadata": {
    "id": "__37_Aji8soC"
   },
   "outputs": [],
   "source": [
    "import pandas as pd\n",
    "import numpy as np \n",
    "import matplotlib.pyplot as plt\n",
    "import warnings\n",
    "warnings.filterwarnings('ignore')\n",
    "from tqdm import tqdm\n",
    "\n",
    "import tensorflow as tf\n",
    "from tensorflow.keras import layers\n",
    "from tensorflow.keras.utils import plot_model\n",
    "tf.config.run_functions_eagerly(True) # to suppress warnings\n",
    "tf.data.experimental.enable_debug_mode()\n",
    "\n",
    "\n",
    "# Importing the pretrained Universal Sentence Encoder\n",
    "import tensorflow_hub as hub\n",
    "embed = hub.load(\"https://tfhub.dev/google/universal-sentence-encoder/4\")\n",
    "\n",
    "tf_hub_embedding_layer = hub.KerasLayer(\"https://tfhub.dev/google/universal-sentence-encoder/4\",\n",
    "                                        trainable=True,\n",
    "                                        name=\"universal_sentence_encoder\")"
   ]
  },
  {
   "cell_type": "markdown",
   "metadata": {
    "id": "byLOAtOR8tLK"
   },
   "source": [
    "#### Reloading files"
   ]
  },
  {
   "cell_type": "code",
   "execution_count": 3,
   "metadata": {
    "id": "d3IEFXuT8iMu"
   },
   "outputs": [],
   "source": [
    "# train and test df with added features\n",
    "train_df = pd.read_csv('/content/drive/MyDrive/output/train_complete.csv')\n",
    "test_df = pd.read_csv('/content/drive/MyDrive/output/test_complete.csv')\n",
    "# preprocessed texts (question1 and question2)\n",
    "preprocessed_train_q1 = pd.read_csv('/content/drive/MyDrive/output/preprocessed_train_1.csv',\n",
    "                                    header=None).fillna(\"\")\n",
    "preprocessed_train_q2 = pd.read_csv('/content/drive/MyDrive/output/preprocessed_train_2.csv',\n",
    "                                    header=None).fillna(\"\")\n",
    "preprocessed_test_q1 = pd.read_csv('/content/drive/MyDrive/output/preprocessed_test_1.csv',\n",
    "                                   header=None).fillna(\"\")\n",
    "preprocessed_test_q1 = pd.read_csv('/content/drive/MyDrive/output/preprocessed_test_2.csv',\n",
    "                                   header=None).fillna(\"\")\n",
    "y_train = train_df['is_duplicate']\n",
    "y_test = test_df['is_duplicate']\n",
    "\n",
    "# train_df = pd.read_csv('/content/drive/MyDrive/output/train_df.csv')\n",
    "# test_df = pd.read_csv('/content/drive/MyDrive/output/test_df.csv')\n",
    "\n",
    "# train_q1 = train_df['question1'].fillna(\"\")\n",
    "# train_q2 = train_df['question2'].fillna(\"\")\n",
    "\n",
    "# test_q1 = test_df['question1'].fillna(\"\")\n",
    "# test_q2 = test_df['question2'].fillna(\"\")\n",
    "\n"
   ]
  },
  {
   "cell_type": "markdown",
   "metadata": {
    "id": "EOyKUJD58tiz"
   },
   "source": [
    "# Managing the Class inbalance."
   ]
  },
  {
   "cell_type": "code",
   "execution_count": null,
   "metadata": {
    "colab": {
     "base_uri": "https://localhost:8080/",
     "height": 88
    },
    "id": "Xw2IBFam_Mlj",
    "outputId": "4460768d-282a-4e93-9cde-251033f8854f"
   },
   "outputs": [
    {
     "data": {
      "text/plain": [
       "0    204006\n",
       "1    119424\n",
       "Name: is_duplicate, dtype: int64"
      ]
     },
     "metadata": {},
     "output_type": "display_data"
    },
    {
     "name": "stdout",
     "output_type": "stream",
     "text": [
      "We will need 84582 more 1 datapoints\n"
     ]
    }
   ],
   "source": [
    "display(y_train.value_counts())\n",
    "print(f\"We will need {y_train.value_counts()[0]-y_train.value_counts()[1]} more 1 datapoints\")"
   ]
  },
  {
   "cell_type": "code",
   "execution_count": null,
   "metadata": {
    "colab": {
     "base_uri": "https://localhost:8080/"
    },
    "id": "ouuNFy-BCSl4",
    "outputId": "cb25b82a-ad28-40fe-9997-360a34b6b3e7"
   },
   "outputs": [
    {
     "data": {
      "text/plain": [
       "1    288588\n",
       "0    204006\n",
       "Name: is_duplicate, dtype: int64"
      ]
     },
     "execution_count": 7,
     "metadata": {},
     "output_type": "execute_result"
    }
   ],
   "source": [
    "filter = y_train == 1\n",
    "y_train_ = y_train[filter].sample(n=84582, random_state=88)\n",
    "\n",
    "train_df_ = train_df.loc[y_train_.index]\n",
    "y_train_ = pd.concat([y_train_, y_train])\n",
    "train_df_ = pd.concat([train_df_, train_df])\n",
    "y_train_.value_counts()"
   ]
  },
  {
   "cell_type": "code",
   "execution_count": null,
   "metadata": {
    "colab": {
     "base_uri": "https://localhost:8080/"
    },
    "id": "HALtxXrcCR3I",
    "outputId": "8ea32a1d-8031-41d9-ec50-f514bd35b62a"
   },
   "outputs": [
    {
     "data": {
      "text/plain": [
       "(492594, 562634, 492594, 492594)"
      ]
     },
     "execution_count": 8,
     "metadata": {},
     "output_type": "execute_result"
    }
   ],
   "source": [
    "preprocessed_train_q1 = preprocessed_train_q1.iloc[y_train_.index]\n",
    "preprocessed_train_q2 = preprocessed_train_q2.iloc[y_train_.index]\n",
    "y_train = y_train_.copy()\n",
    "train_df = train_df_.copy()\n",
    "len(y_train), len(train_df), len(preprocessed_train_q1), len(preprocessed_train_q2)"
   ]
  },
  {
   "cell_type": "code",
   "execution_count": null,
   "metadata": {
    "id": "0pEzL9OgCRd9"
   },
   "outputs": [],
   "source": []
  },
  {
   "cell_type": "code",
   "execution_count": null,
   "metadata": {
    "id": "2tLmDBGKCRED"
   },
   "outputs": [],
   "source": []
  },
  {
   "cell_type": "code",
   "execution_count": null,
   "metadata": {
    "id": "_72ZjhwbCQGL"
   },
   "outputs": [],
   "source": []
  },
  {
   "cell_type": "code",
   "execution_count": null,
   "metadata": {
    "id": "ZMLbb3TmCPzn"
   },
   "outputs": [],
   "source": []
  },
  {
   "cell_type": "code",
   "execution_count": null,
   "metadata": {
    "id": "zz5aDIVWCPcS"
   },
   "outputs": [],
   "source": []
  },
  {
   "cell_type": "markdown",
   "metadata": {
    "id": "D9L6A7B0djt8"
   },
   "source": [
    "# Modeling - Deep Learning\n",
    "\n",
    "Deep Learning experiments start here. The strategy is to start with a simple model and one feature, and build up on from there."
   ]
  },
  {
   "cell_type": "code",
   "execution_count": null,
   "metadata": {
    "id": "CZIgOGQJCOi9"
   },
   "outputs": [],
   "source": []
  },
  {
   "cell_type": "markdown",
   "metadata": {
    "id": "SvnOQXFhXCgq"
   },
   "source": [
    "## Model 1- with Similiarty (USE Embedding parameter)\n",
    "\n",
    "This is our base DL model. It simply passes through the feature Similarity which is supposed to represent the semantic difference between the two questions, into a simple neural network with 1 4-node hidden layer. Similarity was chosen based on the result of its p-value (<0.05) discovered in the Machine Learning experiments.\n"
   ]
  },
  {
   "cell_type": "code",
   "execution_count": 4,
   "metadata": {
    "colab": {
     "base_uri": "https://localhost:8080/",
     "height": 312
    },
    "id": "RpbBewI1ObHD",
    "outputId": "cb8d9900-713a-454a-faf4-1021ef6741d6"
   },
   "outputs": [
    {
     "data": {
      "image/png": "[encoded data removed]",
      "text/plain": [
       "<IPython.core.display.Image object>"
      ]
     },
     "execution_count": 4,
     "metadata": {},
     "output_type": "execute_result"
    }
   ],
   "source": [
    "tf.random.set_seed(88) \n",
    "similarity_inputs = layers.Input(shape=(1,), name='similarity')\n",
    "hidden = layers.Dense(4, activation='relu')(similarity_inputs)\n",
    "\n",
    "output_layer = layers.Dense(1, activation=\"sigmoid\")(hidden)\n",
    "\n",
    "\n",
    "model = tf.keras.Model(inputs=similarity_inputs,\n",
    "                         outputs=output_layer,\n",
    "                         name=\"similarity_model\")\n",
    "\n",
    "plot_model(model, show_shapes=True)"
   ]
  },
  {
   "cell_type": "markdown",
   "metadata": {
    "id": "0pZOllgVfg_x"
   },
   "source": [
    "### Building the Dataset\n",
    "\n",
    "The csvs datasets will be converted to the Tensorflow's `.dataset` class, which will optimize the training process and reduce the memory load on the processors.\n",
    "\n",
    "From the website:\n",
    "\n",
    "https://www.tensorflow.org/api_docs/python/tf/data/Dataset\n",
    "\n",
    "The `tf.data.Dataset API` supports writing descriptive and efficient input pipelines. Dataset usage follows a common pattern:\n",
    "\n",
    "- Create a source dataset from your input data.\n",
    "- Apply dataset transformations to preprocess the data.\n",
    "- Iterate over the dataset and process the elements.\n",
    "Iteration happens in a streaming fashion, **so the full dataset does not need to fit into memory**.\n",
    "\n",
    "\n"
   ]
  },
  {
   "cell_type": "code",
   "execution_count": 5,
   "metadata": {
    "id": "ym89JWjQWu2t"
   },
   "outputs": [],
   "source": [
    "# the X for this model is just the 'similarity' parameter\n",
    "del X # clear the cache\n",
    "X = train_df['similarity']\n",
    "y = train_df['is_duplicate']\n",
    "from sklearn.model_selection import train_test_split\n",
    "X_train, X_test, y_train, y_test = train_test_split(X, y, test_size=0.1, random_state=88)\n",
    "\n",
    "display(X_train.shape, y_train.shape, X_test.shape, y_test.shape)\n",
    "\n",
    "# convert to Tensor batch datasets to optimize performance \n",
    "train_data = tf.data.Dataset.from_tensor_slices((X_train)) # make data\n",
    "train_labels = tf.data.Dataset.from_tensor_slices(y_train) # make labels\n",
    "train_dataset = tf.data.Dataset.zip((train_data, train_labels)) # combine data and labels\n",
    "\n",
    "# Prefetch and batch train data\n",
    "train_dataset = train_dataset.batch(32).prefetch(tf.data.AUTOTUNE) \n",
    "\n",
    "# Repeat same steps test data\n",
    "test_data = tf.data.Dataset.from_tensor_slices((X_test))\n",
    "test_labels = tf.data.Dataset.from_tensor_slices(y_test)\n",
    "test_dataset = tf.data.Dataset.zip((test_data, test_labels))\n",
    "# Prefetch and batch test data\n",
    "test_dataset = test_dataset.batch(32).prefetch(tf.data.AUTOTUNE)\n",
    "\n",
    "##Validation set from the hold out####\n",
    "X_valid = test_df['similarity']\n",
    "y_valid = test_df['is_duplicate']\n",
    "\n",
    "valid_data = tf.data.Dataset.from_tensor_slices((X_valid))\n",
    "valid_labels = tf.data.Dataset.from_tensor_slices(y_valid)\n",
    "valid_dataset = tf.data.Dataset.zip((valid_data, valid_labels))\n",
    "# Prefetch and batch valid data\n",
    "valid_dataset = valid_dataset.batch(32).prefetch(tf.data.AUTOTUNE)\n",
    "\n"
   ]
  },
  {
   "cell_type": "markdown",
   "metadata": {
    "id": "U2Z3uXCSfkxT"
   },
   "source": [
    "### Model Training"
   ]
  },
  {
   "cell_type": "code",
   "execution_count": null,
   "metadata": {
    "colab": {
     "base_uri": "https://localhost:8080/"
    },
    "id": "QycT0aA3XpF6",
    "outputId": "481d0838-702a-4802-dc6f-a7844ad58883"
   },
   "outputs": [
    {
     "name": "stdout",
     "output_type": "stream",
     "text": [
      "Epoch 1/15\n",
      "229/229 [==============================] - 8s 31ms/step - loss: 0.6625 - accuracy: 0.5796 - val_loss: 0.6475 - val_accuracy: 0.6475\n",
      "Epoch 2/15\n",
      "229/229 [==============================] - 7s 31ms/step - loss: 0.6285 - accuracy: 0.7164 - val_loss: 0.6145 - val_accuracy: 0.7212\n",
      "Epoch 3/15\n",
      "229/229 [==============================] - 7s 30ms/step - loss: 0.5996 - accuracy: 0.7354 - val_loss: 0.5882 - val_accuracy: 0.7412\n",
      "Epoch 4/15\n",
      "229/229 [==============================] - 7s 31ms/step - loss: 0.5719 - accuracy: 0.7473 - val_loss: 0.5682 - val_accuracy: 0.7350\n",
      "Epoch 5/15\n",
      "229/229 [==============================] - 7s 29ms/step - loss: 0.5543 - accuracy: 0.7485 - val_loss: 0.5514 - val_accuracy: 0.7412\n",
      "Epoch 6/15\n",
      "229/229 [==============================] - 7s 32ms/step - loss: 0.5357 - accuracy: 0.7530 - val_loss: 0.5404 - val_accuracy: 0.7412\n",
      "Epoch 7/15\n",
      "229/229 [==============================] - 7s 29ms/step - loss: 0.5357 - accuracy: 0.7467 - val_loss: 0.5322 - val_accuracy: 0.7337\n",
      "Epoch 8/15\n",
      "229/229 [==============================] - 7s 31ms/step - loss: 0.5229 - accuracy: 0.7496 - val_loss: 0.5291 - val_accuracy: 0.7412\n",
      "Epoch 9/15\n",
      "229/229 [==============================] - 12s 52ms/step - loss: 0.5213 - accuracy: 0.7463 - val_loss: 0.5239 - val_accuracy: 0.7375\n",
      "Epoch 10/15\n",
      "229/229 [==============================] - 7s 31ms/step - loss: 0.5136 - accuracy: 0.7465 - val_loss: 0.5212 - val_accuracy: 0.7375\n",
      "Epoch 11/15\n",
      "229/229 [==============================] - 7s 30ms/step - loss: 0.5099 - accuracy: 0.7503 - val_loss: 0.5247 - val_accuracy: 0.7387\n",
      "Epoch 12/15\n",
      "229/229 [==============================] - 9s 39ms/step - loss: 0.5098 - accuracy: 0.7437 - val_loss: 0.5191 - val_accuracy: 0.7375\n",
      "Epoch 13/15\n",
      "229/229 [==============================] - 7s 32ms/step - loss: 0.5113 - accuracy: 0.7418 - val_loss: 0.5165 - val_accuracy: 0.7337\n",
      "Epoch 14/15\n",
      "229/229 [==============================] - 7s 28ms/step - loss: 0.5084 - accuracy: 0.7407 - val_loss: 0.5155 - val_accuracy: 0.7275\n",
      "Epoch 15/15\n",
      "229/229 [==============================] - 7s 32ms/step - loss: 0.5087 - accuracy: 0.7496 - val_loss: 0.5157 - val_accuracy: 0.7337\n"
     ]
    }
   ],
   "source": [
    "# define a callback function to stop training if it's not improving\n",
    "callback = tf.keras.callbacks.EarlyStopping(monitor='loss', patience=4)\n",
    "# use another callback to save the best version of the model\n",
    "model_checkpoint_callback = tf.keras.callbacks.ModelCheckpoint(\n",
    "    filepath='output/model1',\n",
    "    save_weights_only=True,\n",
    "    monitor='val_accuracy',\n",
    "    mode='max',\n",
    "    save_best_only=True)\n",
    "\n",
    "\n",
    "\n",
    "model.compile(loss=\"binary_crossentropy\",\n",
    "                optimizer=tf.keras.optimizers.Adam(),\n",
    "                metrics=[\"accuracy\"])\n",
    "\n",
    "history_1 = model.fit(train_dataset.repeat(),\n",
    "                    steps_per_epoch=int(0.02 * len(train_dataset)),\n",
    "                    epochs=15,\n",
    "                    callbacks=[callback, model_checkpoint_callback],\n",
    "                    validation_data=test_dataset,\n",
    "                    validation_steps=int(0.02 * len(test_dataset)))"
   ]
  },
  {
   "cell_type": "code",
   "execution_count": null,
   "metadata": {
    "id": "2Jm_GN6MeMWR"
   },
   "outputs": [],
   "source": []
  },
  {
   "cell_type": "markdown",
   "metadata": {
    "id": "uKKLs6mSW3ac"
   },
   "source": [
    "## Model 2 - Derived features only\n",
    "\n",
    "This model passes all the generated features (similarity, cosine_distance and common_words) into a slightly more sophisticated neural network. "
   ]
  },
  {
   "cell_type": "code",
   "execution_count": 22,
   "metadata": {
    "colab": {
     "base_uri": "https://localhost:8080/",
     "height": 422
    },
    "id": "DEWw74LQWY-C",
    "outputId": "63c5657e-2d8f-4ce8-b598-d6ba738db435"
   },
   "outputs": [
    {
     "data": {
      "image/png": "[encoded data removed]",
      "text/plain": [
       "<IPython.core.display.Image object>"
      ]
     },
     "execution_count": 22,
     "metadata": {},
     "output_type": "execute_result"
    }
   ],
   "source": [
    "tf.random.set_seed(88)\n",
    "# diff_common inputs/models\n",
    "features_inputs = layers.Input(shape=(3,), name='features')\n",
    "features_hidden = layers.Dense(32, activation='relu')(features_inputs)\n",
    "features_output = layers.Dense(10, activation='relu')(features_hidden)\n",
    "\n",
    "output_layer = layers.Dense(1, activation=\"sigmoid\")(features_output)\n",
    "\n",
    "# 5. Construct model with char and token inputs\n",
    "model_2 = tf.keras.Model(inputs=features_inputs,\n",
    "                         outputs=output_layer,\n",
    "                         name=\"features_model\")\n",
    "\n",
    "\n",
    "plot_model(model_2, show_shapes=True)"
   ]
  },
  {
   "cell_type": "markdown",
   "metadata": {
    "id": "rXoNst_3fqMw"
   },
   "source": [
    "### Building the Dataset"
   ]
  },
  {
   "cell_type": "code",
   "execution_count": 23,
   "metadata": {
    "id": "-Yc2ggU4YKCn"
   },
   "outputs": [],
   "source": [
    "del X # clear the previous values\n",
    "del y # clear the previous values\n",
    "\n",
    "X = train_df[['similarity', 'common_words', 'cosine_distance']]\n",
    "y = train_df['is_duplicate']\n",
    "from sklearn.model_selection import train_test_split\n",
    "X_train, X_test, y_train, y_test = train_test_split(X, y, test_size=0.1, random_state=88)\n",
    "display(X_train.shape, y_train.shape, X_test.shape, y_test.shape)\n",
    "\n",
    "# convert to Tensor batch datasets to optimize performance \n",
    "train_data = tf.data.Dataset.from_tensor_slices((X_train)) # make data\n",
    "train_labels = tf.data.Dataset.from_tensor_slices(y_train) # make labels\n",
    "train_dataset = tf.data.Dataset.zip((train_data, train_labels)) # combine data and labels\n",
    "\n",
    "# Prefetch and batch train data\n",
    "train_dataset = train_dataset.batch(32).prefetch(tf.data.AUTOTUNE) \n",
    "\n",
    "# Repeat same steps for test data\n",
    "test_data = tf.data.Dataset.from_tensor_slices((X_test))\n",
    "test_labels = tf.data.Dataset.from_tensor_slices(y_test)\n",
    "test_dataset = tf.data.Dataset.zip((test_data, test_labels))\n",
    "# Prefetch and batch test data\n",
    "test_dataset = test_dataset.batch(32).prefetch(tf.data.AUTOTUNE)\n",
    "     \n",
    "# repeat same steps for validation data\n",
    "del X_valid # clear the previous values\n",
    "X_valid = test_df[['similarity', 'common_words', 'cosine_distance']]\n",
    "y_valid = test_df['is_duplicate']\n",
    "\n",
    "valid_data = tf.data.Dataset.from_tensor_slices((X_valid))\n",
    "valid_labels = tf.data.Dataset.from_tensor_slices(y_valid)\n",
    "valid_dataset = tf.data.Dataset.zip((valid_data, valid_labels))\n",
    "# Prefetch and batch test data\n",
    "valid_dataset = valid_dataset.batch(32).prefetch(tf.data.AUTOTUNE)\n",
    "\n",
    "\n",
    "\n",
    "# Check shape\n",
    "# train_dataset, test_dataset\n",
    "\n"
   ]
  },
  {
   "cell_type": "markdown",
   "metadata": {
    "id": "9TPVWhctfuv2"
   },
   "source": [
    "### Model Training"
   ]
  },
  {
   "cell_type": "code",
   "execution_count": null,
   "metadata": {
    "id": "4dqvfmpNLJc1"
   },
   "outputs": [],
   "source": []
  },
  {
   "cell_type": "code",
   "execution_count": null,
   "metadata": {
    "colab": {
     "base_uri": "https://localhost:8080/"
    },
    "id": "v75o0b_mYdxq",
    "outputId": "dcfa65ec-4c63-4d7c-83ad-6934214bf83e"
   },
   "outputs": [
    {
     "name": "stdout",
     "output_type": "stream",
     "text": [
      "Epoch 1/5\n",
      "229/229 [==============================] - 9s 41ms/step - loss: 0.4978 - accuracy: 0.7478 - val_loss: 0.5095 - val_accuracy: 0.7487\n",
      "Epoch 2/5\n",
      "229/229 [==============================] - 14s 63ms/step - loss: 0.5050 - accuracy: 0.7421 - val_loss: 0.5070 - val_accuracy: 0.7412\n",
      "Epoch 3/5\n",
      "229/229 [==============================] - 11s 49ms/step - loss: 0.5005 - accuracy: 0.7439 - val_loss: 0.5078 - val_accuracy: 0.7400\n",
      "Epoch 4/5\n",
      "229/229 [==============================] - 9s 37ms/step - loss: 0.4977 - accuracy: 0.7488 - val_loss: 0.5069 - val_accuracy: 0.7375\n",
      "Epoch 5/5\n",
      "229/229 [==============================] - 9s 39ms/step - loss: 0.4956 - accuracy: 0.7523 - val_loss: 0.5068 - val_accuracy: 0.7375\n"
     ]
    }
   ],
   "source": [
    "# define a callback function to stop training if it's not improving\n",
    "callback = tf.keras.callbacks.EarlyStopping(monitor='loss', patience=4)\n",
    "# use another callback to save the best version of the model\n",
    "model_checkpoint_callback = tf.keras.callbacks.ModelCheckpoint(\n",
    "    filepath='output2/model2',\n",
    "    save_weights_only=True,\n",
    "    monitor='val_accuracy',\n",
    "    mode='max',\n",
    "    save_best_only=True)\n",
    "\n",
    "model_2.compile(loss=\"binary_crossentropy\",\n",
    "                optimizer=tf.keras.optimizers.Adam(),\n",
    "                metrics=[\"accuracy\"])\n",
    "# note ran this 15 times because it looked like val_accuracy was still improving\n",
    "history_2 = model_2.fit(train_dataset.repeat(),\n",
    "                    steps_per_epoch=int(0.02 * len(train_dataset)),\n",
    "                    epochs=5,\n",
    "                    callbacks=[callback, model_checkpoint_callback],\n",
    "                    validation_data=test_dataset,\n",
    "                    validation_steps=int(0.02 * len(test_dataset)))"
   ]
  },
  {
   "cell_type": "markdown",
   "metadata": {
    "id": "Ja2pLJW-UdHL"
   },
   "source": [
    "## Model 3 - Questions 1 & 2 passing through the USE only\n",
    "\n",
    "In order to not pass `question 1` and `question 2` through the USE embedder at the same time, and therefore distorting the disparity of their values, we will pass them through the embedding and dense output layers separately then combine them with `layers.Concatenate` before passing through a simple 3-layer dense network. "
   ]
  },
  {
   "cell_type": "code",
   "execution_count": 25,
   "metadata": {
    "colab": {
     "base_uri": "https://localhost:8080/",
     "height": 147
    },
    "id": "yY1iEBYrTkqB",
    "outputId": "3120f66e-eeaf-4311-e457-b433b825246a"
   },
   "outputs": [
    {
     "data": {
      "image/png": "[encoded data removed]",
      "text/plain": [
       "<IPython.core.display.Image object>"
      ]
     },
     "execution_count": 25,
     "metadata": {},
     "output_type": "execute_result"
    }
   ],
   "source": [
    "tf.random.set_seed(88)\n",
    "\n",
    "# Q1 input/model\n",
    "q1_inputs = layers.Input(shape=[], dtype=tf.string, name='q1_input')\n",
    "q1_embedding = tf_hub_embedding_layer(q1_inputs)\n",
    "q1_output = layers.Dense(128, activation='relu')(q1_embedding)\n",
    "\n",
    "q1_model = tf.keras.Model(inputs=q1_inputs, \n",
    "                          outputs=q1_output)\n",
    "\n",
    "# Q2 input/model\n",
    "q2_inputs = layers.Input(shape=[], dtype=tf.string, name='q2_input')\n",
    "q2_embedding = tf_hub_embedding_layer(q2_inputs)\n",
    "q2_output = layers.Dense(128, activation='relu')(q2_embedding)\n",
    "\n",
    "q2_model = tf.keras.Model(inputs=q2_inputs, \n",
    "                          outputs=q2_output)\n",
    "\n",
    "# Concatenate Q1 and Q2 model outputs \n",
    "q1q2_concat = layers.Concatenate(name=\"q1q2_concat\")([q1_model.output,\n",
    "                                                             q2_model.output])\n",
    "\n",
    "# Create output layers \n",
    "combined_dense = layers.Dense(128, activation=\"relu\")(q1q2_concat) \n",
    "hidden_dense = layers.Dense(128, activation=\"relu\")(combined_dense) \n",
    "final_dropout = layers.Dropout(0.5)(hidden_dense)\n",
    "output_layer = layers.Dense(1, activation=\"sigmoid\")(final_dropout)\n",
    "\n",
    "# 5. Construct model with char and token inputs\n",
    "model_3 = tf.keras.Model(inputs=[q1_model.input, \n",
    "                                 q2_model.input],\n",
    "                         outputs=output_layer,\n",
    "                         name=\"q1q2_use\")\n",
    "\n",
    "\n",
    "plot_model(model_3, rankdir='LR')"
   ]
  },
  {
   "cell_type": "markdown",
   "metadata": {
    "id": "Jk0QHSD4fz-r"
   },
   "source": [
    "### Building The Dataset"
   ]
  },
  {
   "cell_type": "code",
   "execution_count": 27,
   "metadata": {
    "id": "e-2FsQaPUnik"
   },
   "outputs": [],
   "source": [
    "del X # clear the previous values\n",
    "del y # clear the previous values\n",
    "X['q1'] = preprocessed_train_q1 \n",
    "X['q2'] = preprocessed_train_q2\n",
    "\n",
    "X = train_df[['question1', 'question2']] # these are the preprocessed train features \n",
    "\n",
    "\n",
    "\n",
    "y = train_df['is_duplicate']\n",
    "from sklearn.model_selection import train_test_split\n",
    "X_train, X_test, y_train, y_test = train_test_split(X, y, test_size=0.1, random_state=88)\n",
    "\n",
    "display(X_train.shape, y_train.shape, X_test.shape, y_test.shape)\n",
    "\n",
    "# Combine chars and tokens into a dataset\n",
    "train_data = tf.data.Dataset.from_tensor_slices((X_train['question1'].tolist(), \n",
    "                                                 X_train['question2'].tolist())) # make data\n",
    "train_labels = tf.data.Dataset.from_tensor_slices(y_train) # make labels\n",
    "train_dataset = tf.data.Dataset.zip((train_data, train_labels)) # combine data and labels\n",
    "\n",
    "# Prefetch and batch train data\n",
    "train_dataset = train_dataset.batch(32).prefetch(tf.data.AUTOTUNE) \n",
    "\n",
    "# Repeat same steps validation data\n",
    "test_data = tf.data.Dataset.from_tensor_slices((X_test['question1'].tolist(), \n",
    "                                                 X_test['question2'].tolist()))\n",
    "test_labels = tf.data.Dataset.from_tensor_slices(y_test)\n",
    "test_dataset = tf.data.Dataset.zip((test_data, test_labels))\n",
    "# Prefetch and batch test data\n",
    "test_dataset = test_dataset.batch(32).prefetch(tf.data.AUTOTUNE)\n",
    "\n",
    "\n",
    "# repeat same steps for validation data\n",
    "del X_valid\n",
    "del y_valid\n",
    "X_valid = test_df[['question1', 'question2']]\n",
    "y_valid = test_df['is_duplicate']\n",
    "\n",
    "valid_data = tf.data.Dataset.from_tensor_slices((X_valid['question1'].tolist(), \n",
    "                                                 X_valid['question2'].tolist()))\n",
    "valid_labels = tf.data.Dataset.from_tensor_slices(y_valid)\n",
    "valid_dataset = tf.data.Dataset.zip((valid_data, valid_labels))\n",
    "# Prefetch and batch test data\n",
    "valid_dataset = valid_dataset.batch(32).prefetch(tf.data.AUTOTUNE)\n",
    "\n",
    "\n",
    "     \n",
    "\n",
    "# Check shape\n",
    "train_dataset, test_dataset"
   ]
  },
  {
   "cell_type": "markdown",
   "metadata": {
    "id": "AcHnMmhmf6vJ"
   },
   "source": [
    "### Model Training"
   ]
  },
  {
   "cell_type": "code",
   "execution_count": null,
   "metadata": {
    "colab": {
     "base_uri": "https://localhost:8080/"
    },
    "id": "qL4J-vKuU5pc",
    "outputId": "69910cce-a3c6-40a0-a69c-e477d15c0e20"
   },
   "outputs": [
    {
     "name": "stdout",
     "output_type": "stream",
     "text": [
      "Epoch 1/15\n",
      "229/229 [==============================] - 207s 889ms/step - loss: 0.6197 - accuracy: 0.6547 - val_loss: 0.6000 - val_accuracy: 0.6988\n",
      "Epoch 2/15\n",
      "229/229 [==============================] - 177s 771ms/step - loss: 0.5712 - accuracy: 0.7126 - val_loss: 0.5655 - val_accuracy: 0.6875\n",
      "Epoch 3/15\n",
      "229/229 [==============================] - 210s 914ms/step - loss: 0.5572 - accuracy: 0.7160 - val_loss: 0.5682 - val_accuracy: 0.7000\n",
      "Epoch 4/15\n",
      "229/229 [==============================] - 198s 864ms/step - loss: 0.5351 - accuracy: 0.7321 - val_loss: 0.5642 - val_accuracy: 0.7025\n",
      "Epoch 5/15\n",
      "229/229 [==============================] - 174s 761ms/step - loss: 0.5374 - accuracy: 0.7290 - val_loss: 0.5447 - val_accuracy: 0.7287\n",
      "Epoch 6/15\n",
      "229/229 [==============================] - 143s 626ms/step - loss: 0.5285 - accuracy: 0.7369 - val_loss: 0.5530 - val_accuracy: 0.7188\n",
      "Epoch 7/15\n",
      "229/229 [==============================] - 144s 629ms/step - loss: 0.5272 - accuracy: 0.7430 - val_loss: 0.5343 - val_accuracy: 0.7250\n",
      "Epoch 8/15\n",
      "229/229 [==============================] - 142s 618ms/step - loss: 0.5112 - accuracy: 0.7475 - val_loss: 0.5243 - val_accuracy: 0.7287\n",
      "Epoch 9/15\n",
      "229/229 [==============================] - 192s 839ms/step - loss: 0.5120 - accuracy: 0.7499 - val_loss: 0.5227 - val_accuracy: 0.7387\n",
      "Epoch 10/15\n",
      "229/229 [==============================] - 160s 698ms/step - loss: 0.5122 - accuracy: 0.7458 - val_loss: 0.5187 - val_accuracy: 0.7513\n",
      "Epoch 11/15\n",
      "229/229 [==============================] - 141s 617ms/step - loss: 0.4990 - accuracy: 0.7515 - val_loss: 0.5211 - val_accuracy: 0.7487\n",
      "Epoch 12/15\n",
      "229/229 [==============================] - 142s 621ms/step - loss: 0.5042 - accuracy: 0.7477 - val_loss: 0.5097 - val_accuracy: 0.7287\n",
      "Epoch 13/15\n",
      "229/229 [==============================] - 165s 723ms/step - loss: 0.4972 - accuracy: 0.7492 - val_loss: 0.5261 - val_accuracy: 0.7550\n",
      "Epoch 14/15\n",
      "229/229 [==============================] - 156s 684ms/step - loss: 0.4898 - accuracy: 0.7585 - val_loss: 0.5152 - val_accuracy: 0.7588\n",
      "Epoch 15/15\n",
      "229/229 [==============================] - 144s 629ms/step - loss: 0.4908 - accuracy: 0.7641 - val_loss: 0.5089 - val_accuracy: 0.7487\n"
     ]
    }
   ],
   "source": [
    "# use another callback to save the best version of the model\n",
    "model_checkpoint_callback = tf.keras.callbacks.ModelCheckpoint(\n",
    "    filepath='output3/model3',\n",
    "    save_weights_only=True,\n",
    "    monitor='val_accuracy',\n",
    "    mode='max',\n",
    "    save_best_only=True)\n",
    "\n",
    "model_3.compile(loss=\"binary_crossentropy\",\n",
    "                optimizer=tf.keras.optimizers.Adam(),\n",
    "                metrics=[\"accuracy\"])\n",
    "\n",
    "history_3 = model_3.fit(train_dataset,\n",
    "                    steps_per_epoch=int(0.02 * len(train_dataset)),\n",
    "                    epochs=15,\n",
    "                    callbacks=[callback, model_checkpoint_callback],\n",
    "                    validation_data=test_dataset,\n",
    "                    validation_steps=int(0.02 * len(test_dataset)))"
   ]
  },
  {
   "cell_type": "markdown",
   "metadata": {
    "id": "UJf8T8i_gOqN"
   },
   "source": [
    "## Model 4 - Combining all the Features\n",
    "\n",
    "The structure of this model was inspired by the Deep Learning model used in this paper (https://arxiv.org/abs/1710.06071) which was used for sequential sentence classification in medical abstracts. It involved building sub-models for text-level and character-level encodding which was concatenated before being passed through dense layers and output. \n",
    "\n",
    "My model passed the sentences through the Universal Sentence Encoder as a sub-model, then passed the engineered features (`Similarity`, also calculated from the Universal Sentence Encoder, `Common Words` ratio, and `Cosine Distance` from `doc2vec` document-level embedding through another dense sub-model. Then these outputs are concatenated and passed through a few more hidden layers then output."
   ]
  },
  {
   "cell_type": "code",
   "execution_count": 29,
   "metadata": {
    "colab": {
     "base_uri": "https://localhost:8080/",
     "height": 754
    },
    "id": "LEGHxHj-3k70",
    "outputId": "c0529718-c2b0-4c79-e516-e6c986c5c168"
   },
   "outputs": [
    {
     "data": {
      "image/png": "[encoded data removed]",
      "text/plain": [
       "<IPython.core.display.Image object>"
      ]
     },
     "execution_count": 29,
     "metadata": {},
     "output_type": "execute_result"
    }
   ],
   "source": [
    "# Q1 input/model\n",
    "q1_input = layers.Input(shape=[], dtype=tf.string, name='q1_input')\n",
    "q1_embedding = tf_hub_embedding_layer(q1_input)\n",
    "q1_output = layers.Dense(128, activation='relu')(q1_embedding)\n",
    "\n",
    "q1_model = tf.keras.Model(inputs=q1_input, \n",
    "                          outputs=q1_output)\n",
    "\n",
    "# Q2 input/model\n",
    "q2_input = layers.Input(shape=[], dtype=tf.string, name='q2_input')\n",
    "q2_embedding = tf_hub_embedding_layer(q2_input)\n",
    "q2_output = layers.Dense(128, activation='relu')(q2_embedding)\n",
    "\n",
    "q2_model = tf.keras.Model(inputs=q2_input, \n",
    "                          outputs=q2_output)\n",
    "\n",
    "\n",
    "# features input/model\n",
    "features_input = layers.Input(shape=(3,), name='features')\n",
    "features_hidden = layers.Dense(32, activation='relu')(features_input)\n",
    "features_output = layers.Dense(10, activation='relu')(features_hidden)\n",
    "\n",
    "\n",
    "features_model = tf.keras.Model(inputs=features_input, \n",
    "                                   outputs=features_output)\n",
    "\n",
    "# Concatenate Q1, Q2 and features inputs \n",
    "q1q2_concat = layers.Concatenate(name=\"q1q2_concat\")([q1_model.output,\n",
    "                                                             q2_model.output,\n",
    "                                                             features_model.output])\n",
    "\n",
    "# Create output layers \n",
    "\n",
    "combined_dense = layers.Dense(128, activation=\"relu\")(q1q2_concat) \n",
    "inner_dense = layers.Dense(32, activation='relu')(combined_dense)\n",
    "output_layer = layers.Dense(1, activation=\"sigmoid\")(inner_dense)\n",
    "\n",
    "# 5. Construct model with char and token inputs\n",
    "model_4 = tf.keras.Model(inputs=[q1_model.input, \n",
    "                                 q2_model.input,\n",
    "                                 features_model.input],\n",
    "                         outputs=output_layer,\n",
    "                         name=\"all_features\")\n",
    "\n",
    "plot_model(model_4, show_shapes=True)\n"
   ]
  },
  {
   "cell_type": "markdown",
   "metadata": {
    "id": "mI-sh9xc3lfH"
   },
   "source": [
    "### Building the Dataset"
   ]
  },
  {
   "cell_type": "code",
   "execution_count": 31,
   "metadata": {
    "id": "GtWgKMuwiNlT"
   },
   "outputs": [],
   "source": [
    "del X # clear the cache\n",
    "\n",
    "X = train_df[['similarity', 'common_words', 'cosine_distance', \n",
    "              'question1', 'question2']]\n",
    "y = train_df['is_duplicate']\n",
    "from sklearn.model_selection import train_test_split\n",
    "X_train, X_test, y_train, y_test = train_test_split(X, y, test_size=0.05, random_state=88)\n",
    "display(X_train.shape, y_train.shape, X_test.shape, y_test.shape)\n",
    "\n",
    "# the derived features\n",
    "train_features = X_train[['similarity', 'common_words', 'cosine_distance']]\n",
    "test_features = X_test[['similarity', 'common_words', 'cosine_distance']]\n",
    "\n",
    "# squeezing to avoid the shape error\n",
    "train_features_tensor = np.squeeze(train_features)\n",
    "test_features_tensor = np.squeeze(test_features)\n",
    "\n",
    "# Combine features into a dataset\n",
    "train_data = tf.data.Dataset.from_tensor_slices((X_train['question1'].tolist(), \n",
    "                                                 X_train['question2'].tolist(),\n",
    "                                                 train_features_tensor)) # make data\n",
    "train_labels = tf.data.Dataset.from_tensor_slices(y_train) # make labels\n",
    "train_dataset = tf.data.Dataset.zip((train_data, train_labels)) # combine data and labels\n",
    "\n",
    "# Prefetch and batch train data\n",
    "train_dataset = train_dataset.batch(32).prefetch(tf.data.AUTOTUNE) \n",
    "\n",
    "# Repeat same steps for test(validation) data\n",
    "test_data = tf.data.Dataset.from_tensor_slices((X_test['question1'].tolist(), \n",
    "                                                 X_test['question2'].tolist(),\n",
    "                                                 test_features_tensor))\n",
    "test_labels = tf.data.Dataset.from_tensor_slices(y_test)\n",
    "test_dataset = tf.data.Dataset.zip((test_data, test_labels))\n",
    "# Prefetch and batch test data\n",
    "test_dataset = test_dataset.batch(32).prefetch(tf.data.AUTOTUNE)\n",
    "\n",
    "\n",
    "# repeat same steps for validation data\n",
    "del X_valid\n",
    "del y_valid\n",
    "X_valid = test_df[['similarity', 'common_words', 'cosine_distance', \n",
    "              'question1', 'question2']]\n",
    "y_valid = test_df['is_duplicate']\n",
    "\n",
    "# the derived features\n",
    "valid_features = X_valid[['similarity', 'common_words', 'cosine_distance']]\n",
    "# squeezing to avoid the shape error\n",
    "valid_features_tensor = np.squeeze(valid_features)\n",
    "\n",
    "\n",
    "\n",
    "valid_data = tf.data.Dataset.from_tensor_slices((X_valid['question1'].tolist(), \n",
    "                                                 X_valid['question2'].tolist(),\n",
    "                                                 valid_features_tensor))\n",
    "valid_labels = tf.data.Dataset.from_tensor_slices(y_valid)\n",
    "valid_dataset = tf.data.Dataset.zip((valid_data, valid_labels))\n",
    "# Prefetch and batch test data\n",
    "valid_dataset = valid_dataset.batch(32).prefetch(tf.data.AUTOTUNE)\n",
    "\n",
    "\n",
    "\n"
   ]
  },
  {
   "cell_type": "markdown",
   "metadata": {
    "id": "DmYBZ30GjKJK"
   },
   "source": [
    "### Model Training"
   ]
  },
  {
   "cell_type": "code",
   "execution_count": null,
   "metadata": {
    "colab": {
     "base_uri": "https://localhost:8080/"
    },
    "id": "161-HYvMjIJN",
    "outputId": "685472ba-f8f0-4e2a-c346-56e105c4c7dd"
   },
   "outputs": [
    {
     "name": "stdout",
     "output_type": "stream",
     "text": [
      "242/242 [==============================] - 237s 969ms/step - loss: 0.1617 - accuracy: 0.9357 - val_loss: 0.5396 - val_accuracy: 0.8177\n"
     ]
    }
   ],
   "source": [
    "callback = tf.keras.callbacks.EarlyStopping(monitor='loss', patience=4)\n",
    "model_checkpoint_callback = tf.keras.callbacks.ModelCheckpoint(\n",
    "    filepath='output4/model4',\n",
    "    save_weights_only=True,\n",
    "    monitor='val_accuracy',\n",
    "    mode='max',\n",
    "    save_best_only=True)\n",
    "model_4.compile(loss=\"binary_crossentropy\",\n",
    "                optimizer=tf.keras.optimizers.Adam(),\n",
    "                metrics=[\"accuracy\"])\n",
    "# actually trained for 20 epochs as the val accuracy was \n",
    "# increasing before training data started overfitting\n",
    "history_4 = model_4.fit(train_dataset.repeat(),\n",
    "                    steps_per_epoch=int(0.02 * len(train_dataset)),\n",
    "                    epochs=1,\n",
    "                    callbacks=[callback, model_checkpoint_callback],\n",
    "                    validation_data=test_dataset,\n",
    "                    validation_steps=int(0.02 * len(test_dataset)))"
   ]
  },
  {
   "cell_type": "code",
   "execution_count": null,
   "metadata": {
    "id": "jqP3L9AxrE3m"
   },
   "outputs": [],
   "source": []
  },
  {
   "cell_type": "markdown",
   "metadata": {
    "id": "R4kgJQibcfHh"
   },
   "source": [
    "## Model 5 - More layers and dropout to Model 4\n"
   ]
  },
  {
   "cell_type": "code",
   "execution_count": 33,
   "metadata": {
    "colab": {
     "base_uri": "https://localhost:8080/",
     "height": 800
    },
    "id": "3gsfzZL74cAf",
    "outputId": "9177d978-a543-41c9-870a-92e7712e417b"
   },
   "outputs": [
    {
     "data": {
      "image/png": "[encoded data removed]",
      "text/plain": [
       "<IPython.core.display.Image object>"
      ]
     },
     "execution_count": 33,
     "metadata": {},
     "output_type": "execute_result"
    }
   ],
   "source": [
    "# Q1 inputs/model\n",
    "q1_input = layers.Input(shape=[], dtype=tf.string, name='q1_input')\n",
    "q1_embedding = tf_hub_embedding_layer(q1_input)\n",
    "q1_output = layers.Dense(128, activation='relu')(q1_embedding)\n",
    "\n",
    "q1_model = tf.keras.Model(inputs=q1_input, \n",
    "                          outputs=q1_output)\n",
    "\n",
    "# Q2 inputs/models\n",
    "q2_input = layers.Input(shape=[], dtype=tf.string, name='q2_input')\n",
    "q2_embedding = tf_hub_embedding_layer(q2_input)\n",
    "q2_output = layers.Dense(128, activation='relu')(q2_embedding)\n",
    "\n",
    "q2_model = tf.keras.Model(inputs=q2_input, \n",
    "                          outputs=q2_output)\n",
    "\n",
    "# diff_common inputs/models\n",
    "features_inputs = layers.Input(shape=(3,), name='derived_features')\n",
    "hidden_layer = layers.Dense(128, activation='relu')(features_inputs)\n",
    "features_output = layers.Dense(128, activation='relu')(hidden_layer)\n",
    "\n",
    "\n",
    "features_model = tf.keras.Model(inputs=features_inputs, \n",
    "                                   outputs=features_output)\n",
    "\n",
    "# Concatenate Q1 and Q2 inputs \n",
    "q1q2_concat = layers.Concatenate(name=\"q1q2_concat\")([q1_model.output,\n",
    "                                                             q2_model.output,\n",
    "                                                             features_model.output])\n",
    "\n",
    "# Create output layers \n",
    "combined_dropout = layers.Dropout(0.5)(q1q2_concat)\n",
    "combined_dense = layers.Dense(128, activation=\"relu\")(combined_dropout) \n",
    "final_dropout = layers.Dropout(0.5)(combined_dense)\n",
    "output_layer = layers.Dense(1, activation=\"sigmoid\")(final_dropout)\n",
    "\n",
    "# 5. Construct model with char and token inputs\n",
    "model_5 = tf.keras.Model(inputs=[q1_model.input, \n",
    "                                 q2_model.input,\n",
    "                                 features_model.input],\n",
    "                         outputs=output_layer,\n",
    "                         name=\"q1q2_and_features_complex_version\")\n",
    "\n",
    "\n",
    "plot_model(model_5, show_shapes=True)"
   ]
  },
  {
   "cell_type": "markdown",
   "metadata": {
    "id": "3vJEy5c6iUuW"
   },
   "source": [
    "### Building the Dataset"
   ]
  },
  {
   "cell_type": "code",
   "execution_count": 34,
   "metadata": {
    "id": "yaGNih-m4nhD"
   },
   "outputs": [],
   "source": [
    "# This is the same dataset as above, but repeated here for consistency.\n",
    "\n",
    "del X\n",
    "\n",
    "X = train_df[['similarity', 'common_words', 'cosine_distance', \n",
    "              'question1', 'question2']]\n",
    "y = train_df['is_duplicate']\n",
    "from sklearn.model_selection import train_test_split\n",
    "X_train, X_test, y_train, y_test = train_test_split(X, y, test_size=0.05, random_state=88)\n",
    "display(X_train.shape, y_train.shape, X_test.shape, y_test.shape)\n",
    "\n",
    "# the derived features\n",
    "train_features = X_train[['similarity', 'common_words', 'cosine_distance']]\n",
    "test_features = X_test[['similarity', 'common_words', 'cosine_distance']]\n",
    "\n",
    "# squeezing to avoid the shape error\n",
    "train_features_tensor = np.squeeze(train_features)\n",
    "test_features_tensor = np.squeeze(test_features)\n",
    "\n",
    "# Combine features into a dataset\n",
    "train_data = tf.data.Dataset.from_tensor_slices((X_train['question1'].tolist(), \n",
    "                                                 X_train['question2'].tolist(),\n",
    "                                                 train_features_tensor)) # make data\n",
    "train_labels = tf.data.Dataset.from_tensor_slices(y_train) # make labels\n",
    "train_dataset = tf.data.Dataset.zip((train_data, train_labels)) # combine data and labels\n",
    "\n",
    "# Prefetch and batch train data\n",
    "train_dataset = train_dataset.batch(32).prefetch(tf.data.AUTOTUNE) \n",
    "\n",
    "# Repeat same steps for test(validation) data\n",
    "test_data = tf.data.Dataset.from_tensor_slices((X_test['question1'].tolist(), \n",
    "                                                 X_test['question2'].tolist(),\n",
    "                                                 test_features_tensor))\n",
    "test_labels = tf.data.Dataset.from_tensor_slices(y_test)\n",
    "test_dataset = tf.data.Dataset.zip((test_data, test_labels))\n",
    "# Prefetch and batch test data\n",
    "test_dataset = test_dataset.batch(32).prefetch(tf.data.AUTOTUNE)\n",
    "\n",
    "\n",
    "# repeat same steps for validation data\n",
    "del X_valid\n",
    "del y_valid\n",
    "X_valid = test_df[['similarity', 'common_words', 'cosine_distance', \n",
    "              'question1', 'question2']]\n",
    "y_valid = test_df['is_duplicate']\n",
    "\n",
    "# the derived features\n",
    "valid_features = X_valid[['similarity', 'common_words', 'cosine_distance']]\n",
    "# squeezing to avoid the shape error\n",
    "valid_features_tensor = np.squeeze(valid_features)\n",
    "\n",
    "\n",
    "\n",
    "valid_data = tf.data.Dataset.from_tensor_slices((X_valid['question1'].tolist(), \n",
    "                                                 X_valid['question2'].tolist(),\n",
    "                                                 valid_features_tensor))\n",
    "valid_labels = tf.data.Dataset.from_tensor_slices(y_valid)\n",
    "valid_dataset = tf.data.Dataset.zip((valid_data, valid_labels))\n",
    "# Prefetch and batch test data\n",
    "valid_dataset = valid_dataset.batch(32).prefetch(tf.data.AUTOTUNE)\n",
    "\n",
    "\n",
    "\n"
   ]
  },
  {
   "cell_type": "markdown",
   "metadata": {
    "id": "A09oXl6FjOTL"
   },
   "source": [
    "### Model Training"
   ]
  },
  {
   "cell_type": "code",
   "execution_count": null,
   "metadata": {
    "colab": {
     "base_uri": "https://localhost:8080/"
    },
    "id": "JDbQQy_DFaSn",
    "outputId": "1cddb46d-95bb-4629-f8bd-7f953bb20019"
   },
   "outputs": [
    {
     "name": "stdout",
     "output_type": "stream",
     "text": [
      "Epoch 1/10\n",
      "121/121 [==============================] - 141s 1s/step - loss: 0.2230 - accuracy: 0.9117 - val_loss: 0.8835 - val_accuracy: 0.7708\n",
      "Epoch 2/10\n",
      "121/121 [==============================] - 119s 986ms/step - loss: 0.0665 - accuracy: 0.9780 - val_loss: 0.8819 - val_accuracy: 0.7865\n",
      "Epoch 3/10\n",
      "121/121 [==============================] - 153s 1s/step - loss: 0.1369 - accuracy: 0.9548 - val_loss: 0.6160 - val_accuracy: 0.8021\n",
      "Epoch 4/10\n",
      "121/121 [==============================] - 147s 1s/step - loss: 0.1209 - accuracy: 0.9540 - val_loss: 0.5138 - val_accuracy: 0.8229\n",
      "Epoch 5/10\n",
      "121/121 [==============================] - 77s 638ms/step - loss: 0.1031 - accuracy: 0.9613 - val_loss: 0.8632 - val_accuracy: 0.7760\n",
      "Epoch 6/10\n",
      "121/121 [==============================] - 76s 626ms/step - loss: 0.0748 - accuracy: 0.9739 - val_loss: 0.6724 - val_accuracy: 0.8177\n"
     ]
    }
   ],
   "source": [
    "callback = tf.keras.callbacks.EarlyStopping(monitor='loss', patience=4)\n",
    "model_checkpoint_callback = tf.keras.callbacks.ModelCheckpoint(\n",
    "    filepath='output5/model5',\n",
    "    save_weights_only=True,\n",
    "    monitor='val_accuracy',\n",
    "    mode='max',\n",
    "    save_best_only=True)\n",
    "\n",
    "model_5.compile(loss=\"binary_crossentropy\",\n",
    "                optimizer=tf.keras.optimizers.Adam(),\n",
    "                metrics=[\"accuracy\"])\n",
    "\n",
    "history_5 = model_5.fit(train_dataset.repeat(),\n",
    "                    steps_per_epoch=int(0.01 * len(train_dataset)),\n",
    "                    epochs=10,\n",
    "                    callbacks=[callback, model_checkpoint_callback],\n",
    "                    validation_data=test_dataset,\n",
    "                    validation_steps=int(0.01 * len(test_dataset)))"
   ]
  },
  {
   "cell_type": "markdown",
   "metadata": {
    "id": "PmyRdPH2DXNw"
   },
   "source": [
    "# Evaluations"
   ]
  },
  {
   "cell_type": "code",
   "execution_count": 19,
   "metadata": {
    "id": "U59pcUPHDaNR"
   },
   "outputs": [],
   "source": [
    "from sklearn.metrics import accuracy_score, precision_recall_fscore_support\n",
    "\n",
    "def calculate_results(model, X_test, y_test):\n",
    "  \"\"\"function to return scores\"\"\"\n",
    "  y_pred = tf.round(model.predict(X_test))\n",
    "  accuracy = accuracy_score(y_test, y_pred)\n",
    "  precision, recall, f1, _ = precision_recall_fscore_support(y_test, y_pred, average=\"weighted\")\n",
    "  model_results = {\"accuracy\": accuracy,\n",
    "                  \"precision\": precision,\n",
    "                  \"recall\": recall,\n",
    "                  \"f1\": f1}\n",
    "  return model_results, y_pred"
   ]
  },
  {
   "cell_type": "markdown",
   "metadata": {
    "id": "HhbyVYXqIpLQ"
   },
   "source": [
    "Note that to calculate results, we have to re-run the **Building The Dataset** cells for each Model header *before* runnning its corresponding `result` cell because the names of `valid_dataset` are reused. (It might also save time to comment out the code for the train and testing datasets and start from `del X_valid`.)\n"
   ]
  },
  {
   "cell_type": "code",
   "execution_count": 20,
   "metadata": {
    "colab": {
     "base_uri": "https://localhost:8080/"
    },
    "id": "foCLcBLYYFx4",
    "outputId": "d16d9529-52c2-4b94-e858-be354887a4c5"
   },
   "outputs": [
    {
     "name": "stdout",
     "output_type": "stream",
     "text": [
      "2527/2527 [==============================] - 13s 5ms/step\n"
     ]
    }
   ],
   "source": [
    "model.load_weights('/content/drive/MyDrive/output/models/output/model1')\n",
    "result1 = calculate_results(model, valid_dataset, y_valid)"
   ]
  },
  {
   "cell_type": "code",
   "execution_count": 24,
   "metadata": {
    "colab": {
     "base_uri": "https://localhost:8080/"
    },
    "id": "QqdwI8fBZez3",
    "outputId": "ef3bd43e-e215-4d72-9ea2-380a58a10c62"
   },
   "outputs": [
    {
     "name": "stdout",
     "output_type": "stream",
     "text": [
      "2527/2527 [==============================] - 9s 4ms/step\n"
     ]
    },
    {
     "data": {
      "text/plain": [
       "({'accuracy': 0.7167963194281262,\n",
       "  'precision': 0.7716899572857512,\n",
       "  'recall': 0.7167963194281262,\n",
       "  'f1': 0.7210268785891565},\n",
       " <tf.Tensor: shape=(80857, 1), dtype=float32, numpy=\n",
       " array([[0.],\n",
       "        [1.],\n",
       "        [0.],\n",
       "        ...,\n",
       "        [1.],\n",
       "        [0.],\n",
       "        [1.]], dtype=float32)>)"
      ]
     },
     "execution_count": 24,
     "metadata": {},
     "output_type": "execute_result"
    }
   ],
   "source": [
    "# remember to re-run 'building the dataset'\n",
    "model_2.load_weights('/content/drive/MyDrive/output/models/output2/model2')\n",
    "result2 = calculate_results(model_2, valid_dataset, y_valid)\n",
    "result2"
   ]
  },
  {
   "cell_type": "code",
   "execution_count": 28,
   "metadata": {
    "colab": {
     "base_uri": "https://localhost:8080/"
    },
    "id": "lLehMdtbZNxJ",
    "outputId": "a9744e97-1bd5-421b-c3bb-fcfb0b21668f"
   },
   "outputs": [
    {
     "name": "stdout",
     "output_type": "stream",
     "text": [
      "2527/2527 [==============================] - 86s 33ms/step\n"
     ]
    }
   ],
   "source": [
    "# remember to re-run 'building the dataset'\n",
    "model_3.load_weights('/content/drive/MyDrive/output/models/output3/model3')\n",
    "result3 = calculate_results(model_3, valid_dataset, y_valid)"
   ]
  },
  {
   "cell_type": "code",
   "execution_count": 32,
   "metadata": {
    "colab": {
     "base_uri": "https://localhost:8080/"
    },
    "id": "egUK4VQbZk6e",
    "outputId": "fb58127b-8788-4fa7-8873-ba7c9f430f91"
   },
   "outputs": [
    {
     "name": "stdout",
     "output_type": "stream",
     "text": [
      "2527/2527 [==============================] - 67s 27ms/step\n"
     ]
    }
   ],
   "source": [
    "# remember to re-run 'building the dataset'\n",
    "model_4.load_weights('/content/drive/MyDrive/output/models/output4/model4')\n",
    "result4 = calculate_results(model_4, valid_dataset, y_valid)"
   ]
  },
  {
   "cell_type": "code",
   "execution_count": 35,
   "metadata": {
    "colab": {
     "base_uri": "https://localhost:8080/"
    },
    "id": "c7ZbkA3PZkvU",
    "outputId": "040b7e73-6215-44b6-fce5-a80dedca0448"
   },
   "outputs": [
    {
     "name": "stdout",
     "output_type": "stream",
     "text": [
      "2527/2527 [==============================] - 84s 33ms/step\n"
     ]
    }
   ],
   "source": [
    "# remember to re-run 'building the dataset'\n",
    "model_5.load_weights('/content/drive/MyDrive/output/models/output5/model5')\n",
    "result5 = calculate_results(model_5, valid_dataset, y_valid)"
   ]
  },
  {
   "cell_type": "code",
   "execution_count": 51,
   "metadata": {
    "colab": {
     "base_uri": "https://localhost:8080/",
     "height": 206
    },
    "id": "fYQMxyGAbZWn",
    "outputId": "63cb5003-7807-43bd-a99d-320913b1abb3"
   },
   "outputs": [
    {
     "data": {
      "text/html": [
       "\n",
       "  <div id=\"df-6d025e4f-0931-4fed-b173-72242e1aa1d8\">\n",
       "    <div class=\"colab-df-container\">\n",
       "      <div>\n",
       "<style scoped>\n",
       "    .dataframe tbody tr th:only-of-type {\n",
       "        vertical-align: middle;\n",
       "    }\n",
       "\n",
       "    .dataframe tbody tr th {\n",
       "        vertical-align: top;\n",
       "    }\n",
       "\n",
       "    .dataframe thead th {\n",
       "        text-align: right;\n",
       "    }\n",
       "</style>\n",
       "<table border=\"1\" class=\"dataframe\">\n",
       "  <thead>\n",
       "    <tr style=\"text-align: right;\">\n",
       "      <th></th>\n",
       "      <th>accuracy</th>\n",
       "      <th>precision</th>\n",
       "      <th>recall</th>\n",
       "      <th>f1</th>\n",
       "    </tr>\n",
       "  </thead>\n",
       "  <tbody>\n",
       "    <tr>\n",
       "      <th>model1</th>\n",
       "      <td>0.713111</td>\n",
       "      <td>0.774804</td>\n",
       "      <td>0.713111</td>\n",
       "      <td>0.716947</td>\n",
       "    </tr>\n",
       "    <tr>\n",
       "      <th>model2</th>\n",
       "      <td>0.716796</td>\n",
       "      <td>0.771690</td>\n",
       "      <td>0.716796</td>\n",
       "      <td>0.721027</td>\n",
       "    </tr>\n",
       "    <tr>\n",
       "      <th>model3</th>\n",
       "      <td>0.766266</td>\n",
       "      <td>0.767514</td>\n",
       "      <td>0.766266</td>\n",
       "      <td>0.766828</td>\n",
       "    </tr>\n",
       "    <tr>\n",
       "      <th>model4</th>\n",
       "      <td>0.814314</td>\n",
       "      <td>0.815022</td>\n",
       "      <td>0.814314</td>\n",
       "      <td>0.814634</td>\n",
       "    </tr>\n",
       "    <tr>\n",
       "      <th>model5</th>\n",
       "      <td>0.779660</td>\n",
       "      <td>0.803145</td>\n",
       "      <td>0.779660</td>\n",
       "      <td>0.783349</td>\n",
       "    </tr>\n",
       "  </tbody>\n",
       "</table>\n",
       "</div>\n",
       "      <button class=\"colab-df-convert\" onclick=\"convertToInteractive('df-6d025e4f-0931-4fed-b173-72242e1aa1d8')\"\n",
       "              title=\"Convert this dataframe to an interactive table.\"\n",
       "              style=\"display:none;\">\n",
       "        \n",
       "  <svg xmlns=\"http://www.w3.org/2000/svg\" height=\"24px\"viewBox=\"0 0 24 24\"\n",
       "       width=\"24px\">\n",
       "    <path d=\"M0 0h24v24H0V0z\" fill=\"none\"/>\n",
       "    <path d=\"M18.56 5.44l.94 2.06.94-2.06 2.06-.94-2.06-.94-.94-2.06-.94 2.06-2.06.94zm-11 1L8.5 8.5l.94-2.06 2.06-.94-2.06-.94L8.5 2.5l-.94 2.06-2.06.94zm10 10l.94 2.06.94-2.06 2.06-.94-2.06-.94-.94-2.06-.94 2.06-2.06.94z\"/><path d=\"M17.41 7.96l-1.37-1.37c-.4-.4-.92-.59-1.43-.59-.52 0-1.04.2-1.43.59L10.3 9.45l-7.72 7.72c-.78.78-.78 2.05 0 2.83L4 21.41c.39.39.9.59 1.41.59.51 0 1.02-.2 1.41-.59l7.78-7.78 2.81-2.81c.8-.78.8-2.07 0-2.86zM5.41 20L4 18.59l7.72-7.72 1.47 1.35L5.41 20z\"/>\n",
       "  </svg>\n",
       "      </button>\n",
       "      \n",
       "  <style>\n",
       "    .colab-df-container {\n",
       "      display:flex;\n",
       "      flex-wrap:wrap;\n",
       "      gap: 12px;\n",
       "    }\n",
       "\n",
       "    .colab-df-convert {\n",
       "      background-color: #E8F0FE;\n",
       "      border: none;\n",
       "      border-radius: 50%;\n",
       "      cursor: pointer;\n",
       "      display: none;\n",
       "      fill: #1967D2;\n",
       "      height: 32px;\n",
       "      padding: 0 0 0 0;\n",
       "      width: 32px;\n",
       "    }\n",
       "\n",
       "    .colab-df-convert:hover {\n",
       "      background-color: #E2EBFA;\n",
       "      box-shadow: 0px 1px 2px rgba(60, 64, 67, 0.3), 0px 1px 3px 1px rgba(60, 64, 67, 0.15);\n",
       "      fill: #174EA6;\n",
       "    }\n",
       "\n",
       "    [theme=dark] .colab-df-convert {\n",
       "      background-color: #3B4455;\n",
       "      fill: #D2E3FC;\n",
       "    }\n",
       "\n",
       "    [theme=dark] .colab-df-convert:hover {\n",
       "      background-color: #434B5C;\n",
       "      box-shadow: 0px 1px 3px 1px rgba(0, 0, 0, 0.15);\n",
       "      filter: drop-shadow(0px 1px 2px rgba(0, 0, 0, 0.3));\n",
       "      fill: #FFFFFF;\n",
       "    }\n",
       "  </style>\n",
       "\n",
       "      <script>\n",
       "        const buttonEl =\n",
       "          document.querySelector('#df-6d025e4f-0931-4fed-b173-72242e1aa1d8 button.colab-df-convert');\n",
       "        buttonEl.style.display =\n",
       "          google.colab.kernel.accessAllowed ? 'block' : 'none';\n",
       "\n",
       "        async function convertToInteractive(key) {\n",
       "          const element = document.querySelector('#df-6d025e4f-0931-4fed-b173-72242e1aa1d8');\n",
       "          const dataTable =\n",
       "            await google.colab.kernel.invokeFunction('convertToInteractive',\n",
       "                                                     [key], {});\n",
       "          if (!dataTable) return;\n",
       "\n",
       "          const docLinkHtml = 'Like what you see? Visit the ' +\n",
       "            '<a target=\"_blank\" href=https://colab.research.google.com/notebooks/data_table.ipynb>data table notebook</a>'\n",
       "            + ' to learn more about interactive tables.';\n",
       "          element.innerHTML = '';\n",
       "          dataTable['output_type'] = 'display_data';\n",
       "          await google.colab.output.renderOutput(dataTable, element);\n",
       "          const docLink = document.createElement('div');\n",
       "          docLink.innerHTML = docLinkHtml;\n",
       "          element.appendChild(docLink);\n",
       "        }\n",
       "      </script>\n",
       "    </div>\n",
       "  </div>\n",
       "  "
      ],
      "text/plain": [
       "        accuracy  precision    recall        f1\n",
       "model1  0.713111   0.774804  0.713111  0.716947\n",
       "model2  0.716796   0.771690  0.716796  0.721027\n",
       "model3  0.766266   0.767514  0.766266  0.766828\n",
       "model4  0.814314   0.815022  0.814314  0.814634\n",
       "model5  0.779660   0.803145  0.779660  0.783349"
      ]
     },
     "execution_count": 51,
     "metadata": {},
     "output_type": "execute_result"
    }
   ],
   "source": [
    "all_results = pd.DataFrame([result1[0], result2[0], result3[0], result4[0], result5[0]])\n",
    "all_results.index = ['model1', 'model2', 'model3', 'model4', 'model5']\n",
    "all_results"
   ]
  },
  {
   "cell_type": "code",
   "execution_count": 50,
   "metadata": {
    "colab": {
     "base_uri": "https://localhost:8080/",
     "height": 508
    },
    "id": "gDT9fdjycHtD",
    "outputId": "8ba4fd17-5bd3-489f-f388-cc30d401bd73"
   },
   "outputs": [
    {
     "data": {
      "text/plain": [
       "Text(0.5, 1.0, 'Performance Scores')"
      ]
     },
     "execution_count": 50,
     "metadata": {},
     "output_type": "execute_result"
    },
    {
     "data": {
      "image/png": "[encoded data removed]",
      "text/plain": [
       "<Figure size 640x480 with 1 Axes>"
      ]
     },
     "metadata": {},
     "output_type": "display_data"
    }
   ],
   "source": [
    "all_results.plot(kind='bar')\n",
    "plt.legend(loc='lower right', title='Metrics')\n",
    "plt.title('Performance Scores')"
   ]
  },
  {
   "cell_type": "markdown",
   "metadata": {
    "id": "VX4L_LBYcgdK"
   },
   "source": [
    "**Observations**:\n",
    "- Model 4 outperformed Model 3, indicating that the generated features provided value/improved performance of the classifier and that the SME alone was not a sufficient predictor.\n",
    "\n",
    "- Model 5 was a more complex network with more layers and nodes. It was better than the other models but did not out-perform Model 4."
   ]
  },
  {
   "cell_type": "code",
   "execution_count": 59,
   "metadata": {
    "colab": {
     "base_uri": "https://localhost:8080/",
     "height": 112
    },
    "id": "60tuMyFneGO3",
    "outputId": "830127fd-603c-4904-f556-26bf716f6614"
   },
   "outputs": [
    {
     "data": {
      "text/html": [
       "\n",
       "  <div id=\"df-83c890b3-4d6d-43d9-a7ba-e2c138284fec\">\n",
       "    <div class=\"colab-df-container\">\n",
       "      <div>\n",
       "<style scoped>\n",
       "    .dataframe tbody tr th:only-of-type {\n",
       "        vertical-align: middle;\n",
       "    }\n",
       "\n",
       "    .dataframe tbody tr th {\n",
       "        vertical-align: top;\n",
       "    }\n",
       "\n",
       "    .dataframe thead th {\n",
       "        text-align: right;\n",
       "    }\n",
       "</style>\n",
       "<table border=\"1\" class=\"dataframe\">\n",
       "  <thead>\n",
       "    <tr style=\"text-align: right;\">\n",
       "      <th></th>\n",
       "      <th>baseline</th>\n",
       "      <th>ml_gradientbooster</th>\n",
       "    </tr>\n",
       "  </thead>\n",
       "  <tbody>\n",
       "    <tr>\n",
       "      <th>0</th>\n",
       "      <td>0.63</td>\n",
       "      <td>0.73</td>\n",
       "    </tr>\n",
       "    <tr>\n",
       "      <th>1</th>\n",
       "      <td>0.63</td>\n",
       "      <td>0.73</td>\n",
       "    </tr>\n",
       "  </tbody>\n",
       "</table>\n",
       "</div>\n",
       "      <button class=\"colab-df-convert\" onclick=\"convertToInteractive('df-83c890b3-4d6d-43d9-a7ba-e2c138284fec')\"\n",
       "              title=\"Convert this dataframe to an interactive table.\"\n",
       "              style=\"display:none;\">\n",
       "        \n",
       "  <svg xmlns=\"http://www.w3.org/2000/svg\" height=\"24px\"viewBox=\"0 0 24 24\"\n",
       "       width=\"24px\">\n",
       "    <path d=\"M0 0h24v24H0V0z\" fill=\"none\"/>\n",
       "    <path d=\"M18.56 5.44l.94 2.06.94-2.06 2.06-.94-2.06-.94-.94-2.06-.94 2.06-2.06.94zm-11 1L8.5 8.5l.94-2.06 2.06-.94-2.06-.94L8.5 2.5l-.94 2.06-2.06.94zm10 10l.94 2.06.94-2.06 2.06-.94-2.06-.94-.94-2.06-.94 2.06-2.06.94z\"/><path d=\"M17.41 7.96l-1.37-1.37c-.4-.4-.92-.59-1.43-.59-.52 0-1.04.2-1.43.59L10.3 9.45l-7.72 7.72c-.78.78-.78 2.05 0 2.83L4 21.41c.39.39.9.59 1.41.59.51 0 1.02-.2 1.41-.59l7.78-7.78 2.81-2.81c.8-.78.8-2.07 0-2.86zM5.41 20L4 18.59l7.72-7.72 1.47 1.35L5.41 20z\"/>\n",
       "  </svg>\n",
       "      </button>\n",
       "      \n",
       "  <style>\n",
       "    .colab-df-container {\n",
       "      display:flex;\n",
       "      flex-wrap:wrap;\n",
       "      gap: 12px;\n",
       "    }\n",
       "\n",
       "    .colab-df-convert {\n",
       "      background-color: #E8F0FE;\n",
       "      border: none;\n",
       "      border-radius: 50%;\n",
       "      cursor: pointer;\n",
       "      display: none;\n",
       "      fill: #1967D2;\n",
       "      height: 32px;\n",
       "      padding: 0 0 0 0;\n",
       "      width: 32px;\n",
       "    }\n",
       "\n",
       "    .colab-df-convert:hover {\n",
       "      background-color: #E2EBFA;\n",
       "      box-shadow: 0px 1px 2px rgba(60, 64, 67, 0.3), 0px 1px 3px 1px rgba(60, 64, 67, 0.15);\n",
       "      fill: #174EA6;\n",
       "    }\n",
       "\n",
       "    [theme=dark] .colab-df-convert {\n",
       "      background-color: #3B4455;\n",
       "      fill: #D2E3FC;\n",
       "    }\n",
       "\n",
       "    [theme=dark] .colab-df-convert:hover {\n",
       "      background-color: #434B5C;\n",
       "      box-shadow: 0px 1px 3px 1px rgba(0, 0, 0, 0.15);\n",
       "      filter: drop-shadow(0px 1px 2px rgba(0, 0, 0, 0.3));\n",
       "      fill: #FFFFFF;\n",
       "    }\n",
       "  </style>\n",
       "\n",
       "      <script>\n",
       "        const buttonEl =\n",
       "          document.querySelector('#df-83c890b3-4d6d-43d9-a7ba-e2c138284fec button.colab-df-convert');\n",
       "        buttonEl.style.display =\n",
       "          google.colab.kernel.accessAllowed ? 'block' : 'none';\n",
       "\n",
       "        async function convertToInteractive(key) {\n",
       "          const element = document.querySelector('#df-83c890b3-4d6d-43d9-a7ba-e2c138284fec');\n",
       "          const dataTable =\n",
       "            await google.colab.kernel.invokeFunction('convertToInteractive',\n",
       "                                                     [key], {});\n",
       "          if (!dataTable) return;\n",
       "\n",
       "          const docLinkHtml = 'Like what you see? Visit the ' +\n",
       "            '<a target=\"_blank\" href=https://colab.research.google.com/notebooks/data_table.ipynb>data table notebook</a>'\n",
       "            + ' to learn more about interactive tables.';\n",
       "          element.innerHTML = '';\n",
       "          dataTable['output_type'] = 'display_data';\n",
       "          await google.colab.output.renderOutput(dataTable, element);\n",
       "          const docLink = document.createElement('div');\n",
       "          docLink.innerHTML = docLinkHtml;\n",
       "          element.appendChild(docLink);\n",
       "        }\n",
       "      </script>\n",
       "    </div>\n",
       "  </div>\n",
       "  "
      ],
      "text/plain": [
       "   baseline  ml_gradientbooster\n",
       "0      0.63                0.73\n",
       "1      0.63                0.73"
      ]
     },
     "execution_count": 59,
     "metadata": {},
     "output_type": "execute_result"
    }
   ],
   "source": []
  },
  {
   "cell_type": "markdown",
   "metadata": {
    "id": "n7wdNsRzemTY"
   },
   "source": [
    "### Comparing results to the ML outcomes\n",
    "\n",
    "It will be interesting to compare the scores to the ML outcomes.\n",
    "\n",
    "**Updated**: The XGBooster Classifier was scored from a gridsearch performed on a fraction of the dataset, and therefore its results are not included in this frame. "
   ]
  },
  {
   "cell_type": "code",
   "execution_count": 94,
   "metadata": {
    "id": "GfOacfxicgG4"
   },
   "outputs": [],
   "source": [
    "# adding the ML scores manually\n",
    "complete_results = pd.concat([all_results['accuracy'], \n",
    "              pd.DataFrame({'ml_baseline': 0.63, \n",
    "                            'ml_gradientbooster':0.73,\n",
    "                            # 'ml_xgbooster':0.83\n",
    "                            }, index=[0]).T])\n",
    "complete_results.rename(columns={0:'accuracy'},inplace=True)"
   ]
  },
  {
   "cell_type": "code",
   "execution_count": 95,
   "metadata": {
    "colab": {
     "base_uri": "https://localhost:8080/",
     "height": 269
    },
    "id": "QqL9GKfWfHlc",
    "outputId": "bec8d7c9-44db-4db3-a7b7-06009802d2a0"
   },
   "outputs": [
    {
     "data": {
      "text/html": [
       "\n",
       "  <div id=\"df-5bf6ab6c-8e28-4d15-8685-644d672c3171\">\n",
       "    <div class=\"colab-df-container\">\n",
       "      <div>\n",
       "<style scoped>\n",
       "    .dataframe tbody tr th:only-of-type {\n",
       "        vertical-align: middle;\n",
       "    }\n",
       "\n",
       "    .dataframe tbody tr th {\n",
       "        vertical-align: top;\n",
       "    }\n",
       "\n",
       "    .dataframe thead th {\n",
       "        text-align: right;\n",
       "    }\n",
       "</style>\n",
       "<table border=\"1\" class=\"dataframe\">\n",
       "  <thead>\n",
       "    <tr style=\"text-align: right;\">\n",
       "      <th></th>\n",
       "      <th>accuracy</th>\n",
       "    </tr>\n",
       "  </thead>\n",
       "  <tbody>\n",
       "    <tr>\n",
       "      <th>model1</th>\n",
       "      <td>0.713111</td>\n",
       "    </tr>\n",
       "    <tr>\n",
       "      <th>model2</th>\n",
       "      <td>0.716796</td>\n",
       "    </tr>\n",
       "    <tr>\n",
       "      <th>model3</th>\n",
       "      <td>0.766266</td>\n",
       "    </tr>\n",
       "    <tr>\n",
       "      <th>model4</th>\n",
       "      <td>0.814314</td>\n",
       "    </tr>\n",
       "    <tr>\n",
       "      <th>model5</th>\n",
       "      <td>0.779660</td>\n",
       "    </tr>\n",
       "    <tr>\n",
       "      <th>ml_baseline</th>\n",
       "      <td>0.630000</td>\n",
       "    </tr>\n",
       "    <tr>\n",
       "      <th>ml_gradientbooster</th>\n",
       "      <td>0.730000</td>\n",
       "    </tr>\n",
       "  </tbody>\n",
       "</table>\n",
       "</div>\n",
       "      <button class=\"colab-df-convert\" onclick=\"convertToInteractive('df-5bf6ab6c-8e28-4d15-8685-644d672c3171')\"\n",
       "              title=\"Convert this dataframe to an interactive table.\"\n",
       "              style=\"display:none;\">\n",
       "        \n",
       "  <svg xmlns=\"http://www.w3.org/2000/svg\" height=\"24px\"viewBox=\"0 0 24 24\"\n",
       "       width=\"24px\">\n",
       "    <path d=\"M0 0h24v24H0V0z\" fill=\"none\"/>\n",
       "    <path d=\"M18.56 5.44l.94 2.06.94-2.06 2.06-.94-2.06-.94-.94-2.06-.94 2.06-2.06.94zm-11 1L8.5 8.5l.94-2.06 2.06-.94-2.06-.94L8.5 2.5l-.94 2.06-2.06.94zm10 10l.94 2.06.94-2.06 2.06-.94-2.06-.94-.94-2.06-.94 2.06-2.06.94z\"/><path d=\"M17.41 7.96l-1.37-1.37c-.4-.4-.92-.59-1.43-.59-.52 0-1.04.2-1.43.59L10.3 9.45l-7.72 7.72c-.78.78-.78 2.05 0 2.83L4 21.41c.39.39.9.59 1.41.59.51 0 1.02-.2 1.41-.59l7.78-7.78 2.81-2.81c.8-.78.8-2.07 0-2.86zM5.41 20L4 18.59l7.72-7.72 1.47 1.35L5.41 20z\"/>\n",
       "  </svg>\n",
       "      </button>\n",
       "      \n",
       "  <style>\n",
       "    .colab-df-container {\n",
       "      display:flex;\n",
       "      flex-wrap:wrap;\n",
       "      gap: 12px;\n",
       "    }\n",
       "\n",
       "    .colab-df-convert {\n",
       "      background-color: #E8F0FE;\n",
       "      border: none;\n",
       "      border-radius: 50%;\n",
       "      cursor: pointer;\n",
       "      display: none;\n",
       "      fill: #1967D2;\n",
       "      height: 32px;\n",
       "      padding: 0 0 0 0;\n",
       "      width: 32px;\n",
       "    }\n",
       "\n",
       "    .colab-df-convert:hover {\n",
       "      background-color: #E2EBFA;\n",
       "      box-shadow: 0px 1px 2px rgba(60, 64, 67, 0.3), 0px 1px 3px 1px rgba(60, 64, 67, 0.15);\n",
       "      fill: #174EA6;\n",
       "    }\n",
       "\n",
       "    [theme=dark] .colab-df-convert {\n",
       "      background-color: #3B4455;\n",
       "      fill: #D2E3FC;\n",
       "    }\n",
       "\n",
       "    [theme=dark] .colab-df-convert:hover {\n",
       "      background-color: #434B5C;\n",
       "      box-shadow: 0px 1px 3px 1px rgba(0, 0, 0, 0.15);\n",
       "      filter: drop-shadow(0px 1px 2px rgba(0, 0, 0, 0.3));\n",
       "      fill: #FFFFFF;\n",
       "    }\n",
       "  </style>\n",
       "\n",
       "      <script>\n",
       "        const buttonEl =\n",
       "          document.querySelector('#df-5bf6ab6c-8e28-4d15-8685-644d672c3171 button.colab-df-convert');\n",
       "        buttonEl.style.display =\n",
       "          google.colab.kernel.accessAllowed ? 'block' : 'none';\n",
       "\n",
       "        async function convertToInteractive(key) {\n",
       "          const element = document.querySelector('#df-5bf6ab6c-8e28-4d15-8685-644d672c3171');\n",
       "          const dataTable =\n",
       "            await google.colab.kernel.invokeFunction('convertToInteractive',\n",
       "                                                     [key], {});\n",
       "          if (!dataTable) return;\n",
       "\n",
       "          const docLinkHtml = 'Like what you see? Visit the ' +\n",
       "            '<a target=\"_blank\" href=https://colab.research.google.com/notebooks/data_table.ipynb>data table notebook</a>'\n",
       "            + ' to learn more about interactive tables.';\n",
       "          element.innerHTML = '';\n",
       "          dataTable['output_type'] = 'display_data';\n",
       "          await google.colab.output.renderOutput(dataTable, element);\n",
       "          const docLink = document.createElement('div');\n",
       "          docLink.innerHTML = docLinkHtml;\n",
       "          element.appendChild(docLink);\n",
       "        }\n",
       "      </script>\n",
       "    </div>\n",
       "  </div>\n",
       "  "
      ],
      "text/plain": [
       "                    accuracy\n",
       "model1              0.713111\n",
       "model2              0.716796\n",
       "model3              0.766266\n",
       "model4              0.814314\n",
       "model5              0.779660\n",
       "ml_baseline         0.630000\n",
       "ml_gradientbooster  0.730000"
      ]
     },
     "execution_count": 95,
     "metadata": {},
     "output_type": "execute_result"
    }
   ],
   "source": [
    "complete_results"
   ]
  },
  {
   "cell_type": "code",
   "execution_count": 96,
   "metadata": {
    "colab": {
     "base_uri": "https://localhost:8080/",
     "height": 470
    },
    "id": "JgktPGcyQ68T",
    "outputId": "638bcce3-1b4a-4a3c-e3a1-7b5dcab6526c"
   },
   "outputs": [
    {
     "data": {
      "text/plain": [
       "Text(0.5, 1.0, 'Performance (ML and DL)')"
      ]
     },
     "execution_count": 96,
     "metadata": {},
     "output_type": "execute_result"
    },
    {
     "data": {
      "image/png": "[encoded data removed]",
      "text/plain": [
       "<Figure size 640x480 with 1 Axes>"
      ]
     },
     "metadata": {},
     "output_type": "display_data"
    }
   ],
   "source": [
    "# visualizing the scores\n",
    "complete_results.sort_values('accuracy').plot(kind='barh', color='orange')\n",
    "plt.grid(axis='x')\n",
    "plt.title('Performance (ML and DL)')"
   ]
  },
  {
   "cell_type": "code",
   "execution_count": null,
   "metadata": {
    "id": "y2SPdT5aHaX9"
   },
   "outputs": [],
   "source": []
  }
 ],
 "metadata": {
  "accelerator": "GPU",
  "colab": {
   "gpuType": "T4",
   "provenance": [],
   "toc_visible": true
  },
  "kernelspec": {
   "display_name": "Python 3 (ipykernel)",
   "language": "python",
   "name": "python3"
  },
  "language_info": {
   "codemirror_mode": {
    "name": "ipython",
    "version": 3
   },
   "file_extension": ".py",
   "mimetype": "text/x-python",
   "name": "python",
   "nbconvert_exporter": "python",
   "pygments_lexer": "ipython3",
   "version": "3.8.16"
  }
 },
 "nbformat": 4,
 "nbformat_minor": 1
}
