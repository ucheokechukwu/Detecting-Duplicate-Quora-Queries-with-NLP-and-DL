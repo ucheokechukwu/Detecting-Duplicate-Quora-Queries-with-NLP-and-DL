{
 "cells": [
  {
   "cell_type": "markdown",
   "metadata": {},
   "source": [
    "Most of this Notebook was prepared with Google Colab. The URLs to file locations on Google Drive can be replaced by the local file path. i.e. `/content/drive/MyDrive/output/train_complete.csv` should be substituted with `../output/train_complete.csv`\n",
    "\n",
    "Please note that some files were considered too large for Git and are not available."
   ]
  },
  {
   "cell_type": "markdown",
   "metadata": {
    "id": "xsTJnCKx23jS"
   },
   "source": [
    "## Identifying Duplicate Questions"
   ]
  },
  {
   "cell_type": "markdown",
   "metadata": {
    "id": "9fuOhSAy23jU"
   },
   "source": [
    "Over 100 million people visit Quora every month, so it's no surprise that many people ask similar (or the same) questions. Various questions with the same intent can cause people to spend extra time searching for the best answer to their question, and results in members answering multiple versions of the same question. Quora uses random forest to identify duplicated questions to provide a better experience to active seekers and writers, and offer more value to both of these groups in the long term.\n",
    "Follow the steps outlined below to build the appropriate classifier model. \n",
    "\n",
    "\n",
    "Steps:\n",
    "- Download data\n",
    "- Exploration\n",
    "- Cleaning\n",
    "- Feature Engineering\n",
    "- Modeling\n",
    "\n",
    "By the end of this project you should have **a presentation that describes the model you built** and its **performance**. \n"
   ]
  },
  {
   "cell_type": "markdown",
   "metadata": {
    "id": "TdjGBm_S5bI_"
   },
   "source": [
    "# Exploratory Data Analysis"
   ]
  },
  {
   "cell_type": "code",
   "execution_count": 10,
   "metadata": {
    "id": "RELw4GgS23jV"
   },
   "outputs": [],
   "source": [
    "import matplotlib.pyplot as plt\n",
    "import pandas as pd\n",
    "import numpy as np\n",
    "import warnings\n",
    "warnings.filterwarnings('ignore')\n",
    "from tqdm import tqdm\n",
    "pd.set_option('display.max_colwidth', None) # to display full text without truncations"
   ]
  },
  {
   "cell_type": "code",
   "execution_count": 3,
   "metadata": {
    "colab": {
     "base_uri": "https://localhost:8080/"
    },
    "id": "ACNNQtAoZ6BN",
    "outputId": "2ddddfe0-15d8-4062-c107-aa5854d2b074"
   },
   "outputs": [
    {
     "name": "stdout",
     "output_type": "stream",
     "text": [
      "/bin/bash: nvidia-smi: command not found\n"
     ]
    }
   ],
   "source": [
    "!nvidia-smi -L"
   ]
  },
  {
   "cell_type": "code",
   "execution_count": 4,
   "metadata": {
    "colab": {
     "base_uri": "https://localhost:8080/"
    },
    "id": "vSMyRnzVgpAx",
    "outputId": "ffdb75d1-7647-4536-d3cd-4d5ba0d226cf"
   },
   "outputs": [
    {
     "name": "stdout",
     "output_type": "stream",
     "text": [
      "Mounted at /content/drive\n"
     ]
    }
   ],
   "source": [
    "from google.colab import drive\n",
    "drive.mount('/content/drive')"
   ]
  },
  {
   "cell_type": "code",
   "execution_count": 4,
   "metadata": {
    "id": "bww8DTnc23jW"
   },
   "outputs": [],
   "source": [
    "df = pd.read_csv(\"data/train.csv\")"
   ]
  },
  {
   "cell_type": "code",
   "execution_count": null,
   "metadata": {
    "colab": {
     "base_uri": "https://localhost:8080/",
     "height": 825
    },
    "id": "uUfqqwaQ23jW",
    "outputId": "67cb5bdf-30a9-4fe7-b050-3ae3e9d2c29f"
   },
   "outputs": [
    {
     "name": "stdout",
     "output_type": "stream",
     "text": [
      "<class 'pandas.core.frame.DataFrame'>\n",
      "RangeIndex: 404290 entries, 0 to 404289\n",
      "Data columns (total 6 columns):\n",
      " #   Column        Non-Null Count   Dtype \n",
      "---  ------        --------------   ----- \n",
      " 0   id            404290 non-null  int64 \n",
      " 1   qid1          404290 non-null  int64 \n",
      " 2   qid2          404290 non-null  int64 \n",
      " 3   question1     404289 non-null  object\n",
      " 4   question2     404288 non-null  object\n",
      " 5   is_duplicate  404290 non-null  int64 \n",
      "dtypes: int64(4), object(2)\n",
      "memory usage: 18.5+ MB\n"
     ]
    },
    {
     "data": {
      "text/plain": [
       "None"
      ]
     },
     "metadata": {},
     "output_type": "display_data"
    },
    {
     "data": {
      "text/html": [
       "\n",
       "  <div id=\"df-c474dffe-cd6f-40b7-8449-d2e0f1616ddd\">\n",
       "    <div class=\"colab-df-container\">\n",
       "      <div>\n",
       "<style scoped>\n",
       "    .dataframe tbody tr th:only-of-type {\n",
       "        vertical-align: middle;\n",
       "    }\n",
       "\n",
       "    .dataframe tbody tr th {\n",
       "        vertical-align: top;\n",
       "    }\n",
       "\n",
       "    .dataframe thead th {\n",
       "        text-align: right;\n",
       "    }\n",
       "</style>\n",
       "<table border=\"1\" class=\"dataframe\">\n",
       "  <thead>\n",
       "    <tr style=\"text-align: right;\">\n",
       "      <th></th>\n",
       "      <th>id</th>\n",
       "      <th>qid1</th>\n",
       "      <th>qid2</th>\n",
       "      <th>is_duplicate</th>\n",
       "    </tr>\n",
       "  </thead>\n",
       "  <tbody>\n",
       "    <tr>\n",
       "      <th>count</th>\n",
       "      <td>404290.000000</td>\n",
       "      <td>404290.000000</td>\n",
       "      <td>404290.000000</td>\n",
       "      <td>404290.000000</td>\n",
       "    </tr>\n",
       "    <tr>\n",
       "      <th>mean</th>\n",
       "      <td>202144.500000</td>\n",
       "      <td>217243.942418</td>\n",
       "      <td>220955.655337</td>\n",
       "      <td>0.369198</td>\n",
       "    </tr>\n",
       "    <tr>\n",
       "      <th>std</th>\n",
       "      <td>116708.614503</td>\n",
       "      <td>157751.700002</td>\n",
       "      <td>159903.182629</td>\n",
       "      <td>0.482588</td>\n",
       "    </tr>\n",
       "    <tr>\n",
       "      <th>min</th>\n",
       "      <td>0.000000</td>\n",
       "      <td>1.000000</td>\n",
       "      <td>2.000000</td>\n",
       "      <td>0.000000</td>\n",
       "    </tr>\n",
       "    <tr>\n",
       "      <th>25%</th>\n",
       "      <td>101072.250000</td>\n",
       "      <td>74437.500000</td>\n",
       "      <td>74727.000000</td>\n",
       "      <td>0.000000</td>\n",
       "    </tr>\n",
       "    <tr>\n",
       "      <th>50%</th>\n",
       "      <td>202144.500000</td>\n",
       "      <td>192182.000000</td>\n",
       "      <td>197052.000000</td>\n",
       "      <td>0.000000</td>\n",
       "    </tr>\n",
       "    <tr>\n",
       "      <th>75%</th>\n",
       "      <td>303216.750000</td>\n",
       "      <td>346573.500000</td>\n",
       "      <td>354692.500000</td>\n",
       "      <td>1.000000</td>\n",
       "    </tr>\n",
       "    <tr>\n",
       "      <th>max</th>\n",
       "      <td>404289.000000</td>\n",
       "      <td>537932.000000</td>\n",
       "      <td>537933.000000</td>\n",
       "      <td>1.000000</td>\n",
       "    </tr>\n",
       "  </tbody>\n",
       "</table>\n",
       "</div>\n",
       "      <button class=\"colab-df-convert\" onclick=\"convertToInteractive('df-c474dffe-cd6f-40b7-8449-d2e0f1616ddd')\"\n",
       "              title=\"Convert this dataframe to an interactive table.\"\n",
       "              style=\"display:none;\">\n",
       "        \n",
       "  <svg xmlns=\"http://www.w3.org/2000/svg\" height=\"24px\"viewBox=\"0 0 24 24\"\n",
       "       width=\"24px\">\n",
       "    <path d=\"M0 0h24v24H0V0z\" fill=\"none\"/>\n",
       "    <path d=\"M18.56 5.44l.94 2.06.94-2.06 2.06-.94-2.06-.94-.94-2.06-.94 2.06-2.06.94zm-11 1L8.5 8.5l.94-2.06 2.06-.94-2.06-.94L8.5 2.5l-.94 2.06-2.06.94zm10 10l.94 2.06.94-2.06 2.06-.94-2.06-.94-.94-2.06-.94 2.06-2.06.94z\"/><path d=\"M17.41 7.96l-1.37-1.37c-.4-.4-.92-.59-1.43-.59-.52 0-1.04.2-1.43.59L10.3 9.45l-7.72 7.72c-.78.78-.78 2.05 0 2.83L4 21.41c.39.39.9.59 1.41.59.51 0 1.02-.2 1.41-.59l7.78-7.78 2.81-2.81c.8-.78.8-2.07 0-2.86zM5.41 20L4 18.59l7.72-7.72 1.47 1.35L5.41 20z\"/>\n",
       "  </svg>\n",
       "      </button>\n",
       "      \n",
       "  <style>\n",
       "    .colab-df-container {\n",
       "      display:flex;\n",
       "      flex-wrap:wrap;\n",
       "      gap: 12px;\n",
       "    }\n",
       "\n",
       "    .colab-df-convert {\n",
       "      background-color: #E8F0FE;\n",
       "      border: none;\n",
       "      border-radius: 50%;\n",
       "      cursor: pointer;\n",
       "      display: none;\n",
       "      fill: #1967D2;\n",
       "      height: 32px;\n",
       "      padding: 0 0 0 0;\n",
       "      width: 32px;\n",
       "    }\n",
       "\n",
       "    .colab-df-convert:hover {\n",
       "      background-color: #E2EBFA;\n",
       "      box-shadow: 0px 1px 2px rgba(60, 64, 67, 0.3), 0px 1px 3px 1px rgba(60, 64, 67, 0.15);\n",
       "      fill: #174EA6;\n",
       "    }\n",
       "\n",
       "    [theme=dark] .colab-df-convert {\n",
       "      background-color: #3B4455;\n",
       "      fill: #D2E3FC;\n",
       "    }\n",
       "\n",
       "    [theme=dark] .colab-df-convert:hover {\n",
       "      background-color: #434B5C;\n",
       "      box-shadow: 0px 1px 3px 1px rgba(0, 0, 0, 0.15);\n",
       "      filter: drop-shadow(0px 1px 2px rgba(0, 0, 0, 0.3));\n",
       "      fill: #FFFFFF;\n",
       "    }\n",
       "  </style>\n",
       "\n",
       "      <script>\n",
       "        const buttonEl =\n",
       "          document.querySelector('#df-c474dffe-cd6f-40b7-8449-d2e0f1616ddd button.colab-df-convert');\n",
       "        buttonEl.style.display =\n",
       "          google.colab.kernel.accessAllowed ? 'block' : 'none';\n",
       "\n",
       "        async function convertToInteractive(key) {\n",
       "          const element = document.querySelector('#df-c474dffe-cd6f-40b7-8449-d2e0f1616ddd');\n",
       "          const dataTable =\n",
       "            await google.colab.kernel.invokeFunction('convertToInteractive',\n",
       "                                                     [key], {});\n",
       "          if (!dataTable) return;\n",
       "\n",
       "          const docLinkHtml = 'Like what you see? Visit the ' +\n",
       "            '<a target=\"_blank\" href=https://colab.research.google.com/notebooks/data_table.ipynb>data table notebook</a>'\n",
       "            + ' to learn more about interactive tables.';\n",
       "          element.innerHTML = '';\n",
       "          dataTable['output_type'] = 'display_data';\n",
       "          await google.colab.output.renderOutput(dataTable, element);\n",
       "          const docLink = document.createElement('div');\n",
       "          docLink.innerHTML = docLinkHtml;\n",
       "          element.appendChild(docLink);\n",
       "        }\n",
       "      </script>\n",
       "    </div>\n",
       "  </div>\n",
       "  "
      ],
      "text/plain": [
       "                  id           qid1           qid2   is_duplicate\n",
       "count  404290.000000  404290.000000  404290.000000  404290.000000\n",
       "mean   202144.500000  217243.942418  220955.655337       0.369198\n",
       "std    116708.614503  157751.700002  159903.182629       0.482588\n",
       "min         0.000000       1.000000       2.000000       0.000000\n",
       "25%    101072.250000   74437.500000   74727.000000       0.000000\n",
       "50%    202144.500000  192182.000000  197052.000000       0.000000\n",
       "75%    303216.750000  346573.500000  354692.500000       1.000000\n",
       "max    404289.000000  537932.000000  537933.000000       1.000000"
      ]
     },
     "metadata": {},
     "output_type": "display_data"
    },
    {
     "data": {
      "text/html": [
       "\n",
       "  <div id=\"df-1e449110-21e8-45c5-9f58-4388b87551b0\">\n",
       "    <div class=\"colab-df-container\">\n",
       "      <div>\n",
       "<style scoped>\n",
       "    .dataframe tbody tr th:only-of-type {\n",
       "        vertical-align: middle;\n",
       "    }\n",
       "\n",
       "    .dataframe tbody tr th {\n",
       "        vertical-align: top;\n",
       "    }\n",
       "\n",
       "    .dataframe thead th {\n",
       "        text-align: right;\n",
       "    }\n",
       "</style>\n",
       "<table border=\"1\" class=\"dataframe\">\n",
       "  <thead>\n",
       "    <tr style=\"text-align: right;\">\n",
       "      <th></th>\n",
       "      <th>id</th>\n",
       "      <th>qid1</th>\n",
       "      <th>qid2</th>\n",
       "      <th>question1</th>\n",
       "      <th>question2</th>\n",
       "      <th>is_duplicate</th>\n",
       "    </tr>\n",
       "  </thead>\n",
       "  <tbody>\n",
       "    <tr>\n",
       "      <th>0</th>\n",
       "      <td>0</td>\n",
       "      <td>1</td>\n",
       "      <td>2</td>\n",
       "      <td>What is the step by step guide to invest in share market in india?</td>\n",
       "      <td>What is the step by step guide to invest in share market?</td>\n",
       "      <td>0</td>\n",
       "    </tr>\n",
       "    <tr>\n",
       "      <th>1</th>\n",
       "      <td>1</td>\n",
       "      <td>3</td>\n",
       "      <td>4</td>\n",
       "      <td>What is the story of Kohinoor (Koh-i-Noor) Diamond?</td>\n",
       "      <td>What would happen if the Indian government stole the Kohinoor (Koh-i-Noor) diamond back?</td>\n",
       "      <td>0</td>\n",
       "    </tr>\n",
       "    <tr>\n",
       "      <th>2</th>\n",
       "      <td>2</td>\n",
       "      <td>5</td>\n",
       "      <td>6</td>\n",
       "      <td>How can I increase the speed of my internet connection while using a VPN?</td>\n",
       "      <td>How can Internet speed be increased by hacking through DNS?</td>\n",
       "      <td>0</td>\n",
       "    </tr>\n",
       "    <tr>\n",
       "      <th>3</th>\n",
       "      <td>3</td>\n",
       "      <td>7</td>\n",
       "      <td>8</td>\n",
       "      <td>Why am I mentally very lonely? How can I solve it?</td>\n",
       "      <td>Find the remainder when [math]23^{24}[/math] is divided by 24,23?</td>\n",
       "      <td>0</td>\n",
       "    </tr>\n",
       "    <tr>\n",
       "      <th>4</th>\n",
       "      <td>4</td>\n",
       "      <td>9</td>\n",
       "      <td>10</td>\n",
       "      <td>Which one dissolve in water quikly sugar, salt, methane and carbon di oxide?</td>\n",
       "      <td>Which fish would survive in salt water?</td>\n",
       "      <td>0</td>\n",
       "    </tr>\n",
       "  </tbody>\n",
       "</table>\n",
       "</div>\n",
       "      <button class=\"colab-df-convert\" onclick=\"convertToInteractive('df-1e449110-21e8-45c5-9f58-4388b87551b0')\"\n",
       "              title=\"Convert this dataframe to an interactive table.\"\n",
       "              style=\"display:none;\">\n",
       "        \n",
       "  <svg xmlns=\"http://www.w3.org/2000/svg\" height=\"24px\"viewBox=\"0 0 24 24\"\n",
       "       width=\"24px\">\n",
       "    <path d=\"M0 0h24v24H0V0z\" fill=\"none\"/>\n",
       "    <path d=\"M18.56 5.44l.94 2.06.94-2.06 2.06-.94-2.06-.94-.94-2.06-.94 2.06-2.06.94zm-11 1L8.5 8.5l.94-2.06 2.06-.94-2.06-.94L8.5 2.5l-.94 2.06-2.06.94zm10 10l.94 2.06.94-2.06 2.06-.94-2.06-.94-.94-2.06-.94 2.06-2.06.94z\"/><path d=\"M17.41 7.96l-1.37-1.37c-.4-.4-.92-.59-1.43-.59-.52 0-1.04.2-1.43.59L10.3 9.45l-7.72 7.72c-.78.78-.78 2.05 0 2.83L4 21.41c.39.39.9.59 1.41.59.51 0 1.02-.2 1.41-.59l7.78-7.78 2.81-2.81c.8-.78.8-2.07 0-2.86zM5.41 20L4 18.59l7.72-7.72 1.47 1.35L5.41 20z\"/>\n",
       "  </svg>\n",
       "      </button>\n",
       "      \n",
       "  <style>\n",
       "    .colab-df-container {\n",
       "      display:flex;\n",
       "      flex-wrap:wrap;\n",
       "      gap: 12px;\n",
       "    }\n",
       "\n",
       "    .colab-df-convert {\n",
       "      background-color: #E8F0FE;\n",
       "      border: none;\n",
       "      border-radius: 50%;\n",
       "      cursor: pointer;\n",
       "      display: none;\n",
       "      fill: #1967D2;\n",
       "      height: 32px;\n",
       "      padding: 0 0 0 0;\n",
       "      width: 32px;\n",
       "    }\n",
       "\n",
       "    .colab-df-convert:hover {\n",
       "      background-color: #E2EBFA;\n",
       "      box-shadow: 0px 1px 2px rgba(60, 64, 67, 0.3), 0px 1px 3px 1px rgba(60, 64, 67, 0.15);\n",
       "      fill: #174EA6;\n",
       "    }\n",
       "\n",
       "    [theme=dark] .colab-df-convert {\n",
       "      background-color: #3B4455;\n",
       "      fill: #D2E3FC;\n",
       "    }\n",
       "\n",
       "    [theme=dark] .colab-df-convert:hover {\n",
       "      background-color: #434B5C;\n",
       "      box-shadow: 0px 1px 3px 1px rgba(0, 0, 0, 0.15);\n",
       "      filter: drop-shadow(0px 1px 2px rgba(0, 0, 0, 0.3));\n",
       "      fill: #FFFFFF;\n",
       "    }\n",
       "  </style>\n",
       "\n",
       "      <script>\n",
       "        const buttonEl =\n",
       "          document.querySelector('#df-1e449110-21e8-45c5-9f58-4388b87551b0 button.colab-df-convert');\n",
       "        buttonEl.style.display =\n",
       "          google.colab.kernel.accessAllowed ? 'block' : 'none';\n",
       "\n",
       "        async function convertToInteractive(key) {\n",
       "          const element = document.querySelector('#df-1e449110-21e8-45c5-9f58-4388b87551b0');\n",
       "          const dataTable =\n",
       "            await google.colab.kernel.invokeFunction('convertToInteractive',\n",
       "                                                     [key], {});\n",
       "          if (!dataTable) return;\n",
       "\n",
       "          const docLinkHtml = 'Like what you see? Visit the ' +\n",
       "            '<a target=\"_blank\" href=https://colab.research.google.com/notebooks/data_table.ipynb>data table notebook</a>'\n",
       "            + ' to learn more about interactive tables.';\n",
       "          element.innerHTML = '';\n",
       "          dataTable['output_type'] = 'display_data';\n",
       "          await google.colab.output.renderOutput(dataTable, element);\n",
       "          const docLink = document.createElement('div');\n",
       "          docLink.innerHTML = docLinkHtml;\n",
       "          element.appendChild(docLink);\n",
       "        }\n",
       "      </script>\n",
       "    </div>\n",
       "  </div>\n",
       "  "
      ],
      "text/plain": [
       "   id  qid1  qid2  \\\n",
       "0   0     1     2   \n",
       "1   1     3     4   \n",
       "2   2     5     6   \n",
       "3   3     7     8   \n",
       "4   4     9    10   \n",
       "\n",
       "                                                                      question1  \\\n",
       "0            What is the step by step guide to invest in share market in india?   \n",
       "1                           What is the story of Kohinoor (Koh-i-Noor) Diamond?   \n",
       "2     How can I increase the speed of my internet connection while using a VPN?   \n",
       "3                            Why am I mentally very lonely? How can I solve it?   \n",
       "4  Which one dissolve in water quikly sugar, salt, methane and carbon di oxide?   \n",
       "\n",
       "                                                                                  question2  \\\n",
       "0                                 What is the step by step guide to invest in share market?   \n",
       "1  What would happen if the Indian government stole the Kohinoor (Koh-i-Noor) diamond back?   \n",
       "2                               How can Internet speed be increased by hacking through DNS?   \n",
       "3                         Find the remainder when [math]23^{24}[/math] is divided by 24,23?   \n",
       "4                                                   Which fish would survive in salt water?   \n",
       "\n",
       "   is_duplicate  \n",
       "0             0  \n",
       "1             0  \n",
       "2             0  \n",
       "3             0  \n",
       "4             0  "
      ]
     },
     "execution_count": 5,
     "metadata": {},
     "output_type": "execute_result"
    }
   ],
   "source": [
    "# quick data overview\n",
    "display(df.info())\n",
    "display(df.describe())\n",
    "df.head()"
   ]
  },
  {
   "cell_type": "markdown",
   "metadata": {
    "id": "hkgt5Rxj23jX"
   },
   "source": [
    "### Exploration\n",
    "\n",
    "**Checking for Null and Duplicates**. Via `info()`, already identified 3 NULL fields. Will be deleted as they are fractional compared to the entire dataset."
   ]
  },
  {
   "cell_type": "code",
   "execution_count": 5,
   "metadata": {
    "colab": {
     "base_uri": "https://localhost:8080/"
    },
    "id": "zXp-Xiqn23jX",
    "outputId": "f1b04c17-33c4-4c74-8102-114becf5bb19"
   },
   "outputs": [
    {
     "name": "stdout",
     "output_type": "stream",
     "text": [
      "<class 'pandas.core.frame.DataFrame'>\n",
      "Int64Index: 404287 entries, 0 to 404289\n",
      "Data columns (total 6 columns):\n",
      " #   Column        Non-Null Count   Dtype \n",
      "---  ------        --------------   ----- \n",
      " 0   id            404287 non-null  int64 \n",
      " 1   qid1          404287 non-null  int64 \n",
      " 2   qid2          404287 non-null  int64 \n",
      " 3   question1     404287 non-null  object\n",
      " 4   question2     404287 non-null  object\n",
      " 5   is_duplicate  404287 non-null  int64 \n",
      "dtypes: int64(4), object(2)\n",
      "memory usage: 21.6+ MB\n"
     ]
    }
   ],
   "source": [
    "df = df.dropna()\n",
    "df.info()"
   ]
  },
  {
   "cell_type": "code",
   "execution_count": 6,
   "metadata": {
    "colab": {
     "base_uri": "https://localhost:8080/"
    },
    "id": "EHK1KpLh23jY",
    "outputId": "fe4c59d9-a779-4ca4-92bb-4b65d6386478"
   },
   "outputs": [
    {
     "data": {
      "text/plain": [
       "0"
      ]
     },
     "execution_count": 6,
     "metadata": {},
     "output_type": "execute_result"
    }
   ],
   "source": [
    "# checking for duplicates \n",
    "df.duplicated().sum()"
   ]
  },
  {
   "cell_type": "code",
   "execution_count": 7,
   "metadata": {
    "colab": {
     "base_uri": "https://localhost:8080/",
     "height": 578
    },
    "id": "YSAT6XOi23jY",
    "outputId": "d7d5c8c0-fe65-4b4c-e987-d2c05574e62e"
   },
   "outputs": [
    {
     "data": {
      "text/html": [
       "\n",
       "  <div id=\"df-fa3f72d0-e575-4e4e-860a-6cf488b39102\">\n",
       "    <div class=\"colab-df-container\">\n",
       "      <div>\n",
       "<style scoped>\n",
       "    .dataframe tbody tr th:only-of-type {\n",
       "        vertical-align: middle;\n",
       "    }\n",
       "\n",
       "    .dataframe tbody tr th {\n",
       "        vertical-align: top;\n",
       "    }\n",
       "\n",
       "    .dataframe thead th {\n",
       "        text-align: right;\n",
       "    }\n",
       "</style>\n",
       "<table border=\"1\" class=\"dataframe\">\n",
       "  <thead>\n",
       "    <tr style=\"text-align: right;\">\n",
       "      <th></th>\n",
       "      <th>id</th>\n",
       "      <th>qid1</th>\n",
       "      <th>qid2</th>\n",
       "      <th>question1</th>\n",
       "      <th>question2</th>\n",
       "      <th>is_duplicate</th>\n",
       "    </tr>\n",
       "  </thead>\n",
       "  <tbody>\n",
       "    <tr>\n",
       "      <th>317608</th>\n",
       "      <td>317608</td>\n",
       "      <td>442850</td>\n",
       "      <td>442851</td>\n",
       "      <td>What's the difference between autism and schizoaffective disorder?</td>\n",
       "      <td>Can autism be confused with schizoaffective disorder?</td>\n",
       "      <td>1</td>\n",
       "    </tr>\n",
       "    <tr>\n",
       "      <th>337059</th>\n",
       "      <td>337059</td>\n",
       "      <td>58173</td>\n",
       "      <td>10859</td>\n",
       "      <td>How can I improve my English in all aspects?</td>\n",
       "      <td>How can I specifically improve my English?</td>\n",
       "      <td>1</td>\n",
       "    </tr>\n",
       "    <tr>\n",
       "      <th>73899</th>\n",
       "      <td>73899</td>\n",
       "      <td>126749</td>\n",
       "      <td>126750</td>\n",
       "      <td>What are the automobile projects related to design and analysis of automobile part?</td>\n",
       "      <td>What are a few automobile projects related to design and analysis of automobile part?</td>\n",
       "      <td>1</td>\n",
       "    </tr>\n",
       "    <tr>\n",
       "      <th>224938</th>\n",
       "      <td>224938</td>\n",
       "      <td>333155</td>\n",
       "      <td>193651</td>\n",
       "      <td>What is creamy layer?</td>\n",
       "      <td>What is OBC creamy layer and non creamy layer?</td>\n",
       "      <td>1</td>\n",
       "    </tr>\n",
       "    <tr>\n",
       "      <th>322713</th>\n",
       "      <td>322713</td>\n",
       "      <td>4291</td>\n",
       "      <td>84974</td>\n",
       "      <td>What do you think of India’s surgical strikes that took place against terrorists in Pakistan?</td>\n",
       "      <td>What you think about recent India's surgical strike in Pakistan?</td>\n",
       "      <td>1</td>\n",
       "    </tr>\n",
       "  </tbody>\n",
       "</table>\n",
       "</div>\n",
       "      <button class=\"colab-df-convert\" onclick=\"convertToInteractive('df-fa3f72d0-e575-4e4e-860a-6cf488b39102')\"\n",
       "              title=\"Convert this dataframe to an interactive table.\"\n",
       "              style=\"display:none;\">\n",
       "        \n",
       "  <svg xmlns=\"http://www.w3.org/2000/svg\" height=\"24px\"viewBox=\"0 0 24 24\"\n",
       "       width=\"24px\">\n",
       "    <path d=\"M0 0h24v24H0V0z\" fill=\"none\"/>\n",
       "    <path d=\"M18.56 5.44l.94 2.06.94-2.06 2.06-.94-2.06-.94-.94-2.06-.94 2.06-2.06.94zm-11 1L8.5 8.5l.94-2.06 2.06-.94-2.06-.94L8.5 2.5l-.94 2.06-2.06.94zm10 10l.94 2.06.94-2.06 2.06-.94-2.06-.94-.94-2.06-.94 2.06-2.06.94z\"/><path d=\"M17.41 7.96l-1.37-1.37c-.4-.4-.92-.59-1.43-.59-.52 0-1.04.2-1.43.59L10.3 9.45l-7.72 7.72c-.78.78-.78 2.05 0 2.83L4 21.41c.39.39.9.59 1.41.59.51 0 1.02-.2 1.41-.59l7.78-7.78 2.81-2.81c.8-.78.8-2.07 0-2.86zM5.41 20L4 18.59l7.72-7.72 1.47 1.35L5.41 20z\"/>\n",
       "  </svg>\n",
       "      </button>\n",
       "      \n",
       "  <style>\n",
       "    .colab-df-container {\n",
       "      display:flex;\n",
       "      flex-wrap:wrap;\n",
       "      gap: 12px;\n",
       "    }\n",
       "\n",
       "    .colab-df-convert {\n",
       "      background-color: #E8F0FE;\n",
       "      border: none;\n",
       "      border-radius: 50%;\n",
       "      cursor: pointer;\n",
       "      display: none;\n",
       "      fill: #1967D2;\n",
       "      height: 32px;\n",
       "      padding: 0 0 0 0;\n",
       "      width: 32px;\n",
       "    }\n",
       "\n",
       "    .colab-df-convert:hover {\n",
       "      background-color: #E2EBFA;\n",
       "      box-shadow: 0px 1px 2px rgba(60, 64, 67, 0.3), 0px 1px 3px 1px rgba(60, 64, 67, 0.15);\n",
       "      fill: #174EA6;\n",
       "    }\n",
       "\n",
       "    [theme=dark] .colab-df-convert {\n",
       "      background-color: #3B4455;\n",
       "      fill: #D2E3FC;\n",
       "    }\n",
       "\n",
       "    [theme=dark] .colab-df-convert:hover {\n",
       "      background-color: #434B5C;\n",
       "      box-shadow: 0px 1px 3px 1px rgba(0, 0, 0, 0.15);\n",
       "      filter: drop-shadow(0px 1px 2px rgba(0, 0, 0, 0.3));\n",
       "      fill: #FFFFFF;\n",
       "    }\n",
       "  </style>\n",
       "\n",
       "      <script>\n",
       "        const buttonEl =\n",
       "          document.querySelector('#df-fa3f72d0-e575-4e4e-860a-6cf488b39102 button.colab-df-convert');\n",
       "        buttonEl.style.display =\n",
       "          google.colab.kernel.accessAllowed ? 'block' : 'none';\n",
       "\n",
       "        async function convertToInteractive(key) {\n",
       "          const element = document.querySelector('#df-fa3f72d0-e575-4e4e-860a-6cf488b39102');\n",
       "          const dataTable =\n",
       "            await google.colab.kernel.invokeFunction('convertToInteractive',\n",
       "                                                     [key], {});\n",
       "          if (!dataTable) return;\n",
       "\n",
       "          const docLinkHtml = 'Like what you see? Visit the ' +\n",
       "            '<a target=\"_blank\" href=https://colab.research.google.com/notebooks/data_table.ipynb>data table notebook</a>'\n",
       "            + ' to learn more about interactive tables.';\n",
       "          element.innerHTML = '';\n",
       "          dataTable['output_type'] = 'display_data';\n",
       "          await google.colab.output.renderOutput(dataTable, element);\n",
       "          const docLink = document.createElement('div');\n",
       "          docLink.innerHTML = docLinkHtml;\n",
       "          element.appendChild(docLink);\n",
       "        }\n",
       "      </script>\n",
       "    </div>\n",
       "  </div>\n",
       "  "
      ],
      "text/plain": [
       "            id    qid1    qid2  \\\n",
       "317608  317608  442850  442851   \n",
       "337059  337059   58173   10859   \n",
       "73899    73899  126749  126750   \n",
       "224938  224938  333155  193651   \n",
       "322713  322713    4291   84974   \n",
       "\n",
       "                                                                                            question1  \\\n",
       "317608                             What's the difference between autism and schizoaffective disorder?   \n",
       "337059                                                   How can I improve my English in all aspects?   \n",
       "73899             What are the automobile projects related to design and analysis of automobile part?   \n",
       "224938                                                                          What is creamy layer?   \n",
       "322713  What do you think of India’s surgical strikes that took place against terrorists in Pakistan?   \n",
       "\n",
       "                                                                                    question2  \\\n",
       "317608                                  Can autism be confused with schizoaffective disorder?   \n",
       "337059                                             How can I specifically improve my English?   \n",
       "73899   What are a few automobile projects related to design and analysis of automobile part?   \n",
       "224938                                         What is OBC creamy layer and non creamy layer?   \n",
       "322713                       What you think about recent India's surgical strike in Pakistan?   \n",
       "\n",
       "        is_duplicate  \n",
       "317608             1  \n",
       "337059             1  \n",
       "73899              1  \n",
       "224938             1  \n",
       "322713             1  "
      ]
     },
     "metadata": {},
     "output_type": "display_data"
    },
    {
     "data": {
      "text/html": [
       "\n",
       "  <div id=\"df-d88528b2-5c35-4b59-ba85-a013245c2f52\">\n",
       "    <div class=\"colab-df-container\">\n",
       "      <div>\n",
       "<style scoped>\n",
       "    .dataframe tbody tr th:only-of-type {\n",
       "        vertical-align: middle;\n",
       "    }\n",
       "\n",
       "    .dataframe tbody tr th {\n",
       "        vertical-align: top;\n",
       "    }\n",
       "\n",
       "    .dataframe thead th {\n",
       "        text-align: right;\n",
       "    }\n",
       "</style>\n",
       "<table border=\"1\" class=\"dataframe\">\n",
       "  <thead>\n",
       "    <tr style=\"text-align: right;\">\n",
       "      <th></th>\n",
       "      <th>id</th>\n",
       "      <th>qid1</th>\n",
       "      <th>qid2</th>\n",
       "      <th>question1</th>\n",
       "      <th>question2</th>\n",
       "      <th>is_duplicate</th>\n",
       "    </tr>\n",
       "  </thead>\n",
       "  <tbody>\n",
       "    <tr>\n",
       "      <th>242023</th>\n",
       "      <td>242023</td>\n",
       "      <td>354146</td>\n",
       "      <td>124573</td>\n",
       "      <td>How can you stop hairs from growing in your anus?</td>\n",
       "      <td>How can I stop my hair from growing?</td>\n",
       "      <td>0</td>\n",
       "    </tr>\n",
       "    <tr>\n",
       "      <th>217678</th>\n",
       "      <td>217678</td>\n",
       "      <td>324094</td>\n",
       "      <td>324095</td>\n",
       "      <td>Who said that quiet people have the loudest minds? I keep hearing either Stephen Hawking or Stephen King.</td>\n",
       "      <td>Do Stephen Hawkings' children have ALS?</td>\n",
       "      <td>0</td>\n",
       "    </tr>\n",
       "    <tr>\n",
       "      <th>1155</th>\n",
       "      <td>1155</td>\n",
       "      <td>2302</td>\n",
       "      <td>2303</td>\n",
       "      <td>Walking 3 km daily for 60 days will lead to how much weight loss?</td>\n",
       "      <td>How do I lose weight and gain muscle?</td>\n",
       "      <td>0</td>\n",
       "    </tr>\n",
       "    <tr>\n",
       "      <th>308103</th>\n",
       "      <td>308103</td>\n",
       "      <td>431890</td>\n",
       "      <td>14376</td>\n",
       "      <td>What are good ways for an engineer to measure their own productivity?</td>\n",
       "      <td>Can you see who views your Instagram?</td>\n",
       "      <td>0</td>\n",
       "    </tr>\n",
       "    <tr>\n",
       "      <th>282618</th>\n",
       "      <td>282618</td>\n",
       "      <td>402587</td>\n",
       "      <td>402588</td>\n",
       "      <td>What is the most efficient sorting algorithm for finding largest number among 20 numbers?</td>\n",
       "      <td>How do you write an algorithm to find the sum of the first 50 numbers?</td>\n",
       "      <td>0</td>\n",
       "    </tr>\n",
       "  </tbody>\n",
       "</table>\n",
       "</div>\n",
       "      <button class=\"colab-df-convert\" onclick=\"convertToInteractive('df-d88528b2-5c35-4b59-ba85-a013245c2f52')\"\n",
       "              title=\"Convert this dataframe to an interactive table.\"\n",
       "              style=\"display:none;\">\n",
       "        \n",
       "  <svg xmlns=\"http://www.w3.org/2000/svg\" height=\"24px\"viewBox=\"0 0 24 24\"\n",
       "       width=\"24px\">\n",
       "    <path d=\"M0 0h24v24H0V0z\" fill=\"none\"/>\n",
       "    <path d=\"M18.56 5.44l.94 2.06.94-2.06 2.06-.94-2.06-.94-.94-2.06-.94 2.06-2.06.94zm-11 1L8.5 8.5l.94-2.06 2.06-.94-2.06-.94L8.5 2.5l-.94 2.06-2.06.94zm10 10l.94 2.06.94-2.06 2.06-.94-2.06-.94-.94-2.06-.94 2.06-2.06.94z\"/><path d=\"M17.41 7.96l-1.37-1.37c-.4-.4-.92-.59-1.43-.59-.52 0-1.04.2-1.43.59L10.3 9.45l-7.72 7.72c-.78.78-.78 2.05 0 2.83L4 21.41c.39.39.9.59 1.41.59.51 0 1.02-.2 1.41-.59l7.78-7.78 2.81-2.81c.8-.78.8-2.07 0-2.86zM5.41 20L4 18.59l7.72-7.72 1.47 1.35L5.41 20z\"/>\n",
       "  </svg>\n",
       "      </button>\n",
       "      \n",
       "  <style>\n",
       "    .colab-df-container {\n",
       "      display:flex;\n",
       "      flex-wrap:wrap;\n",
       "      gap: 12px;\n",
       "    }\n",
       "\n",
       "    .colab-df-convert {\n",
       "      background-color: #E8F0FE;\n",
       "      border: none;\n",
       "      border-radius: 50%;\n",
       "      cursor: pointer;\n",
       "      display: none;\n",
       "      fill: #1967D2;\n",
       "      height: 32px;\n",
       "      padding: 0 0 0 0;\n",
       "      width: 32px;\n",
       "    }\n",
       "\n",
       "    .colab-df-convert:hover {\n",
       "      background-color: #E2EBFA;\n",
       "      box-shadow: 0px 1px 2px rgba(60, 64, 67, 0.3), 0px 1px 3px 1px rgba(60, 64, 67, 0.15);\n",
       "      fill: #174EA6;\n",
       "    }\n",
       "\n",
       "    [theme=dark] .colab-df-convert {\n",
       "      background-color: #3B4455;\n",
       "      fill: #D2E3FC;\n",
       "    }\n",
       "\n",
       "    [theme=dark] .colab-df-convert:hover {\n",
       "      background-color: #434B5C;\n",
       "      box-shadow: 0px 1px 3px 1px rgba(0, 0, 0, 0.15);\n",
       "      filter: drop-shadow(0px 1px 2px rgba(0, 0, 0, 0.3));\n",
       "      fill: #FFFFFF;\n",
       "    }\n",
       "  </style>\n",
       "\n",
       "      <script>\n",
       "        const buttonEl =\n",
       "          document.querySelector('#df-d88528b2-5c35-4b59-ba85-a013245c2f52 button.colab-df-convert');\n",
       "        buttonEl.style.display =\n",
       "          google.colab.kernel.accessAllowed ? 'block' : 'none';\n",
       "\n",
       "        async function convertToInteractive(key) {\n",
       "          const element = document.querySelector('#df-d88528b2-5c35-4b59-ba85-a013245c2f52');\n",
       "          const dataTable =\n",
       "            await google.colab.kernel.invokeFunction('convertToInteractive',\n",
       "                                                     [key], {});\n",
       "          if (!dataTable) return;\n",
       "\n",
       "          const docLinkHtml = 'Like what you see? Visit the ' +\n",
       "            '<a target=\"_blank\" href=https://colab.research.google.com/notebooks/data_table.ipynb>data table notebook</a>'\n",
       "            + ' to learn more about interactive tables.';\n",
       "          element.innerHTML = '';\n",
       "          dataTable['output_type'] = 'display_data';\n",
       "          await google.colab.output.renderOutput(dataTable, element);\n",
       "          const docLink = document.createElement('div');\n",
       "          docLink.innerHTML = docLinkHtml;\n",
       "          element.appendChild(docLink);\n",
       "        }\n",
       "      </script>\n",
       "    </div>\n",
       "  </div>\n",
       "  "
      ],
      "text/plain": [
       "            id    qid1    qid2  \\\n",
       "242023  242023  354146  124573   \n",
       "217678  217678  324094  324095   \n",
       "1155      1155    2302    2303   \n",
       "308103  308103  431890   14376   \n",
       "282618  282618  402587  402588   \n",
       "\n",
       "                                                                                                        question1  \\\n",
       "242023                                                          How can you stop hairs from growing in your anus?   \n",
       "217678  Who said that quiet people have the loudest minds? I keep hearing either Stephen Hawking or Stephen King.   \n",
       "1155                                            Walking 3 km daily for 60 days will lead to how much weight loss?   \n",
       "308103                                      What are good ways for an engineer to measure their own productivity?   \n",
       "282618                  What is the most efficient sorting algorithm for finding largest number among 20 numbers?   \n",
       "\n",
       "                                                                     question2  \\\n",
       "242023                                    How can I stop my hair from growing?   \n",
       "217678                                 Do Stephen Hawkings' children have ALS?   \n",
       "1155                                     How do I lose weight and gain muscle?   \n",
       "308103                                   Can you see who views your Instagram?   \n",
       "282618  How do you write an algorithm to find the sum of the first 50 numbers?   \n",
       "\n",
       "        is_duplicate  \n",
       "242023             0  \n",
       "217678             0  \n",
       "1155               0  \n",
       "308103             0  \n",
       "282618             0  "
      ]
     },
     "execution_count": 7,
     "metadata": {},
     "output_type": "execute_result"
    }
   ],
   "source": [
    "display(df[df['is_duplicate']==1].sample(n=5))\n",
    "df[df['is_duplicate']==0].sample(n=5)"
   ]
  },
  {
   "cell_type": "code",
   "execution_count": 10,
   "metadata": {
    "colab": {
     "base_uri": "https://localhost:8080/",
     "height": 88
    },
    "id": "uW5i_jYDgRpO",
    "outputId": "083c6fc9-2622-44e0-bf27-5e41e15dd08a"
   },
   "outputs": [
    {
     "data": {
      "text/plain": [
       "0    255024\n",
       "1    149263\n",
       "Name: is_duplicate, dtype: int64"
      ]
     },
     "metadata": {},
     "output_type": "display_data"
    },
    {
     "data": {
      "text/plain": [
       "1.7085546987532074"
      ]
     },
     "execution_count": 10,
     "metadata": {},
     "output_type": "execute_result"
    }
   ],
   "source": [
    "# checking for class imbalances\n",
    "display(df['is_duplicate'].value_counts())\n",
    "df['is_duplicate'].value_counts()[0]/df['is_duplicate'].value_counts()[1]"
   ]
  },
  {
   "cell_type": "markdown",
   "metadata": {
    "id": "SX0JUahZgRaB"
   },
   "source": [
    "**Observations**: \n",
    "\n",
    "There's no designated test.csv file so a subsection of the train.csv will be set aside early to avoid leaking.\n",
    "\n",
    "There's a significant class imbalance that should be handled prior to model training.\n"
   ]
  },
  {
   "cell_type": "markdown",
   "metadata": {
    "id": "JZMgCpFYgRHF"
   },
   "source": [
    "**Important**: archived code. **Do not run** again or will over-write important data.\n",
    "```python\n",
    "# creating test_df hold out\n",
    "test_df = df.sample(frac=0.2, random_state=88)\n",
    "filter = df.index.isin(test_df.index.tolist())\n",
    "train_df = df[~filter]\n",
    "# checking for intersection\n",
    "set (train_df.index) & set(test_df.index) # should be empty to pass\n",
    "train_df.to_csv('output/train_df.csv',index=False, header=False)\n",
    "test_df.to_csv('output/test_df.csv', index=False, header=False)\n",
    "```"
   ]
  },
  {
   "cell_type": "code",
   "execution_count": 7,
   "metadata": {
    "colab": {
     "base_uri": "https://localhost:8080/",
     "height": 240
    },
    "id": "jDPK4FXKjYmJ",
    "outputId": "1ab2408c-d361-449c-bc50-0bde39d7b64f"
   },
   "outputs": [
    {
     "data": {
      "text/html": [
       "\n",
       "  <div id=\"df-41b8c57b-da4f-4ece-bce7-9b67f1716e32\">\n",
       "    <div class=\"colab-df-container\">\n",
       "      <div>\n",
       "<style scoped>\n",
       "    .dataframe tbody tr th:only-of-type {\n",
       "        vertical-align: middle;\n",
       "    }\n",
       "\n",
       "    .dataframe tbody tr th {\n",
       "        vertical-align: top;\n",
       "    }\n",
       "\n",
       "    .dataframe thead th {\n",
       "        text-align: right;\n",
       "    }\n",
       "</style>\n",
       "<table border=\"1\" class=\"dataframe\">\n",
       "  <thead>\n",
       "    <tr style=\"text-align: right;\">\n",
       "      <th></th>\n",
       "      <th>id</th>\n",
       "      <th>qid1</th>\n",
       "      <th>qid2</th>\n",
       "      <th>question1</th>\n",
       "      <th>question2</th>\n",
       "      <th>is_duplicate</th>\n",
       "    </tr>\n",
       "  </thead>\n",
       "  <tbody>\n",
       "    <tr>\n",
       "      <th>0</th>\n",
       "      <td>0</td>\n",
       "      <td>1</td>\n",
       "      <td>2</td>\n",
       "      <td>What is the step by step guide to invest in share market in india?</td>\n",
       "      <td>What is the step by step guide to invest in share market?</td>\n",
       "      <td>0</td>\n",
       "    </tr>\n",
       "    <tr>\n",
       "      <th>1</th>\n",
       "      <td>2</td>\n",
       "      <td>5</td>\n",
       "      <td>6</td>\n",
       "      <td>How can I increase the speed of my internet connection while using a VPN?</td>\n",
       "      <td>How can Internet speed be increased by hacking through DNS?</td>\n",
       "      <td>0</td>\n",
       "    </tr>\n",
       "    <tr>\n",
       "      <th>2</th>\n",
       "      <td>4</td>\n",
       "      <td>9</td>\n",
       "      <td>10</td>\n",
       "      <td>Which one dissolve in water quikly sugar, salt, methane and carbon di oxide?</td>\n",
       "      <td>Which fish would survive in salt water?</td>\n",
       "      <td>0</td>\n",
       "    </tr>\n",
       "  </tbody>\n",
       "</table>\n",
       "</div>\n",
       "      <button class=\"colab-df-convert\" onclick=\"convertToInteractive('df-41b8c57b-da4f-4ece-bce7-9b67f1716e32')\"\n",
       "              title=\"Convert this dataframe to an interactive table.\"\n",
       "              style=\"display:none;\">\n",
       "        \n",
       "  <svg xmlns=\"http://www.w3.org/2000/svg\" height=\"24px\"viewBox=\"0 0 24 24\"\n",
       "       width=\"24px\">\n",
       "    <path d=\"M0 0h24v24H0V0z\" fill=\"none\"/>\n",
       "    <path d=\"M18.56 5.44l.94 2.06.94-2.06 2.06-.94-2.06-.94-.94-2.06-.94 2.06-2.06.94zm-11 1L8.5 8.5l.94-2.06 2.06-.94-2.06-.94L8.5 2.5l-.94 2.06-2.06.94zm10 10l.94 2.06.94-2.06 2.06-.94-2.06-.94-.94-2.06-.94 2.06-2.06.94z\"/><path d=\"M17.41 7.96l-1.37-1.37c-.4-.4-.92-.59-1.43-.59-.52 0-1.04.2-1.43.59L10.3 9.45l-7.72 7.72c-.78.78-.78 2.05 0 2.83L4 21.41c.39.39.9.59 1.41.59.51 0 1.02-.2 1.41-.59l7.78-7.78 2.81-2.81c.8-.78.8-2.07 0-2.86zM5.41 20L4 18.59l7.72-7.72 1.47 1.35L5.41 20z\"/>\n",
       "  </svg>\n",
       "      </button>\n",
       "      \n",
       "  <style>\n",
       "    .colab-df-container {\n",
       "      display:flex;\n",
       "      flex-wrap:wrap;\n",
       "      gap: 12px;\n",
       "    }\n",
       "\n",
       "    .colab-df-convert {\n",
       "      background-color: #E8F0FE;\n",
       "      border: none;\n",
       "      border-radius: 50%;\n",
       "      cursor: pointer;\n",
       "      display: none;\n",
       "      fill: #1967D2;\n",
       "      height: 32px;\n",
       "      padding: 0 0 0 0;\n",
       "      width: 32px;\n",
       "    }\n",
       "\n",
       "    .colab-df-convert:hover {\n",
       "      background-color: #E2EBFA;\n",
       "      box-shadow: 0px 1px 2px rgba(60, 64, 67, 0.3), 0px 1px 3px 1px rgba(60, 64, 67, 0.15);\n",
       "      fill: #174EA6;\n",
       "    }\n",
       "\n",
       "    [theme=dark] .colab-df-convert {\n",
       "      background-color: #3B4455;\n",
       "      fill: #D2E3FC;\n",
       "    }\n",
       "\n",
       "    [theme=dark] .colab-df-convert:hover {\n",
       "      background-color: #434B5C;\n",
       "      box-shadow: 0px 1px 3px 1px rgba(0, 0, 0, 0.15);\n",
       "      filter: drop-shadow(0px 1px 2px rgba(0, 0, 0, 0.3));\n",
       "      fill: #FFFFFF;\n",
       "    }\n",
       "  </style>\n",
       "\n",
       "      <script>\n",
       "        const buttonEl =\n",
       "          document.querySelector('#df-41b8c57b-da4f-4ece-bce7-9b67f1716e32 button.colab-df-convert');\n",
       "        buttonEl.style.display =\n",
       "          google.colab.kernel.accessAllowed ? 'block' : 'none';\n",
       "\n",
       "        async function convertToInteractive(key) {\n",
       "          const element = document.querySelector('#df-41b8c57b-da4f-4ece-bce7-9b67f1716e32');\n",
       "          const dataTable =\n",
       "            await google.colab.kernel.invokeFunction('convertToInteractive',\n",
       "                                                     [key], {});\n",
       "          if (!dataTable) return;\n",
       "\n",
       "          const docLinkHtml = 'Like what you see? Visit the ' +\n",
       "            '<a target=\"_blank\" href=https://colab.research.google.com/notebooks/data_table.ipynb>data table notebook</a>'\n",
       "            + ' to learn more about interactive tables.';\n",
       "          element.innerHTML = '';\n",
       "          dataTable['output_type'] = 'display_data';\n",
       "          await google.colab.output.renderOutput(dataTable, element);\n",
       "          const docLink = document.createElement('div');\n",
       "          docLink.innerHTML = docLinkHtml;\n",
       "          element.appendChild(docLink);\n",
       "        }\n",
       "      </script>\n",
       "    </div>\n",
       "  </div>\n",
       "  "
      ],
      "text/plain": [
       "   id  qid1  qid2  \\\n",
       "0   0     1     2   \n",
       "1   2     5     6   \n",
       "2   4     9    10   \n",
       "\n",
       "                                                                      question1  \\\n",
       "0            What is the step by step guide to invest in share market in india?   \n",
       "1     How can I increase the speed of my internet connection while using a VPN?   \n",
       "2  Which one dissolve in water quikly sugar, salt, methane and carbon di oxide?   \n",
       "\n",
       "                                                     question2  is_duplicate  \n",
       "0    What is the step by step guide to invest in share market?             0  \n",
       "1  How can Internet speed be increased by hacking through DNS?             0  \n",
       "2                      Which fish would survive in salt water?             0  "
      ]
     },
     "execution_count": 7,
     "metadata": {},
     "output_type": "execute_result"
    }
   ],
   "source": [
    "train_df = pd.read_csv('/content/drive/MyDrive/output/train_df.csv')\n",
    "test_df = pd.read_csv('/content/drive/MyDrive/output/test_df.csv')\n",
    "train_df.head(3)"
   ]
  },
  {
   "cell_type": "markdown",
   "metadata": {
    "id": "U56mCXsG23ja"
   },
   "source": [
    "# Preprocessing\n",
    "\n",
    "- Tokenization\n",
    "- Stopwords cleaning\n",
    "- Removing punctuation\n",
    "- Normalizing\n",
    "- Stemming"
   ]
  },
  {
   "cell_type": "code",
   "execution_count": 1,
   "metadata": {
    "colab": {
     "base_uri": "https://localhost:8080/"
    },
    "id": "SUJ4FsWXBpsu",
    "outputId": "1a1b7db8-54a3-446e-a00e-ac4d8d13cd65"
   },
   "outputs": [
    {
     "name": "stderr",
     "output_type": "stream",
     "text": [
      "[nltk_data] Downloading package stopwords to /root/nltk_data...\n",
      "[nltk_data]   Unzipping corpora/stopwords.zip.\n"
     ]
    }
   ],
   "source": [
    "import nltk\n",
    "nltk.download('stopwords')\n",
    "import string\n",
    "\n",
    "from nltk.corpus import stopwords\n",
    "stopwords_eng = stopwords.words('english')\n",
    "\n",
    "from nltk.stem import WordNetLemmatizer\n",
    "from nltk import pos_tag, word_tokenize # to get other parts of speach\n",
    "\n",
    "import spacy\n",
    "nlp = spacy.load(\"en_core_web_sm\")"
   ]
  },
  {
   "cell_type": "code",
   "execution_count": null,
   "metadata": {
    "colab": {
     "base_uri": "https://localhost:8080/"
    },
    "id": "hGwVqaGn23ja",
    "outputId": "cce63609-1771-4800-b71b-8df61d6b7538"
   },
   "outputs": [
    {
     "data": {
      "text/plain": [
       "323430"
      ]
     },
     "execution_count": 14,
     "metadata": {},
     "output_type": "execute_result"
    }
   ],
   "source": [
    "len(train_df) # this is important!"
   ]
  },
  {
   "cell_type": "code",
   "execution_count": 8,
   "metadata": {
    "colab": {
     "base_uri": "https://localhost:8080/"
    },
    "id": "BEwWrPK223ja",
    "outputId": "6ee83107-6d0d-4386-dac7-54786a2e6533"
   },
   "outputs": [
    {
     "data": {
      "text/plain": [
       "0              What is the step by step guide to invest in share market in india?\n",
       "1       How can I increase the speed of my internet connection while using a VPN?\n",
       "2    Which one dissolve in water quikly sugar, salt, methane and carbon di oxide?\n",
       "Name: question1, dtype: object"
      ]
     },
     "execution_count": 8,
     "metadata": {},
     "output_type": "execute_result"
    }
   ],
   "source": [
    "# sample text for testing\n",
    "text = train_df['question1'][:3]\n",
    "text"
   ]
  },
  {
   "cell_type": "code",
   "execution_count": 9,
   "metadata": {
    "colab": {
     "base_uri": "https://localhost:8080/"
    },
    "id": "Ec8M2IKR23ja",
    "outputId": "2784093a-46c9-4dd2-cc1b-c191ef2d4b1a"
   },
   "outputs": [
    {
     "data": {
      "text/plain": [
       "[['step', 'step', 'guide', 'invest', 'share', 'market', 'india'],\n",
       " ['increase', 'speed', 'internet', 'connection', 'use', 'vpn'],\n",
       " ['one',\n",
       "  'dissolve',\n",
       "  'water',\n",
       "  'quikly',\n",
       "  'sugar',\n",
       "  'salt',\n",
       "  'methane',\n",
       "  'carbon',\n",
       "  'di',\n",
       "  'oxide']]"
      ]
     },
     "execution_count": 9,
     "metadata": {},
     "output_type": "execute_result"
    }
   ],
   "source": [
    "def preprocessing (documents, returnlist=True):\n",
    "  \"\"\"\n",
    "  Receives a list of documents, \n",
    "  does preprocessing on the text (strip punctuation, lemming, etc)\n",
    "  and tokenizes (splits) the text\n",
    "  can return a list of lists or a lists of sentences depending on the setting\n",
    "  \"\"\"\n",
    "  cleaned_documents = []\n",
    "  for text in documents:\n",
    "    # lower case\n",
    "    text = text.lower()\n",
    "    # stopwords clearning\n",
    "    stopwords = stopwords_eng\n",
    "    text = \" \".join([word for word in text.split() if word not in stopwords_eng])\n",
    "    \n",
    "    # removing punctuation\n",
    "    punctuation = string.punctuation\n",
    "    text = \"\".join([char for char in list(text) if char not in string.punctuation])\n",
    "\n",
    "    # normalizing\n",
    "    text = nlp(text)\n",
    "\n",
    "    # lemming & tokenize\n",
    "    text = [token.lemma_ for token in text]\n",
    "    text = text if returnlist else \" \".join(text)\n",
    "    \n",
    "    cleaned_documents.append(text)\n",
    "    \n",
    "  return cleaned_documents\n",
    "\n",
    "    \n",
    "preprocessing(text) # test"
   ]
  },
  {
   "cell_type": "markdown",
   "metadata": {
    "id": "Tgb3tEU-DPIL"
   },
   "source": [
    "# Feature Engineering with Gensim `Doc2Vec`\n",
    "https://radimrehurek.com/gensim/models/doc2vec.html\n",
    "\n",
    "`doc2vec` is a paragraph embedder - turns greater than word length text to high-dimensional vectors, and maps their semantic relationship in dynamic space. \n",
    "- Therefore, the cosine distance between the texts-as-vectors can be a measure of their semantic difference. \n",
    "- Strategy: vectorize each text with doc2vec, derive cosine difference and use as a feature.\n",
    "\n",
    "Process:\n",
    "0. Preprocess `train_df['question_1']` and `['question']` with the preprocessing function above. \n",
    "1. Build the corpus from the train_df dataset (the model is untrained).\n",
    "2. Train the model on the train_df dataset.\n",
    "3. Save the model.\n",
    "4. Vectorize the preprocessed features with `infer_vector`.\n",
    "5. Calculate `cosine_similarity` feature."
   ]
  },
  {
   "cell_type": "markdown",
   "metadata": {
    "id": "YJikgg3k33wn"
   },
   "source": [
    "### Building the Corpus"
   ]
  },
  {
   "cell_type": "code",
   "execution_count": null,
   "metadata": {
    "id": "Y4MnAEX-JmB7"
   },
   "outputs": [],
   "source": [
    "# 0. preprocessing the texts\n",
    "preprocessed_train_q1 = preprocessing(train_df['question1'])\n",
    "preprocessed_train_q2 = preprocessing(train_df['question2'])\n"
   ]
  },
  {
   "cell_type": "code",
   "execution_count": null,
   "metadata": {
    "id": "DIg1TymBJM0u"
   },
   "outputs": [],
   "source": [
    "# 1. build the vocabulary/corpus from the texts\n",
    "import gensim\n",
    "training_texts = preprocessed_train_q1 + preprocessed_train_q2\n",
    "from gensim.models.doc2vec import Doc2Vec, TaggedDocument\n",
    "train_corpus = [TaggedDocument(doc, [i]) for i, doc in enumerate(training_texts)]"
   ]
  },
  {
   "cell_type": "markdown",
   "metadata": {
    "id": "2ZSshYBYN1Ir"
   },
   "source": [
    "### Training the model"
   ]
  },
  {
   "cell_type": "code",
   "execution_count": null,
   "metadata": {
    "colab": {
     "base_uri": "https://localhost:8080/",
     "height": 572
    },
    "id": "X6QIDLZBUtT1",
    "outputId": "cc6246ee-e859-498c-a634-81f9fdd16203"
   },
   "outputs": [
    {
     "data": {
      "text/plain": [
       "(array([3.86092e+05, 2.08353e+05, 4.50280e+04, 5.57000e+03, 1.36400e+03,\n",
       "        3.30000e+02, 7.70000e+01, 1.90000e+01, 4.00000e+00, 2.00000e+00,\n",
       "        4.00000e+00, 3.00000e+00, 1.00000e+00, 1.00000e+00, 0.00000e+00,\n",
       "        0.00000e+00, 0.00000e+00, 0.00000e+00, 0.00000e+00, 1.20000e+01]),\n",
       " array([  0. ,   5.5,  11. ,  16.5,  22. ,  27.5,  33. ,  38.5,  44. ,\n",
       "         49.5,  55. ,  60.5,  66. ,  71.5,  77. ,  82.5,  88. ,  93.5,\n",
       "         99. , 104.5, 110. ]),\n",
       " <BarContainer object of 20 artists>)"
      ]
     },
     "execution_count": 26,
     "metadata": {},
     "output_type": "execute_result"
    },
    {
     "data": {
      "image/png": "[encoded data removed]",
      "text/plain": [
       "<Figure size 640x480 with 1 Axes>"
      ]
     },
     "metadata": {},
     "output_type": "display_data"
    }
   ],
   "source": [
    "# determine vector size based on the average/median word count in each row\n",
    "# plot histogram to see word count distribution\n",
    "length_of_text = []\n",
    "for text in (preprocessed_train_q1 + preprocessed_train_q2):\n",
    "  length_of_text.append(len(text))\n",
    "plt.ylabel = \"frequency\"\n",
    "plt.xlabel = \"word count\"\n",
    "plt.hist(length_of_text, bins=20)"
   ]
  },
  {
   "cell_type": "markdown",
   "metadata": {
    "id": "o-AkgMZCmWts"
   },
   "source": [
    "Based on the above, 30 is an appropriate vector size"
   ]
  },
  {
   "cell_type": "code",
   "execution_count": null,
   "metadata": {
    "id": "tgxc_eEdJY9J"
   },
   "outputs": [],
   "source": [
    "# instantiate the model\n",
    "model = Doc2Vec(vector_size=30, min_count=2, epochs=40)\n",
    "# build the vocabulary\n",
    "model.build_vocab(train_corpus)\n",
    "# train the model on the corpus\n",
    "model.train(train_corpus, total_examples=model.corpus_count, epochs=model.epochs)"
   ]
  },
  {
   "cell_type": "markdown",
   "metadata": {
    "id": "wjCGAhhm4Z98"
   },
   "source": [
    "### Saving the model"
   ]
  },
  {
   "cell_type": "markdown",
   "metadata": {
    "id": "6qEzQU_RxZte"
   },
   "source": [
    "```python\n",
    "# do not run this cell or you will overwrite the model\n",
    "model.save(\"model/d2v.model\")\n",
    "model_ = Doc2Vec.load(\"model/d2v.model\")\n",
    "model_\n",
    "```"
   ]
  },
  {
   "cell_type": "markdown",
   "metadata": {
    "id": "tOL7ZlFbN7At"
   },
   "source": [
    "### Vectorizing the texts"
   ]
  },
  {
   "cell_type": "code",
   "execution_count": null,
   "metadata": {
    "id": "-7wMnuPbJeJ6"
   },
   "outputs": [],
   "source": [
    "# vectorizing the data \n",
    "def doc2vectorization(df):\n",
    "  \"\"\"\n",
    "  input: list of list of words\n",
    "  output: vectors\n",
    "  \"\"\"\n",
    "  vectors = []\n",
    "  sentences = df.copy()\n",
    "  for sentence in sentences:\n",
    "    vector = model_.infer_vector(sentence)\n",
    "    vectors.append(vector)\n",
    "  return vectors"
   ]
  },
  {
   "cell_type": "code",
   "execution_count": null,
   "metadata": {
    "id": "Us0HHwH6vxgt"
   },
   "outputs": [],
   "source": [
    "q1vector = doc2vectorization(preprocessed_train_q1)\n",
    "q2vector = doc2vectorization(preprocessed_train_q2)"
   ]
  },
  {
   "cell_type": "code",
   "execution_count": null,
   "metadata": {
    "id": "-AORd8mZ5F-x"
   },
   "outputs": [],
   "source": [
    "# saving documents\n",
    "\n",
    "pd.DataFrame(preprocessed_train_q1).to_csv('output/preprocessed_train_1.csv', \n",
    "                                           index=False, header=False)\n",
    "pd.DataFrame(preprocessed_train_q2).to_csv('output/preprocessed_train_2.csv', \n",
    "                                           index=False, header=False)\n",
    "pd.DataFrame(q1vector).to_csv('output/q1vector.csv', \n",
    "                                           index=False, header=False)\n",
    "pd.DataFrame(q2vector).to_csv('output/q2vector.csv', \n",
    "                                           index=False, header=False)"
   ]
  },
  {
   "cell_type": "markdown",
   "metadata": {
    "id": "zhz7YWP6Ef4c"
   },
   "source": [
    "#### Check point\n",
    "**continue from here** \n",
    "At this point my system crashed because it had used up all the RAM. "
   ]
  },
  {
   "cell_type": "code",
   "execution_count": null,
   "metadata": {
    "colab": {
     "base_uri": "https://localhost:8080/"
    },
    "id": "2Vbf8JgGEvF1",
    "outputId": "0007bff2-45d0-43a6-aea9-082a07b64bfc"
   },
   "outputs": [
    {
     "data": {
      "text/plain": [
       "((323430, 30), (323430, 30))"
      ]
     },
     "execution_count": 25,
     "metadata": {},
     "output_type": "execute_result"
    }
   ],
   "source": [
    "import pandas as pd\n",
    "import numpy as np\n",
    "# reloading data\n",
    "q1vector = pd.read_csv('output/q1vector.csv')\n",
    "q2vector = pd.read_csv('output/q2vector.csv')\n",
    "q1vector_n = np.array(q1vector)\n",
    "q2vector_n = np.array(q2vector)\n",
    "# checking shape to confirm. should be 323430 rows\n",
    "q1vector_n.shape, q2vector_n.shape\n"
   ]
  },
  {
   "cell_type": "markdown",
   "metadata": {
    "id": "1wP-2dVT9LQ_"
   },
   "source": [
    "### Calculate the Cosine Similarity Feature"
   ]
  },
  {
   "cell_type": "code",
   "execution_count": null,
   "metadata": {
    "id": "CayZ5Sk_23jb"
   },
   "outputs": [],
   "source": [
    "# import cosine similarity \n",
    "from sklearn.metrics.pairwise import cosine_similarity\n",
    "# row-by-row calculation with list concatenation\n",
    "cos_q1q2 = [cosine_similarity(q1vector_n[i:i+1], q2vector_n[i:i+1]) for i in range(323430)]\n",
    "cos_q1q2 = np.squeeze(np.array(cos_q1q2))\n"
   ]
  },
  {
   "cell_type": "code",
   "execution_count": null,
   "metadata": {
    "colab": {
     "base_uri": "https://localhost:8080/"
    },
    "id": "JGGYr1iw5Ixk",
    "outputId": "60a1e813-063f-43e0-9704-575f79048214"
   },
   "outputs": [
    {
     "data": {
      "text/plain": [
       "(323430,)"
      ]
     },
     "execution_count": 40,
     "metadata": {},
     "output_type": "execute_result"
    }
   ],
   "source": [
    "cos_q1q2.shape #323430?"
   ]
  },
  {
   "cell_type": "markdown",
   "metadata": {
    "id": "1XCPzuf15JQW"
   },
   "source": [
    "**Important**: shape is **`323430`** long"
   ]
  },
  {
   "cell_type": "markdown",
   "metadata": {
    "id": "QvSNpte7-cx-"
   },
   "source": [
    "### Vectorizing and creating features for the test data\n",
    "\n",
    "The above will be repeated for the test data. The test data has to go through the same process as the train data if it will eventually pass through the classifier. However note that like with the convetional 'fit & transform', the test data was not used to build/train the `Doc2Vec` vectorizer. Ideally the vectorizer and preprocessing stages should be part of a pipeline, but they're too computationally expensive to be done 'trivially'. "
   ]
  },
  {
   "cell_type": "code",
   "execution_count": null,
   "metadata": {
    "id": "rcg2ytIs5JrE"
   },
   "outputs": [],
   "source": [
    "# repeating the steps from processing text to getting cosine distance\n",
    "preprocessed_test_q1 = preprocessing(test_df['question1'])\n",
    "preprocessed_test_q2 = preprocessing(test_df['question2'])\n",
    "q1vector_test = doc2vectorization(preprocessed_test_q1)\n",
    "q2vector_test = doc2vectorization(preprocessed_test_q2)\n",
    "q1vector_n_test = np.array(q1vector_test)\n",
    "q2vector_n_test = np.array(q2vector_test)\n",
    "\n"
   ]
  },
  {
   "cell_type": "code",
   "execution_count": null,
   "metadata": {
    "id": "OIZxZU7UwWvr"
   },
   "outputs": [],
   "source": [
    "# cosine similarity for the test df\n",
    "from sklearn.metrics.pairwise import cosine_similarity\n",
    "cos_q1q2_test = [cosine_similarity(q1vector_n_test[i:i+1], q2vector_n_test[i:i+1]) for i in range(80857)]"
   ]
  },
  {
   "cell_type": "code",
   "execution_count": null,
   "metadata": {
    "id": "wxk64ccDv7Ie"
   },
   "outputs": [],
   "source": [
    "cos_q1q2_test = np.squeeze(np.array(cos_q1q2_test))\n"
   ]
  },
  {
   "cell_type": "code",
   "execution_count": 15,
   "metadata": {
    "id": "k3iw0Xtwrsmf"
   },
   "outputs": [],
   "source": [
    "# inserting the new features\n",
    "train_df['cosine_distance'] =  cos_q1q2\n",
    "test_df['cosine_distance'] = cos_q1q2_test"
   ]
  },
  {
   "cell_type": "code",
   "execution_count": null,
   "metadata": {
    "id": "QGGB464u5Jug"
   },
   "outputs": [],
   "source": [
    "# saving\n",
    "pd.DataFrame(cos_q1q2).to_csv('output/cos_q1q2.csv', \n",
    "                                           index=False, header=False)\n",
    "pd.DataFrame(cos_q1q2_test).to_csv('output/cos_q1q2_test.csv', \n",
    "                                           index=False, header=False)\n",
    "pd.DataFrame(preprocessed_test_q1).to_csv('output/preprocessed_test_1.csv', \n",
    "                                           index=False, header=False)\n",
    "pd.DataFrame(preprocessed_test_q2).to_csv('output/preprocessed_test_2.csv', \n",
    "                                           index=False, header=False)\n",
    "pd.DataFrame(q1vector_test).to_csv('output/q1vector_test.csv', \n",
    "                                           index=False, header=False)\n",
    "pd.DataFrame(q2vector_test).to_csv('output/q2vector_test.csv', \n",
    "                                           index=False, header=False)"
   ]
  },
  {
   "cell_type": "code",
   "execution_count": null,
   "metadata": {
    "colab": {
     "base_uri": "https://localhost:8080/"
    },
    "id": "oNxDaqC64wf7",
    "outputId": "1621bf8d-b82e-4f1f-ab7f-507cf394c49c"
   },
   "outputs": [
    {
     "name": "stdout",
     "output_type": "stream",
     "text": [
      "Mounted at /content/drive\n"
     ]
    }
   ],
   "source": [
    "from google.colab import drive\n",
    "drive.mount('/content/drive')"
   ]
  },
  {
   "cell_type": "markdown",
   "metadata": {
    "id": "HA4yROtE2iww"
   },
   "source": [
    "# Feature Engineering with TF Hub Universal Sentence Encoder\n",
    "\n",
    "https://tfhub.dev/google/universal-sentence-encoder/4\n",
    "\n",
    "https://colab.research.google.com/github/tensorflow/hub/blob/master/examples/colab/semantic_similarity_with_tf_hub_universal_encoder.ipynb#scrollTo=BnvjATdy64eR\n",
    "\n",
    "Like Doc2Vec also maps semantic similarities between longer-than-one-word texts. Unlike Doc2Vec comes with pretrained weights. Can be used as both a feature extractor and as a model/classifier.\n",
    "\n",
    "Strategy: Use the USE to generate sentence embeddings, and use `np.inner` to calculate the semantic distance between sentences. (Note text should **not** be preprocessed) Generate new feature called `similarity`."
   ]
  },
  {
   "cell_type": "code",
   "execution_count": null,
   "metadata": {
    "id": "u0YDojUe2iZy"
   },
   "outputs": [],
   "source": [
    "# install requirements\n",
    "from absl import logging\n",
    "import tensorflow as tf\n",
    "import matplotlib.pyplot as plt\n",
    "import numpy as np\n",
    "import os\n",
    "import pandas as pd\n",
    "import re\n",
    "import seaborn as sns\n",
    "\n"
   ]
  },
  {
   "cell_type": "code",
   "execution_count": null,
   "metadata": {
    "colab": {
     "base_uri": "https://localhost:8080/"
    },
    "id": "A0sB0gsa2mFl",
    "outputId": "ca5a2bf5-1c4e-4d7d-d5c5-84190c8d916b"
   },
   "outputs": [
    {
     "name": "stderr",
     "output_type": "stream",
     "text": [
      "100%|██████████| 80857/80857 [10:10<00:00, 132.48it/s]\n"
     ]
    }
   ],
   "source": [
    "# load the USE embedder\n",
    "import tensorflow_hub as hub\n",
    "embed = hub.load(\"https://tfhub.dev/google/universal-sentence-encoder/4\")\n",
    "\n",
    "# embed the train data\n",
    "train_embeddings = []\n",
    "for idx in tqdm(train_df.index):\n",
    "  result = embed([train_df.loc[idx,'question1'],\n",
    "                  train_df.loc[idx,'question2']])\n",
    "  embedding = np.inner(result, result)[1][0]\n",
    "  train_embeddings.append(embedding)\n",
    "# embed the test data\n",
    "test_embeddings = []\n",
    "for idx in tqdm(test_df.index):\n",
    "  result = embed([test_df.loc[idx,'question1'],\n",
    "                  test_df.loc[idx,'question2']])\n",
    "  embedding = np.inner(result, result)[1][0]\n",
    "  test_embeddings.append(embedding)"
   ]
  },
  {
   "cell_type": "code",
   "execution_count": null,
   "metadata": {
    "id": "uJQf5Sa2sG22"
   },
   "outputs": [],
   "source": [
    "# inserting the new features\n",
    "train_df['similarity'] =  train_embeddings\n",
    "test_df['similarity'] = test_embeddings"
   ]
  },
  {
   "cell_type": "code",
   "execution_count": null,
   "metadata": {
    "id": "7j14ah6w2mfD"
   },
   "outputs": [],
   "source": [
    "# saving\n",
    "pd.DataFrame(train_embeddings).to_csv('/content/drive/MyDrive/output/train_embeddings.csv', index=False)\n",
    "pd.DataFrame(test_embeddings).to_csv('/content/drive/MyDrive/output/test_embeddings.csv', index=False)"
   ]
  },
  {
   "cell_type": "markdown",
   "metadata": {
    "id": "wJRj0IYYGjwv"
   },
   "source": [
    "# Feature Engineering - Common Words\n",
    "\n",
    "Using simple set functionality, we will create a 'common_words' features that gives the ratio of common words between questions."
   ]
  },
  {
   "cell_type": "code",
   "execution_count": 43,
   "metadata": {
    "colab": {
     "base_uri": "https://localhost:8080/"
    },
    "id": "cm_4IqN99FrB",
    "outputId": "d5a069ea-32e5-425e-eb71-c8248fba13cc"
   },
   "outputs": [
    {
     "name": "stderr",
     "output_type": "stream",
     "text": [
      "100%|██████████| 80857/80857 [00:08<00:00, 10091.56it/s]\n",
      "100%|██████████| 323430/323430 [00:45<00:00, 7115.99it/s]\n"
     ]
    }
   ],
   "source": [
    "from tqdm import tqdm\n",
    "# the function is performed on preprocessed text\n",
    "# test df\n",
    "tmp_q1 = preprocessed_test_q1.fillna(\"\")\n",
    "tmp_q2 = preprocessed_test_q2.fillna(\"\")\n",
    "test_feature_commonality = []\n",
    "for idx in tqdm(tmp_q1.index):\n",
    "  q1 = set(tmp_q1.loc[idx])\n",
    "  q2 = set(tmp_q2.loc[idx])\n",
    "  try:\n",
    "    commonality = len(q1.difference(q2))/len(q1.union(q2))\n",
    "  except:\n",
    "    commonality = 0 # catching zero division errors\n",
    "  test_feature_commonality.append(commonality)\n",
    "\n",
    "# train df\n",
    "tmp_q1 = preprocessed_train_q1.fillna(\"\")\n",
    "tmp_q2 = preprocessed_train_q2.fillna(\"\")\n",
    "train_feature_commonality = []\n",
    "for idx in tqdm(range(len(tmp_q1))):\n",
    "  q1 = set(tmp_q1.loc[idx])\n",
    "  q2 = set(tmp_q2.loc[idx])\n",
    "  try:\n",
    "    commonality = len(q1.difference(q2))/len(q1.union(q2))\n",
    "  except:\n",
    "    commonality = 0\n",
    "  train_feature_commonality.append(commonality)\n",
    "\n",
    "# reshaping to avoid a problem passing into the model\n",
    "train_feature_commonality = np.array(train_feature_commonality).reshape(-1,1)\n",
    "test_feature_commonality = np.array(test_feature_commonality).reshape(-1,1)\n"
   ]
  },
  {
   "cell_type": "code",
   "execution_count": 44,
   "metadata": {
    "id": "M-r5dsw-GkBk"
   },
   "outputs": [],
   "source": [
    "train_df['common_words'] = train_feature_commonality\n",
    "test_df['common_words'] = test_feature_commonality"
   ]
  },
  {
   "cell_type": "code",
   "execution_count": null,
   "metadata": {
    "id": "SC1OXhKWGkPR"
   },
   "outputs": [],
   "source": [
    "train_df['cosine_distance'] =  pd.read_csv('/content/drive/MyDrive/output/cos_q1q2.csv',\n",
    "                        header=None)\n",
    "test_df['cosine_distance'] = pd.read_csv('/content/drive/MyDrive/output/cos_q1q2_test.csv',\n",
    "                            header=None)"
   ]
  },
  {
   "cell_type": "markdown",
   "metadata": {
    "id": "elD-6O7nrjqc"
   },
   "source": [
    "# Statistical Analysis\n",
    "Checking the features with visualizations and statistical tests to see if they are statistically significant i.e. have any value to the model."
   ]
  },
  {
   "cell_type": "code",
   "execution_count": 28,
   "metadata": {
    "id": "6GLKewQ8sv-y"
   },
   "outputs": [],
   "source": [
    "import seaborn as sns\n",
    "from scipy.stats import f_oneway"
   ]
  },
  {
   "cell_type": "code",
   "execution_count": 30,
   "metadata": {
    "colab": {
     "base_uri": "https://localhost:8080/",
     "height": 1000
    },
    "id": "XX_jUM6rs3MK",
    "outputId": "3a4884c6-dcaf-4f80-f7fc-ae6c26ab8c53"
   },
   "outputs": [
    {
     "data": {
      "image/png": "[encoded data removed]",
      "text/plain": [
       "<Figure size 640x480 with 1 Axes>"
      ]
     },
     "metadata": {},
     "output_type": "display_data"
    },
    {
     "data": {
      "text/plain": [
       "0.0"
      ]
     },
     "metadata": {},
     "output_type": "display_data"
    },
    {
     "name": "stdout",
     "output_type": "stream",
     "text": [
      "cosine_distance and is_duplicate are possibly correlated.\n"
     ]
    },
    {
     "data": {
      "image/png": "[encoded data removed]",
      "text/plain": [
       "<Figure size 640x480 with 1 Axes>"
      ]
     },
     "metadata": {},
     "output_type": "display_data"
    },
    {
     "data": {
      "text/plain": [
       "0.0"
      ]
     },
     "metadata": {},
     "output_type": "display_data"
    },
    {
     "name": "stdout",
     "output_type": "stream",
     "text": [
      "common_words and is_duplicate are possibly correlated.\n"
     ]
    },
    {
     "data": {
      "image/png": "[encoded data removed]",
      "text/plain": [
       "<Figure size 640x480 with 1 Axes>"
      ]
     },
     "metadata": {},
     "output_type": "display_data"
    },
    {
     "data": {
      "text/plain": [
       "0.0"
      ]
     },
     "metadata": {},
     "output_type": "display_data"
    },
    {
     "name": "stdout",
     "output_type": "stream",
     "text": [
      "similarity and is_duplicate are possibly correlated.\n"
     ]
    }
   ],
   "source": [
    "for col in ['cosine_distance', 'common_words', 'similarity']:\n",
    "\n",
    "  sns.barplot(data=train_df, x='is_duplicate', y=col)\n",
    "  plt.show()\n",
    "\n",
    "\n",
    "  catgroup = train_df.groupby('is_duplicate')[col].apply(list)\n",
    "  p = f_oneway(*catgroup)[1]\n",
    "  display(p)\n",
    "  print (f\"{col} and is_duplicate are possibly\",\n",
    "            \"correlated.\" if p<0.05 else \"not correlated.\")"
   ]
  },
  {
   "cell_type": "code",
   "execution_count": null,
   "metadata": {
    "colab": {
     "base_uri": "https://localhost:8080/",
     "height": 1000
    },
    "id": "RUyTToSS2Xus",
    "outputId": "54da61bc-f2a3-41ac-9f1c-4a99d6907fa3"
   },
   "outputs": [
    {
     "name": "stderr",
     "output_type": "stream",
     "text": [
      "/usr/local/lib/python3.10/dist-packages/seaborn/axisgrid.py:118: UserWarning: Creating legend with loc=\"best\" can be slow with large amounts of data.\n",
      "  self._figure.tight_layout(*args, **kwargs)\n"
     ]
    },
    {
     "data": {
      "image/png": "[encoded data removed]",
      "text/plain": [
       "<Figure size 593.611x500 with 1 Axes>"
      ]
     },
     "metadata": {},
     "output_type": "display_data"
    },
    {
     "name": "stderr",
     "output_type": "stream",
     "text": [
      "/usr/local/lib/python3.10/dist-packages/seaborn/axisgrid.py:118: UserWarning: Creating legend with loc=\"best\" can be slow with large amounts of data.\n",
      "  self._figure.tight_layout(*args, **kwargs)\n"
     ]
    },
    {
     "data": {
      "image/png": "[encoded data removed]",
      "text/plain": [
       "<Figure size 593.611x500 with 1 Axes>"
      ]
     },
     "metadata": {},
     "output_type": "display_data"
    }
   ],
   "source": [
    "# Viewing catplot to see spread of 'is_duplicate' between dimensions\n",
    "\n",
    "sns.catplot(data=train_df, x=\"common_words\", y=\"cosine_distance\", hue=\"is_duplicate\")\n",
    "plt.show()\n",
    "sns.catplot(data=train_df, x=\"common_words\", y=\"similarity\", hue=\"is_duplicate\")\n",
    "plt.show()\n",
    "sns.catplot(data=train_df, x=\"similarity\", y=\"cosine_distance\", hue=\"is_duplicate\")\n",
    "plt.show()"
   ]
  },
  {
   "cell_type": "code",
   "execution_count": 39,
   "metadata": {
    "colab": {
     "base_uri": "https://localhost:8080/"
    },
    "id": "Ap049o4pw_aU",
    "outputId": "3cc91d57-6fa5-4483-85d7-0aecc15e062b"
   },
   "outputs": [
    {
     "name": "stdout",
     "output_type": "stream",
     "text": [
      "Optimization terminated successfully.\n",
      "         Current function value: 0.490929\n",
      "         Iterations 7\n",
      "                           Logit Regression Results                           \n",
      "==============================================================================\n",
      "Dep. Variable:           is_duplicate   No. Observations:               323430\n",
      "Model:                          Logit   Df Residuals:                   323426\n",
      "Method:                           MLE   Df Model:                            3\n",
      "Date:                Wed, 07 Jun 2023   Pseudo R-squ.:                  0.2545\n",
      "Time:                        02:53:16   Log-Likelihood:            -1.5878e+05\n",
      "converged:                       True   LL-Null:                   -2.1300e+05\n",
      "Covariance Type:            nonrobust   LLR p-value:                     0.000\n",
      "===================================================================================\n",
      "                      coef    std err          z      P>|z|      [0.025      0.975]\n",
      "-----------------------------------------------------------------------------------\n",
      "const              -6.8851      0.035   -194.935      0.000      -6.954      -6.816\n",
      "cosine_distance     0.0374      0.017      2.143      0.032       0.003       0.072\n",
      "common_words        0.2333      0.033      7.106      0.000       0.169       0.298\n",
      "similarity          8.4661      0.042    199.533      0.000       8.383       8.549\n",
      "===================================================================================\n"
     ]
    }
   ],
   "source": [
    "import statsmodels.api as sm\n",
    "\n",
    "# running statsmodel log_reg to check the p-values of the features\n",
    "   \n",
    "Y = train_df['is_duplicate'][:].copy()\n",
    "X = train_df[['cosine_distance', 'common_words', 'similarity']][:].copy()\n",
    "X = sm.add_constant(X)\n",
    "\n",
    "log_reg = sm.Logit(Y, X).fit()\n",
    "print(log_reg.summary())"
   ]
  },
  {
   "cell_type": "markdown",
   "metadata": {
    "id": "DxHrPFEhupDX"
   },
   "source": [
    "###Conclusions:\n",
    "There is visible and measurable statistical significance between the new features and the target variable. "
   ]
  },
  {
   "cell_type": "markdown",
   "metadata": {
    "id": "zGFiG-RLkH8Q"
   },
   "source": [
    "# Checkpoint\n",
    "\n",
    "I created this check point because of the frequent service interruptions. You can start running the notebook from here. All the needed parameters will be reloaded from where they were saved."
   ]
  },
  {
   "cell_type": "code",
   "execution_count": null,
   "metadata": {
    "colab": {
     "base_uri": "https://localhost:8080/"
    },
    "id": "tkHa6kPVj4Mc",
    "outputId": "e0706cc7-711b-4188-c2ec-545abd566ec9"
   },
   "outputs": [
    {
     "name": "stdout",
     "output_type": "stream",
     "text": [
      "Drive already mounted at /content/drive; to attempt to forcibly remount, call drive.mount(\"/content/drive\", force_remount=True).\n"
     ]
    }
   ],
   "source": [
    "from google.colab import drive\n",
    "drive.mount('/content/drive')"
   ]
  },
  {
   "cell_type": "code",
   "execution_count": 60,
   "metadata": {
    "colab": {
     "base_uri": "https://localhost:8080/",
     "height": 477
    },
    "id": "0I7kefIx2UbJ",
    "outputId": "f48736d7-a7aa-4b60-ffb4-351ede2870a6"
   },
   "outputs": [
    {
     "data": {
      "text/html": [
       "\n",
       "  <div id=\"df-6a2f6d2b-d121-4656-b489-02d9a546c8e8\">\n",
       "    <div class=\"colab-df-container\">\n",
       "      <div>\n",
       "<style scoped>\n",
       "    .dataframe tbody tr th:only-of-type {\n",
       "        vertical-align: middle;\n",
       "    }\n",
       "\n",
       "    .dataframe tbody tr th {\n",
       "        vertical-align: top;\n",
       "    }\n",
       "\n",
       "    .dataframe thead th {\n",
       "        text-align: right;\n",
       "    }\n",
       "</style>\n",
       "<table border=\"1\" class=\"dataframe\">\n",
       "  <thead>\n",
       "    <tr style=\"text-align: right;\">\n",
       "      <th></th>\n",
       "      <th>id</th>\n",
       "      <th>qid1</th>\n",
       "      <th>qid2</th>\n",
       "      <th>question1</th>\n",
       "      <th>question2</th>\n",
       "      <th>is_duplicate</th>\n",
       "      <th>cosine_distance</th>\n",
       "      <th>similarity</th>\n",
       "      <th>common_words</th>\n",
       "    </tr>\n",
       "  </thead>\n",
       "  <tbody>\n",
       "    <tr>\n",
       "      <th>0</th>\n",
       "      <td>0</td>\n",
       "      <td>1</td>\n",
       "      <td>2</td>\n",
       "      <td>What is the step by step guide to invest in share market in india?</td>\n",
       "      <td>What is the step by step guide to invest in share market?</td>\n",
       "      <td>0</td>\n",
       "      <td>0.973016</td>\n",
       "      <td>0.936438</td>\n",
       "      <td>0.142857</td>\n",
       "    </tr>\n",
       "    <tr>\n",
       "      <th>1</th>\n",
       "      <td>2</td>\n",
       "      <td>5</td>\n",
       "      <td>6</td>\n",
       "      <td>How can I increase the speed of my internet connection while using a VPN?</td>\n",
       "      <td>How can Internet speed be increased by hacking through DNS?</td>\n",
       "      <td>0</td>\n",
       "      <td>0.495347</td>\n",
       "      <td>0.609381</td>\n",
       "      <td>0.333333</td>\n",
       "    </tr>\n",
       "  </tbody>\n",
       "</table>\n",
       "</div>\n",
       "      <button class=\"colab-df-convert\" onclick=\"convertToInteractive('df-6a2f6d2b-d121-4656-b489-02d9a546c8e8')\"\n",
       "              title=\"Convert this dataframe to an interactive table.\"\n",
       "              style=\"display:none;\">\n",
       "        \n",
       "  <svg xmlns=\"http://www.w3.org/2000/svg\" height=\"24px\"viewBox=\"0 0 24 24\"\n",
       "       width=\"24px\">\n",
       "    <path d=\"M0 0h24v24H0V0z\" fill=\"none\"/>\n",
       "    <path d=\"M18.56 5.44l.94 2.06.94-2.06 2.06-.94-2.06-.94-.94-2.06-.94 2.06-2.06.94zm-11 1L8.5 8.5l.94-2.06 2.06-.94-2.06-.94L8.5 2.5l-.94 2.06-2.06.94zm10 10l.94 2.06.94-2.06 2.06-.94-2.06-.94-.94-2.06-.94 2.06-2.06.94z\"/><path d=\"M17.41 7.96l-1.37-1.37c-.4-.4-.92-.59-1.43-.59-.52 0-1.04.2-1.43.59L10.3 9.45l-7.72 7.72c-.78.78-.78 2.05 0 2.83L4 21.41c.39.39.9.59 1.41.59.51 0 1.02-.2 1.41-.59l7.78-7.78 2.81-2.81c.8-.78.8-2.07 0-2.86zM5.41 20L4 18.59l7.72-7.72 1.47 1.35L5.41 20z\"/>\n",
       "  </svg>\n",
       "      </button>\n",
       "      \n",
       "  <style>\n",
       "    .colab-df-container {\n",
       "      display:flex;\n",
       "      flex-wrap:wrap;\n",
       "      gap: 12px;\n",
       "    }\n",
       "\n",
       "    .colab-df-convert {\n",
       "      background-color: #E8F0FE;\n",
       "      border: none;\n",
       "      border-radius: 50%;\n",
       "      cursor: pointer;\n",
       "      display: none;\n",
       "      fill: #1967D2;\n",
       "      height: 32px;\n",
       "      padding: 0 0 0 0;\n",
       "      width: 32px;\n",
       "    }\n",
       "\n",
       "    .colab-df-convert:hover {\n",
       "      background-color: #E2EBFA;\n",
       "      box-shadow: 0px 1px 2px rgba(60, 64, 67, 0.3), 0px 1px 3px 1px rgba(60, 64, 67, 0.15);\n",
       "      fill: #174EA6;\n",
       "    }\n",
       "\n",
       "    [theme=dark] .colab-df-convert {\n",
       "      background-color: #3B4455;\n",
       "      fill: #D2E3FC;\n",
       "    }\n",
       "\n",
       "    [theme=dark] .colab-df-convert:hover {\n",
       "      background-color: #434B5C;\n",
       "      box-shadow: 0px 1px 3px 1px rgba(0, 0, 0, 0.15);\n",
       "      filter: drop-shadow(0px 1px 2px rgba(0, 0, 0, 0.3));\n",
       "      fill: #FFFFFF;\n",
       "    }\n",
       "  </style>\n",
       "\n",
       "      <script>\n",
       "        const buttonEl =\n",
       "          document.querySelector('#df-6a2f6d2b-d121-4656-b489-02d9a546c8e8 button.colab-df-convert');\n",
       "        buttonEl.style.display =\n",
       "          google.colab.kernel.accessAllowed ? 'block' : 'none';\n",
       "\n",
       "        async function convertToInteractive(key) {\n",
       "          const element = document.querySelector('#df-6a2f6d2b-d121-4656-b489-02d9a546c8e8');\n",
       "          const dataTable =\n",
       "            await google.colab.kernel.invokeFunction('convertToInteractive',\n",
       "                                                     [key], {});\n",
       "          if (!dataTable) return;\n",
       "\n",
       "          const docLinkHtml = 'Like what you see? Visit the ' +\n",
       "            '<a target=\"_blank\" href=https://colab.research.google.com/notebooks/data_table.ipynb>data table notebook</a>'\n",
       "            + ' to learn more about interactive tables.';\n",
       "          element.innerHTML = '';\n",
       "          dataTable['output_type'] = 'display_data';\n",
       "          await google.colab.output.renderOutput(dataTable, element);\n",
       "          const docLink = document.createElement('div');\n",
       "          docLink.innerHTML = docLinkHtml;\n",
       "          element.appendChild(docLink);\n",
       "        }\n",
       "      </script>\n",
       "    </div>\n",
       "  </div>\n",
       "  "
      ],
      "text/plain": [
       "   id  qid1  qid2  \\\n",
       "0   0     1     2   \n",
       "1   2     5     6   \n",
       "\n",
       "                                                                   question1  \\\n",
       "0         What is the step by step guide to invest in share market in india?   \n",
       "1  How can I increase the speed of my internet connection while using a VPN?   \n",
       "\n",
       "                                                     question2  is_duplicate  \\\n",
       "0    What is the step by step guide to invest in share market?             0   \n",
       "1  How can Internet speed be increased by hacking through DNS?             0   \n",
       "\n",
       "   cosine_distance  similarity  common_words  \n",
       "0         0.973016    0.936438      0.142857  \n",
       "1         0.495347    0.609381      0.333333  "
      ]
     },
     "metadata": {},
     "output_type": "display_data"
    },
    {
     "data": {
      "text/html": [
       "\n",
       "  <div id=\"df-97ebd7d7-23f5-44c7-a993-6914e1c3f2e3\">\n",
       "    <div class=\"colab-df-container\">\n",
       "      <div>\n",
       "<style scoped>\n",
       "    .dataframe tbody tr th:only-of-type {\n",
       "        vertical-align: middle;\n",
       "    }\n",
       "\n",
       "    .dataframe tbody tr th {\n",
       "        vertical-align: top;\n",
       "    }\n",
       "\n",
       "    .dataframe thead th {\n",
       "        text-align: right;\n",
       "    }\n",
       "</style>\n",
       "<table border=\"1\" class=\"dataframe\">\n",
       "  <thead>\n",
       "    <tr style=\"text-align: right;\">\n",
       "      <th></th>\n",
       "      <th>id</th>\n",
       "      <th>qid1</th>\n",
       "      <th>qid2</th>\n",
       "      <th>question1</th>\n",
       "      <th>question2</th>\n",
       "      <th>is_duplicate</th>\n",
       "      <th>cosine_distance</th>\n",
       "      <th>similarity</th>\n",
       "      <th>common_words</th>\n",
       "    </tr>\n",
       "  </thead>\n",
       "  <tbody>\n",
       "    <tr>\n",
       "      <th>0</th>\n",
       "      <td>274201</td>\n",
       "      <td>184139</td>\n",
       "      <td>392790</td>\n",
       "      <td>I have girlfriend and their parents accepted for my marriage, I m working in Nagpur but her parents wanted me to shift Bangalore? Is it valid wish?</td>\n",
       "      <td>What are the approximate cutoffs through GMAT and XAT for XLRI GMP for executives with over 5 years experience?</td>\n",
       "      <td>0</td>\n",
       "      <td>-0.065643</td>\n",
       "      <td>0.159054</td>\n",
       "      <td>0.5</td>\n",
       "    </tr>\n",
       "    <tr>\n",
       "      <th>1</th>\n",
       "      <td>371396</td>\n",
       "      <td>17738</td>\n",
       "      <td>282735</td>\n",
       "      <td>How can I improve at chess?</td>\n",
       "      <td>How do I improve chess playing?</td>\n",
       "      <td>1</td>\n",
       "      <td>0.849161</td>\n",
       "      <td>0.920271</td>\n",
       "      <td>0.0</td>\n",
       "    </tr>\n",
       "  </tbody>\n",
       "</table>\n",
       "</div>\n",
       "      <button class=\"colab-df-convert\" onclick=\"convertToInteractive('df-97ebd7d7-23f5-44c7-a993-6914e1c3f2e3')\"\n",
       "              title=\"Convert this dataframe to an interactive table.\"\n",
       "              style=\"display:none;\">\n",
       "        \n",
       "  <svg xmlns=\"http://www.w3.org/2000/svg\" height=\"24px\"viewBox=\"0 0 24 24\"\n",
       "       width=\"24px\">\n",
       "    <path d=\"M0 0h24v24H0V0z\" fill=\"none\"/>\n",
       "    <path d=\"M18.56 5.44l.94 2.06.94-2.06 2.06-.94-2.06-.94-.94-2.06-.94 2.06-2.06.94zm-11 1L8.5 8.5l.94-2.06 2.06-.94-2.06-.94L8.5 2.5l-.94 2.06-2.06.94zm10 10l.94 2.06.94-2.06 2.06-.94-2.06-.94-.94-2.06-.94 2.06-2.06.94z\"/><path d=\"M17.41 7.96l-1.37-1.37c-.4-.4-.92-.59-1.43-.59-.52 0-1.04.2-1.43.59L10.3 9.45l-7.72 7.72c-.78.78-.78 2.05 0 2.83L4 21.41c.39.39.9.59 1.41.59.51 0 1.02-.2 1.41-.59l7.78-7.78 2.81-2.81c.8-.78.8-2.07 0-2.86zM5.41 20L4 18.59l7.72-7.72 1.47 1.35L5.41 20z\"/>\n",
       "  </svg>\n",
       "      </button>\n",
       "      \n",
       "  <style>\n",
       "    .colab-df-container {\n",
       "      display:flex;\n",
       "      flex-wrap:wrap;\n",
       "      gap: 12px;\n",
       "    }\n",
       "\n",
       "    .colab-df-convert {\n",
       "      background-color: #E8F0FE;\n",
       "      border: none;\n",
       "      border-radius: 50%;\n",
       "      cursor: pointer;\n",
       "      display: none;\n",
       "      fill: #1967D2;\n",
       "      height: 32px;\n",
       "      padding: 0 0 0 0;\n",
       "      width: 32px;\n",
       "    }\n",
       "\n",
       "    .colab-df-convert:hover {\n",
       "      background-color: #E2EBFA;\n",
       "      box-shadow: 0px 1px 2px rgba(60, 64, 67, 0.3), 0px 1px 3px 1px rgba(60, 64, 67, 0.15);\n",
       "      fill: #174EA6;\n",
       "    }\n",
       "\n",
       "    [theme=dark] .colab-df-convert {\n",
       "      background-color: #3B4455;\n",
       "      fill: #D2E3FC;\n",
       "    }\n",
       "\n",
       "    [theme=dark] .colab-df-convert:hover {\n",
       "      background-color: #434B5C;\n",
       "      box-shadow: 0px 1px 3px 1px rgba(0, 0, 0, 0.15);\n",
       "      filter: drop-shadow(0px 1px 2px rgba(0, 0, 0, 0.3));\n",
       "      fill: #FFFFFF;\n",
       "    }\n",
       "  </style>\n",
       "\n",
       "      <script>\n",
       "        const buttonEl =\n",
       "          document.querySelector('#df-97ebd7d7-23f5-44c7-a993-6914e1c3f2e3 button.colab-df-convert');\n",
       "        buttonEl.style.display =\n",
       "          google.colab.kernel.accessAllowed ? 'block' : 'none';\n",
       "\n",
       "        async function convertToInteractive(key) {\n",
       "          const element = document.querySelector('#df-97ebd7d7-23f5-44c7-a993-6914e1c3f2e3');\n",
       "          const dataTable =\n",
       "            await google.colab.kernel.invokeFunction('convertToInteractive',\n",
       "                                                     [key], {});\n",
       "          if (!dataTable) return;\n",
       "\n",
       "          const docLinkHtml = 'Like what you see? Visit the ' +\n",
       "            '<a target=\"_blank\" href=https://colab.research.google.com/notebooks/data_table.ipynb>data table notebook</a>'\n",
       "            + ' to learn more about interactive tables.';\n",
       "          element.innerHTML = '';\n",
       "          dataTable['output_type'] = 'display_data';\n",
       "          await google.colab.output.renderOutput(dataTable, element);\n",
       "          const docLink = document.createElement('div');\n",
       "          docLink.innerHTML = docLinkHtml;\n",
       "          element.appendChild(docLink);\n",
       "        }\n",
       "      </script>\n",
       "    </div>\n",
       "  </div>\n",
       "  "
      ],
      "text/plain": [
       "       id    qid1    qid2  \\\n",
       "0  274201  184139  392790   \n",
       "1  371396   17738  282735   \n",
       "\n",
       "                                                                                                                                             question1  \\\n",
       "0  I have girlfriend and their parents accepted for my marriage, I m working in Nagpur but her parents wanted me to shift Bangalore? Is it valid wish?   \n",
       "1                                                                                                                          How can I improve at chess?   \n",
       "\n",
       "                                                                                                         question2  \\\n",
       "0  What are the approximate cutoffs through GMAT and XAT for XLRI GMP for executives with over 5 years experience?   \n",
       "1                                                                                  How do I improve chess playing?   \n",
       "\n",
       "   is_duplicate  cosine_distance  similarity  common_words  \n",
       "0             0        -0.065643    0.159054           0.5  \n",
       "1             1         0.849161    0.920271           0.0  "
      ]
     },
     "metadata": {},
     "output_type": "display_data"
    },
    {
     "data": {
      "text/plain": [
       "(323430, 80857)"
      ]
     },
     "execution_count": 60,
     "metadata": {},
     "output_type": "execute_result"
    }
   ],
   "source": [
    "display(train_df.head(2))\n",
    "display(test_df.head(2))\n",
    "len(train_df), len(test_df)"
   ]
  },
  {
   "cell_type": "code",
   "execution_count": 61,
   "metadata": {
    "id": "jdNjJ4IH4I9r"
   },
   "outputs": [],
   "source": [
    "train_df.to_csv('/content/drive/MyDrive/output/train_complete.csv', index=False)\n",
    "test_df.to_csv('/content/drive/MyDrive/output/test_complete.csv', index=False)"
   ]
  },
  {
   "cell_type": "code",
   "execution_count": 62,
   "metadata": {
    "colab": {
     "base_uri": "https://localhost:8080/",
     "height": 1000
    },
    "id": "fqNNbrkW4Lw_",
    "outputId": "584c5995-f720-43ff-8bdf-c498e47b0438"
   },
   "outputs": [
    {
     "data": {
      "text/html": [
       "\n",
       "  <div id=\"df-dceae7da-ccc1-4682-acfc-42f6f0989ba6\">\n",
       "    <div class=\"colab-df-container\">\n",
       "      <div>\n",
       "<style scoped>\n",
       "    .dataframe tbody tr th:only-of-type {\n",
       "        vertical-align: middle;\n",
       "    }\n",
       "\n",
       "    .dataframe tbody tr th {\n",
       "        vertical-align: top;\n",
       "    }\n",
       "\n",
       "    .dataframe thead th {\n",
       "        text-align: right;\n",
       "    }\n",
       "</style>\n",
       "<table border=\"1\" class=\"dataframe\">\n",
       "  <thead>\n",
       "    <tr style=\"text-align: right;\">\n",
       "      <th></th>\n",
       "      <th>id</th>\n",
       "      <th>qid1</th>\n",
       "      <th>qid2</th>\n",
       "      <th>question1</th>\n",
       "      <th>question2</th>\n",
       "      <th>is_duplicate</th>\n",
       "      <th>cosine_distance</th>\n",
       "      <th>similarity</th>\n",
       "      <th>common_words</th>\n",
       "    </tr>\n",
       "  </thead>\n",
       "  <tbody>\n",
       "    <tr>\n",
       "      <th>0</th>\n",
       "      <td>0</td>\n",
       "      <td>1</td>\n",
       "      <td>2</td>\n",
       "      <td>What is the step by step guide to invest in share market in india?</td>\n",
       "      <td>What is the step by step guide to invest in share market?</td>\n",
       "      <td>0</td>\n",
       "      <td>0.973016</td>\n",
       "      <td>0.936438</td>\n",
       "      <td>0.142857</td>\n",
       "    </tr>\n",
       "    <tr>\n",
       "      <th>1</th>\n",
       "      <td>2</td>\n",
       "      <td>5</td>\n",
       "      <td>6</td>\n",
       "      <td>How can I increase the speed of my internet connection while using a VPN?</td>\n",
       "      <td>How can Internet speed be increased by hacking through DNS?</td>\n",
       "      <td>0</td>\n",
       "      <td>0.495347</td>\n",
       "      <td>0.609381</td>\n",
       "      <td>0.333333</td>\n",
       "    </tr>\n",
       "    <tr>\n",
       "      <th>2</th>\n",
       "      <td>4</td>\n",
       "      <td>9</td>\n",
       "      <td>10</td>\n",
       "      <td>Which one dissolve in water quikly sugar, salt, methane and carbon di oxide?</td>\n",
       "      <td>Which fish would survive in salt water?</td>\n",
       "      <td>0</td>\n",
       "      <td>0.391109</td>\n",
       "      <td>0.335715</td>\n",
       "      <td>0.571429</td>\n",
       "    </tr>\n",
       "    <tr>\n",
       "      <th>3</th>\n",
       "      <td>6</td>\n",
       "      <td>13</td>\n",
       "      <td>14</td>\n",
       "      <td>Should I buy tiago?</td>\n",
       "      <td>What keeps childern active and far from phone and video games?</td>\n",
       "      <td>0</td>\n",
       "      <td>0.168122</td>\n",
       "      <td>0.016591</td>\n",
       "      <td>0.200000</td>\n",
       "    </tr>\n",
       "    <tr>\n",
       "      <th>4</th>\n",
       "      <td>7</td>\n",
       "      <td>15</td>\n",
       "      <td>16</td>\n",
       "      <td>How can I be a good geologist?</td>\n",
       "      <td>What should I do to be a great geologist?</td>\n",
       "      <td>1</td>\n",
       "      <td>0.812078</td>\n",
       "      <td>0.909070</td>\n",
       "      <td>0.250000</td>\n",
       "    </tr>\n",
       "    <tr>\n",
       "      <th>...</th>\n",
       "      <td>...</td>\n",
       "      <td>...</td>\n",
       "      <td>...</td>\n",
       "      <td>...</td>\n",
       "      <td>...</td>\n",
       "      <td>...</td>\n",
       "      <td>...</td>\n",
       "      <td>...</td>\n",
       "      <td>...</td>\n",
       "    </tr>\n",
       "    <tr>\n",
       "      <th>323425</th>\n",
       "      <td>404285</td>\n",
       "      <td>433578</td>\n",
       "      <td>379845</td>\n",
       "      <td>How many keywords are there in the Racket programming language of the latest version?</td>\n",
       "      <td>How many keywords are there in PERL Programming Language in the latest version?</td>\n",
       "      <td>0</td>\n",
       "      <td>0.534288</td>\n",
       "      <td>0.757957</td>\n",
       "      <td>0.111111</td>\n",
       "    </tr>\n",
       "    <tr>\n",
       "      <th>323426</th>\n",
       "      <td>404286</td>\n",
       "      <td>18840</td>\n",
       "      <td>155606</td>\n",
       "      <td>Do you believe there is life after death?</td>\n",
       "      <td>Is it true that there is life after death?</td>\n",
       "      <td>1</td>\n",
       "      <td>0.876653</td>\n",
       "      <td>0.904780</td>\n",
       "      <td>0.200000</td>\n",
       "    </tr>\n",
       "    <tr>\n",
       "      <th>323427</th>\n",
       "      <td>404287</td>\n",
       "      <td>537928</td>\n",
       "      <td>537929</td>\n",
       "      <td>What is one coin?</td>\n",
       "      <td>What's this coin?</td>\n",
       "      <td>0</td>\n",
       "      <td>0.781681</td>\n",
       "      <td>0.794427</td>\n",
       "      <td>0.200000</td>\n",
       "    </tr>\n",
       "    <tr>\n",
       "      <th>323428</th>\n",
       "      <td>404288</td>\n",
       "      <td>537930</td>\n",
       "      <td>537931</td>\n",
       "      <td>What is the approx annual cost of living while studying in UIC Chicago, for an Indian student?</td>\n",
       "      <td>I am having little hairfall problem but I want to use hair styling product. Which one should I prefer out of gel, wax and clay?</td>\n",
       "      <td>0</td>\n",
       "      <td>-0.254688</td>\n",
       "      <td>0.131100</td>\n",
       "      <td>0.391304</td>\n",
       "    </tr>\n",
       "    <tr>\n",
       "      <th>323429</th>\n",
       "      <td>404289</td>\n",
       "      <td>537932</td>\n",
       "      <td>537933</td>\n",
       "      <td>What is like to have sex with cousin?</td>\n",
       "      <td>What is it like to have sex with your cousin?</td>\n",
       "      <td>0</td>\n",
       "      <td>0.965949</td>\n",
       "      <td>0.901736</td>\n",
       "      <td>0.000000</td>\n",
       "    </tr>\n",
       "  </tbody>\n",
       "</table>\n",
       "<p>323430 rows × 9 columns</p>\n",
       "</div>\n",
       "      <button class=\"colab-df-convert\" onclick=\"convertToInteractive('df-dceae7da-ccc1-4682-acfc-42f6f0989ba6')\"\n",
       "              title=\"Convert this dataframe to an interactive table.\"\n",
       "              style=\"display:none;\">\n",
       "        \n",
       "  <svg xmlns=\"http://www.w3.org/2000/svg\" height=\"24px\"viewBox=\"0 0 24 24\"\n",
       "       width=\"24px\">\n",
       "    <path d=\"M0 0h24v24H0V0z\" fill=\"none\"/>\n",
       "    <path d=\"M18.56 5.44l.94 2.06.94-2.06 2.06-.94-2.06-.94-.94-2.06-.94 2.06-2.06.94zm-11 1L8.5 8.5l.94-2.06 2.06-.94-2.06-.94L8.5 2.5l-.94 2.06-2.06.94zm10 10l.94 2.06.94-2.06 2.06-.94-2.06-.94-.94-2.06-.94 2.06-2.06.94z\"/><path d=\"M17.41 7.96l-1.37-1.37c-.4-.4-.92-.59-1.43-.59-.52 0-1.04.2-1.43.59L10.3 9.45l-7.72 7.72c-.78.78-.78 2.05 0 2.83L4 21.41c.39.39.9.59 1.41.59.51 0 1.02-.2 1.41-.59l7.78-7.78 2.81-2.81c.8-.78.8-2.07 0-2.86zM5.41 20L4 18.59l7.72-7.72 1.47 1.35L5.41 20z\"/>\n",
       "  </svg>\n",
       "      </button>\n",
       "      \n",
       "  <style>\n",
       "    .colab-df-container {\n",
       "      display:flex;\n",
       "      flex-wrap:wrap;\n",
       "      gap: 12px;\n",
       "    }\n",
       "\n",
       "    .colab-df-convert {\n",
       "      background-color: #E8F0FE;\n",
       "      border: none;\n",
       "      border-radius: 50%;\n",
       "      cursor: pointer;\n",
       "      display: none;\n",
       "      fill: #1967D2;\n",
       "      height: 32px;\n",
       "      padding: 0 0 0 0;\n",
       "      width: 32px;\n",
       "    }\n",
       "\n",
       "    .colab-df-convert:hover {\n",
       "      background-color: #E2EBFA;\n",
       "      box-shadow: 0px 1px 2px rgba(60, 64, 67, 0.3), 0px 1px 3px 1px rgba(60, 64, 67, 0.15);\n",
       "      fill: #174EA6;\n",
       "    }\n",
       "\n",
       "    [theme=dark] .colab-df-convert {\n",
       "      background-color: #3B4455;\n",
       "      fill: #D2E3FC;\n",
       "    }\n",
       "\n",
       "    [theme=dark] .colab-df-convert:hover {\n",
       "      background-color: #434B5C;\n",
       "      box-shadow: 0px 1px 3px 1px rgba(0, 0, 0, 0.15);\n",
       "      filter: drop-shadow(0px 1px 2px rgba(0, 0, 0, 0.3));\n",
       "      fill: #FFFFFF;\n",
       "    }\n",
       "  </style>\n",
       "\n",
       "      <script>\n",
       "        const buttonEl =\n",
       "          document.querySelector('#df-dceae7da-ccc1-4682-acfc-42f6f0989ba6 button.colab-df-convert');\n",
       "        buttonEl.style.display =\n",
       "          google.colab.kernel.accessAllowed ? 'block' : 'none';\n",
       "\n",
       "        async function convertToInteractive(key) {\n",
       "          const element = document.querySelector('#df-dceae7da-ccc1-4682-acfc-42f6f0989ba6');\n",
       "          const dataTable =\n",
       "            await google.colab.kernel.invokeFunction('convertToInteractive',\n",
       "                                                     [key], {});\n",
       "          if (!dataTable) return;\n",
       "\n",
       "          const docLinkHtml = 'Like what you see? Visit the ' +\n",
       "            '<a target=\"_blank\" href=https://colab.research.google.com/notebooks/data_table.ipynb>data table notebook</a>'\n",
       "            + ' to learn more about interactive tables.';\n",
       "          element.innerHTML = '';\n",
       "          dataTable['output_type'] = 'display_data';\n",
       "          await google.colab.output.renderOutput(dataTable, element);\n",
       "          const docLink = document.createElement('div');\n",
       "          docLink.innerHTML = docLinkHtml;\n",
       "          element.appendChild(docLink);\n",
       "        }\n",
       "      </script>\n",
       "    </div>\n",
       "  </div>\n",
       "  "
      ],
      "text/plain": [
       "            id    qid1    qid2  \\\n",
       "0            0       1       2   \n",
       "1            2       5       6   \n",
       "2            4       9      10   \n",
       "3            6      13      14   \n",
       "4            7      15      16   \n",
       "...        ...     ...     ...   \n",
       "323425  404285  433578  379845   \n",
       "323426  404286   18840  155606   \n",
       "323427  404287  537928  537929   \n",
       "323428  404288  537930  537931   \n",
       "323429  404289  537932  537933   \n",
       "\n",
       "                                                                                             question1  \\\n",
       "0                                   What is the step by step guide to invest in share market in india?   \n",
       "1                            How can I increase the speed of my internet connection while using a VPN?   \n",
       "2                         Which one dissolve in water quikly sugar, salt, methane and carbon di oxide?   \n",
       "3                                                                                  Should I buy tiago?   \n",
       "4                                                                       How can I be a good geologist?   \n",
       "...                                                                                                ...   \n",
       "323425           How many keywords are there in the Racket programming language of the latest version?   \n",
       "323426                                                       Do you believe there is life after death?   \n",
       "323427                                                                               What is one coin?   \n",
       "323428  What is the approx annual cost of living while studying in UIC Chicago, for an Indian student?   \n",
       "323429                                                           What is like to have sex with cousin?   \n",
       "\n",
       "                                                                                                                              question2  \\\n",
       "0                                                                             What is the step by step guide to invest in share market?   \n",
       "1                                                                           How can Internet speed be increased by hacking through DNS?   \n",
       "2                                                                                               Which fish would survive in salt water?   \n",
       "3                                                                        What keeps childern active and far from phone and video games?   \n",
       "4                                                                                             What should I do to be a great geologist?   \n",
       "...                                                                                                                                 ...   \n",
       "323425                                                  How many keywords are there in PERL Programming Language in the latest version?   \n",
       "323426                                                                                       Is it true that there is life after death?   \n",
       "323427                                                                                                                What's this coin?   \n",
       "323428  I am having little hairfall problem but I want to use hair styling product. Which one should I prefer out of gel, wax and clay?   \n",
       "323429                                                                                    What is it like to have sex with your cousin?   \n",
       "\n",
       "        is_duplicate  cosine_distance  similarity  common_words  \n",
       "0                  0         0.973016    0.936438      0.142857  \n",
       "1                  0         0.495347    0.609381      0.333333  \n",
       "2                  0         0.391109    0.335715      0.571429  \n",
       "3                  0         0.168122    0.016591      0.200000  \n",
       "4                  1         0.812078    0.909070      0.250000  \n",
       "...              ...              ...         ...           ...  \n",
       "323425             0         0.534288    0.757957      0.111111  \n",
       "323426             1         0.876653    0.904780      0.200000  \n",
       "323427             0         0.781681    0.794427      0.200000  \n",
       "323428             0        -0.254688    0.131100      0.391304  \n",
       "323429             0         0.965949    0.901736      0.000000  \n",
       "\n",
       "[323430 rows x 9 columns]"
      ]
     },
     "execution_count": 62,
     "metadata": {},
     "output_type": "execute_result"
    }
   ],
   "source": [
    "pd.read_csv('/content/drive/MyDrive/output/train_complete.csv') # testing"
   ]
  },
  {
   "cell_type": "markdown",
   "metadata": {
    "id": "HjvJ8_Ai5fEK"
   },
   "source": [
    "This ends EDA and Feature Engineering. You can go to the Machine Learning notebook or the Deep Learning notebook."
   ]
  },
  {
   "cell_type": "code",
   "execution_count": null,
   "metadata": {
    "id": "Xmy1bGX95zAq"
   },
   "outputs": [],
   "source": []
  }
 ],
 "metadata": {
  "colab": {
   "gpuType": "T4",
   "provenance": [],
   "toc_visible": true
  },
  "kernelspec": {
   "display_name": "Python 3 (ipykernel)",
   "language": "python",
   "name": "python3"
  },
  "language_info": {
   "codemirror_mode": {
    "name": "ipython",
    "version": 3
   },
   "file_extension": ".py",
   "mimetype": "text/x-python",
   "name": "python",
   "nbconvert_exporter": "python",
   "pygments_lexer": "ipython3",
   "version": "3.8.16"
  }
 },
 "nbformat": 4,
 "nbformat_minor": 1
}
