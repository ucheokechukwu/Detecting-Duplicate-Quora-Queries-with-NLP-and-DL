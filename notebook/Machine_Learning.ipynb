{
 "cells": [
  {
   "cell_type": "markdown",
   "metadata": {
    "id": "aUwGhDj7Tiof"
   },
   "source": [
    "This notebook continues from EDA Feature Engineering. \n",
    "The experiments were carried out on a fraction of the sample data because of the computational requirements. \n",
    "\n",
    "Most of this Notebook was prepared with Google Colab. The URLs to file locations on Google Drive can be replaced by the local file path. i.e. /content/drive/MyDrive/output/train_complete.csv should be substituted with ../output/train_complete.csv\n",
    "\n",
    "Please note that some files were considered too large for Git and are not available."
   ]
  },
  {
   "cell_type": "code",
   "execution_count": 2,
   "metadata": {
    "colab": {
     "base_uri": "https://localhost:8080/"
    },
    "id": "f7TkpVE-T9m5",
    "outputId": "9899dbd7-a6f2-43a9-c372-e175c11781f2"
   },
   "outputs": [
    {
     "name": "stdout",
     "output_type": "stream",
     "text": [
      "Drive already mounted at /content/drive; to attempt to forcibly remount, call drive.mount(\"/content/drive\", force_remount=True).\n"
     ]
    }
   ],
   "source": [
    "from google.colab import drive\n",
    "drive.mount('/content/drive')\n",
    "\n",
    "import pandas as pd\n",
    "import numpy as np \n",
    "import matplotlib.pyplot as plt\n",
    "import warnings\n",
    "warnings.filterwarnings('ignore')\n",
    "from tqdm import tqdm\n"
   ]
  },
  {
   "cell_type": "code",
   "execution_count": 3,
   "metadata": {
    "id": "AdyIkrfpTscm"
   },
   "outputs": [],
   "source": [
    "# import packages and saved files and folders\n",
    "\n",
    "\n",
    "train_df = pd.read_csv('/content/drive/MyDrive/output/train_complete.csv')\n",
    "test_df = pd.read_csv('/content/drive/MyDrive/output/test_complete.csv')\n",
    "\n",
    "preprocessed_train_q1 = pd.read_csv('/content/drive/MyDrive/output/preprocessed_train_1.csv',\n",
    "                                    header=None).fillna(\"\")\n",
    "preprocessed_train_q2 = pd.read_csv('/content/drive/MyDrive/output/preprocessed_train_2.csv',\n",
    "                                    header=None).fillna(\"\")\n",
    "preprocessed_test_q1 = pd.read_csv('/content/drive/MyDrive/output/preprocessed_test_1.csv',\n",
    "                                   header=None).fillna(\"\")\n",
    "preprocessed_test_q2 = pd.read_csv('/content/drive/MyDrive/output/preprocessed_test_2.csv',\n",
    "                                   header=None).fillna(\"\")\n"
   ]
  },
  {
   "cell_type": "markdown",
   "metadata": {
    "id": "CE_20USmxz8s"
   },
   "source": [
    "**Note**: With Deep Learning with Tensorflow/Keras, I found the option to convert the data into a streamable format. I could not find anything similar with SKLearn's machine learning models. Therefore, I have to work on a fraction (0.2) of the available dataset. This has to be selected based on class size as the classese (`'is_duplicate'` 1 or 0) are out of balance."
   ]
  },
  {
   "cell_type": "code",
   "execution_count": 4,
   "metadata": {
    "colab": {
     "base_uri": "https://localhost:8080/",
     "height": 71
    },
    "id": "DV7OdyR7yes8",
    "outputId": "e9c3cf31-1997-4cac-e94d-ecbef19c19c6"
   },
   "outputs": [
    {
     "data": {
      "text/plain": [
       "0    204006\n",
       "1    119424\n",
       "Name: is_duplicate, dtype: int64"
      ]
     },
     "metadata": {},
     "output_type": "display_data"
    }
   ],
   "source": [
    "y_train = train_df['is_duplicate']\n",
    "display(y_train.value_counts())\n",
    "unbalanced_ratio = y_train.value_counts()[0]/y_train.value_counts()[1]"
   ]
  },
  {
   "cell_type": "code",
   "execution_count": 5,
   "metadata": {
    "colab": {
     "base_uri": "https://localhost:8080/"
    },
    "id": "hwCgQwzmUmf8",
    "outputId": "405e5442-7600-49be-f53f-3ed4de4491c7"
   },
   "outputs": [
    {
     "data": {
      "text/plain": [
       "1    5971\n",
       "0    5971\n",
       "Name: is_duplicate, dtype: int64"
      ]
     },
     "execution_count": 5,
     "metadata": {},
     "output_type": "execute_result"
    }
   ],
   "source": [
    "\n",
    "filter = y_train == 1\n",
    "\n",
    "train_df_sample_1 = train_df[filter].sample(frac=0.05)\n",
    "train_df_sample_0 = train_df[~filter].sample(frac=0.05/(unbalanced_ratio))\n",
    "train_df__ = pd.concat([train_df_sample_1, train_df_sample_0])\n",
    "train_df__['is_duplicate'].value_counts()"
   ]
  },
  {
   "cell_type": "code",
   "execution_count": 6,
   "metadata": {
    "colab": {
     "base_uri": "https://localhost:8080/",
     "height": 124
    },
    "id": "7-SK_gbYzjQ-",
    "outputId": "881fea27-544b-4c29-ad93-1b037b2cb3f1"
   },
   "outputs": [
    {
     "data": {
      "text/plain": [
       "0    51018\n",
       "1    29839\n",
       "Name: is_duplicate, dtype: int64"
      ]
     },
     "metadata": {},
     "output_type": "display_data"
    },
    {
     "data": {
      "text/plain": [
       "1    2984\n",
       "0    2984\n",
       "Name: is_duplicate, dtype: int64"
      ]
     },
     "execution_count": 6,
     "metadata": {},
     "output_type": "execute_result"
    }
   ],
   "source": [
    "# similar scaling down of the test_df\n",
    "y_test = test_df['is_duplicate']\n",
    "display(y_test.value_counts())\n",
    "unbalanced_ratio = y_test.value_counts()[0]/y_test.value_counts()[1]\n",
    "\n",
    "filter = y_test == 1\n",
    "\n",
    "test_df_sample_1 = test_df[filter].sample(frac=0.1)\n",
    "test_df_sample_0 = test_df[~filter].sample(frac=0.1/(unbalanced_ratio))\n",
    "test_df__ = pd.concat([test_df_sample_1, test_df_sample_0])\n",
    "test_df__['is_duplicate'].value_counts()"
   ]
  },
  {
   "cell_type": "code",
   "execution_count": 7,
   "metadata": {
    "id": "QmuuoV-l0JKl"
   },
   "outputs": [],
   "source": [
    "preprocessed_train_q1 = preprocessed_train_q1.iloc[train_df__.index].copy()\n",
    "preprocessed_train_q2 = preprocessed_train_q2.iloc[train_df__.index].copy()\n",
    "preprocessed_test_q1 = preprocessed_test_q1.iloc[test_df__.index].copy()\n",
    "preprocessed_test_q2 = preprocessed_test_q2.iloc[test_df__.index].copy()\n"
   ]
  },
  {
   "cell_type": "code",
   "execution_count": 8,
   "metadata": {
    "id": "9XrPOMxq05R_"
   },
   "outputs": [],
   "source": [
    "train_df = train_df__.copy()\n",
    "test_df = test_df__.copy()"
   ]
  },
  {
   "cell_type": "markdown",
   "metadata": {
    "id": "hm-Ntmugi1rW"
   },
   "source": [
    "# Baseline Model"
   ]
  },
  {
   "cell_type": "markdown",
   "metadata": {
    "id": "TDvRqL0GUqo5"
   },
   "source": [
    "Our strategy is to prepare a baseline model with simple `LogisticRegression()`. Word vectorization will be done with `CountVectorizer()` and `TfidVectorizer()` until we observe a marked improvement with one of them."
   ]
  },
  {
   "cell_type": "markdown",
   "metadata": {
    "id": "eH53ExZfi6aI"
   },
   "source": [
    "## Word vectorization"
   ]
  },
  {
   "cell_type": "code",
   "execution_count": 9,
   "metadata": {
    "id": "J-lh_7mBVBmg"
   },
   "outputs": [],
   "source": [
    "from sklearn.feature_extraction.text import CountVectorizer, TfidfVectorizer\n",
    "count_vec = CountVectorizer(min_df=2, max_features=5000)\n",
    "tfid_vec = TfidfVectorizer(min_df=2, max_features=5000)\n",
    "\n"
   ]
  },
  {
   "cell_type": "code",
   "execution_count": 10,
   "metadata": {
    "id": "7flZrPNQWHg0"
   },
   "outputs": [],
   "source": [
    "# converting the list of lists into a list of sentences that can be passed into the vectorizers\n",
    "preprocessed_train_q1 = preprocessed_train_q1.applymap(str)\n",
    "sentences_train_q1 = [' '.join(ele) for ele in preprocessed_train_q1.values]\n",
    "\n",
    "preprocessed_train_q2 = preprocessed_train_q2.applymap(str)\n",
    "sentences_train_q2 = [' '.join(ele) for ele in preprocessed_train_q2.values]\n"
   ]
  },
  {
   "cell_type": "code",
   "execution_count": 11,
   "metadata": {
    "id": "ml593ebeXMsq"
   },
   "outputs": [],
   "source": [
    "# doing the same for the text preprocessed text\n",
    "\n",
    "preprocessed_test_q1 = preprocessed_test_q1.applymap(str)\n",
    "sentences_test_q1 = [' '.join(ele) for ele in preprocessed_test_q1.values]\n",
    "\n",
    "preprocessed_test_q2 = preprocessed_test_q2.applymap(str)\n",
    "sentences_test_q2 = [' '.join(ele) for ele in preprocessed_test_q2.values]"
   ]
  },
  {
   "cell_type": "code",
   "execution_count": 12,
   "metadata": {
    "colab": {
     "base_uri": "https://localhost:8080/"
    },
    "id": "Kag4YcUVVdYn",
    "outputId": "3a5f2dc6-91b7-484d-854f-9f5cb0d337d1"
   },
   "outputs": [
    {
     "data": {
      "text/plain": [
       "array([[0, 0, 0, ..., 0, 0, 0],\n",
       "       [0, 0, 0, ..., 0, 0, 0],\n",
       "       [0, 0, 0, ..., 0, 0, 0],\n",
       "       ...,\n",
       "       [0, 0, 0, ..., 0, 0, 0],\n",
       "       [0, 0, 0, ..., 0, 0, 0],\n",
       "       [0, 0, 0, ..., 0, 0, 0]])"
      ]
     },
     "execution_count": 12,
     "metadata": {},
     "output_type": "execute_result"
    }
   ],
   "source": [
    "count_X1 = count_vec.fit_transform(sentences_train_q1)\n",
    "count_X2 = count_vec.fit_transform(sentences_train_q2)\n",
    "count_X_q1_q2 = np.concatenate([count_X1.toarray(), count_X2.toarray()], axis=1)\n",
    "count_X_q1_q2"
   ]
  },
  {
   "cell_type": "code",
   "execution_count": 13,
   "metadata": {
    "colab": {
     "base_uri": "https://localhost:8080/"
    },
    "id": "b5NniQL_uNUg",
    "outputId": "c8778913-fc59-43d0-ae06-c29d244a04ee"
   },
   "outputs": [
    {
     "data": {
      "text/plain": [
       "array([[0., 0., 0., ..., 0., 0., 0.],\n",
       "       [0., 0., 0., ..., 0., 0., 0.],\n",
       "       [0., 0., 0., ..., 0., 0., 0.],\n",
       "       ...,\n",
       "       [0., 0., 0., ..., 0., 0., 0.],\n",
       "       [0., 0., 0., ..., 0., 0., 0.],\n",
       "       [0., 0., 0., ..., 0., 0., 0.]])"
      ]
     },
     "execution_count": 13,
     "metadata": {},
     "output_type": "execute_result"
    }
   ],
   "source": [
    "tdf_X1 = tfid_vec.fit_transform(sentences_train_q1)\n",
    "tdf_X2 = tfid_vec.fit_transform(sentences_train_q2)\n",
    "tdf_X_q1_q2 = np.concatenate([tdf_X1.toarray(), tdf_X2.toarray()], axis=1)\n",
    "tdf_X_q1_q2"
   ]
  },
  {
   "cell_type": "code",
   "execution_count": null,
   "metadata": {
    "id": "0bM0R9Morkoe"
   },
   "outputs": [],
   "source": [
    "### Evaluating model performance with CountVectorizer() transformation"
   ]
  },
  {
   "cell_type": "code",
   "execution_count": 88,
   "metadata": {
    "id": "3ver580lWKme"
   },
   "outputs": [],
   "source": [
    "# Preparing the training dataset\n",
    "X = train_df.drop(columns=['question1', 'question2', 'is_duplicate'])\n",
    "y = train_df['is_duplicate']\n",
    "# concatenating with the vectorized text\n",
    "X = pd.concat([X.reset_index(drop=True), pd.DataFrame(count_X_q1_q2)], axis=1, ignore_index=True)"
   ]
  },
  {
   "cell_type": "code",
   "execution_count": 15,
   "metadata": {
    "id": "e4_U5oQXiwGM"
   },
   "outputs": [],
   "source": [
    "from sklearn.model_selection import train_test_split\n",
    "from sklearn.linear_model import LogisticRegression"
   ]
  },
  {
   "cell_type": "code",
   "execution_count": 16,
   "metadata": {
    "colab": {
     "base_uri": "https://localhost:8080/"
    },
    "id": "5ZQk14721zX2",
    "outputId": "f9962c3b-3720-4622-a760-0187389a0bd9"
   },
   "outputs": [
    {
     "data": {
      "text/plain": [
       "11942"
      ]
     },
     "execution_count": 16,
     "metadata": {},
     "output_type": "execute_result"
    }
   ],
   "source": [
    "len(X)"
   ]
  },
  {
   "cell_type": "code",
   "execution_count": 52,
   "metadata": {
    "colab": {
     "base_uri": "https://localhost:8080/"
    },
    "id": "5otu_Qy-jQzo",
    "outputId": "85c2eaa8-de46-495e-e4de-a860f2f1448f"
   },
   "outputs": [
    {
     "data": {
      "text/plain": [
       "((10747, 9538), (1195, 9538), (10747,), (1195,))"
      ]
     },
     "execution_count": 52,
     "metadata": {},
     "output_type": "execute_result"
    }
   ],
   "source": [
    "X_train, X_test, y_train, y_test = train_test_split(X, y, test_size=0.1, random_state=88)\n",
    "X_train.shape, X_test.shape, y_train.shape, y_test.shape"
   ]
  },
  {
   "cell_type": "code",
   "execution_count": 53,
   "metadata": {
    "colab": {
     "base_uri": "https://localhost:8080/",
     "height": 75
    },
    "id": "DLV7S_58jZhE",
    "outputId": "7eadd954-00d0-4fbe-9dc7-b761dc6c5aa4"
   },
   "outputs": [
    {
     "data": {
      "text/html": [
       "<style>#sk-container-id-2 {color: black;background-color: white;}#sk-container-id-2 pre{padding: 0;}#sk-container-id-2 div.sk-toggleable {background-color: white;}#sk-container-id-2 label.sk-toggleable__label {cursor: pointer;display: block;width: 100%;margin-bottom: 0;padding: 0.3em;box-sizing: border-box;text-align: center;}#sk-container-id-2 label.sk-toggleable__label-arrow:before {content: \"▸\";float: left;margin-right: 0.25em;color: #696969;}#sk-container-id-2 label.sk-toggleable__label-arrow:hover:before {color: black;}#sk-container-id-2 div.sk-estimator:hover label.sk-toggleable__label-arrow:before {color: black;}#sk-container-id-2 div.sk-toggleable__content {max-height: 0;max-width: 0;overflow: hidden;text-align: left;background-color: #f0f8ff;}#sk-container-id-2 div.sk-toggleable__content pre {margin: 0.2em;color: black;border-radius: 0.25em;background-color: #f0f8ff;}#sk-container-id-2 input.sk-toggleable__control:checked~div.sk-toggleable__content {max-height: 200px;max-width: 100%;overflow: auto;}#sk-container-id-2 input.sk-toggleable__control:checked~label.sk-toggleable__label-arrow:before {content: \"▾\";}#sk-container-id-2 div.sk-estimator input.sk-toggleable__control:checked~label.sk-toggleable__label {background-color: #d4ebff;}#sk-container-id-2 div.sk-label input.sk-toggleable__control:checked~label.sk-toggleable__label {background-color: #d4ebff;}#sk-container-id-2 input.sk-hidden--visually {border: 0;clip: rect(1px 1px 1px 1px);clip: rect(1px, 1px, 1px, 1px);height: 1px;margin: -1px;overflow: hidden;padding: 0;position: absolute;width: 1px;}#sk-container-id-2 div.sk-estimator {font-family: monospace;background-color: #f0f8ff;border: 1px dotted black;border-radius: 0.25em;box-sizing: border-box;margin-bottom: 0.5em;}#sk-container-id-2 div.sk-estimator:hover {background-color: #d4ebff;}#sk-container-id-2 div.sk-parallel-item::after {content: \"\";width: 100%;border-bottom: 1px solid gray;flex-grow: 1;}#sk-container-id-2 div.sk-label:hover label.sk-toggleable__label {background-color: #d4ebff;}#sk-container-id-2 div.sk-serial::before {content: \"\";position: absolute;border-left: 1px solid gray;box-sizing: border-box;top: 0;bottom: 0;left: 50%;z-index: 0;}#sk-container-id-2 div.sk-serial {display: flex;flex-direction: column;align-items: center;background-color: white;padding-right: 0.2em;padding-left: 0.2em;position: relative;}#sk-container-id-2 div.sk-item {position: relative;z-index: 1;}#sk-container-id-2 div.sk-parallel {display: flex;align-items: stretch;justify-content: center;background-color: white;position: relative;}#sk-container-id-2 div.sk-item::before, #sk-container-id-2 div.sk-parallel-item::before {content: \"\";position: absolute;border-left: 1px solid gray;box-sizing: border-box;top: 0;bottom: 0;left: 50%;z-index: -1;}#sk-container-id-2 div.sk-parallel-item {display: flex;flex-direction: column;z-index: 1;position: relative;background-color: white;}#sk-container-id-2 div.sk-parallel-item:first-child::after {align-self: flex-end;width: 50%;}#sk-container-id-2 div.sk-parallel-item:last-child::after {align-self: flex-start;width: 50%;}#sk-container-id-2 div.sk-parallel-item:only-child::after {width: 0;}#sk-container-id-2 div.sk-dashed-wrapped {border: 1px dashed gray;margin: 0 0.4em 0.5em 0.4em;box-sizing: border-box;padding-bottom: 0.4em;background-color: white;}#sk-container-id-2 div.sk-label label {font-family: monospace;font-weight: bold;display: inline-block;line-height: 1.2em;}#sk-container-id-2 div.sk-label-container {text-align: center;}#sk-container-id-2 div.sk-container {/* jupyter's `normalize.less` sets `[hidden] { display: none; }` but bootstrap.min.css set `[hidden] { display: none !important; }` so we also need the `!important` here to be able to override the default hidden behavior on the sphinx rendered scikit-learn.org. See: https://github.com/scikit-learn/scikit-learn/issues/21755 */display: inline-block !important;position: relative;}#sk-container-id-2 div.sk-text-repr-fallback {display: none;}</style><div id=\"sk-container-id-2\" class=\"sk-top-container\"><div class=\"sk-text-repr-fallback\"><pre>LogisticRegression()</pre><b>In a Jupyter environment, please rerun this cell to show the HTML representation or trust the notebook. <br />On GitHub, the HTML representation is unable to render, please try loading this page with nbviewer.org.</b></div><div class=\"sk-container\" hidden><div class=\"sk-item\"><div class=\"sk-estimator sk-toggleable\"><input class=\"sk-toggleable__control sk-hidden--visually\" id=\"sk-estimator-id-2\" type=\"checkbox\" checked><label for=\"sk-estimator-id-2\" class=\"sk-toggleable__label sk-toggleable__label-arrow\">LogisticRegression</label><div class=\"sk-toggleable__content\"><pre>LogisticRegression()</pre></div></div></div></div></div>"
      ],
      "text/plain": [
       "LogisticRegression()"
      ]
     },
     "execution_count": 53,
     "metadata": {},
     "output_type": "execute_result"
    }
   ],
   "source": [
    "# instantite and train the model\n",
    "model = LogisticRegression()\n",
    "model.fit(X_train, y_train)"
   ]
  },
  {
   "cell_type": "code",
   "execution_count": 54,
   "metadata": {
    "colab": {
     "base_uri": "https://localhost:8080/",
     "height": 626
    },
    "id": "YOHri1MDjfFq",
    "outputId": "72ed3693-58c0-4214-ab76-24cff6a5e8df"
   },
   "outputs": [
    {
     "data": {
      "text/plain": [
       "0.6379454731552991"
      ]
     },
     "metadata": {},
     "output_type": "display_data"
    },
    {
     "data": {
      "text/plain": [
       "0.6410041841004184"
      ]
     },
     "metadata": {},
     "output_type": "display_data"
    },
    {
     "name": "stdout",
     "output_type": "stream",
     "text": [
      "              precision    recall  f1-score   support\n",
      "\n",
      "           0       0.83      0.60      0.70       817\n",
      "           1       0.46      0.73      0.56       378\n",
      "\n",
      "    accuracy                           0.64      1195\n",
      "   macro avg       0.64      0.66      0.63      1195\n",
      "weighted avg       0.71      0.64      0.65      1195\n",
      "\n"
     ]
    },
    {
     "data": {
      "image/png": "[encoded data removed]",
      "text/plain": [
       "<Figure size 640x480 with 2 Axes>"
      ]
     },
     "metadata": {},
     "output_type": "display_data"
    }
   ],
   "source": [
    "# get base scores\n",
    "base_train_accuracy = model.score(X_train, y_train)\n",
    "base_test_accuracy = model.score(X_test, y_test)\n",
    "\n",
    "display(base_train_accuracy, base_test_accuracy)\n",
    "\n",
    "y_pred = model.predict(X_test)\n",
    "from sklearn.metrics import classification_report, precision_recall_fscore_support, accuracy_score\n",
    "print(classification_report(y_pred, y_test))\n",
    "precision, recall, fscore, _ = precision_recall_fscore_support(y_test, y_pred, average='weighted')\n",
    "accuracy = accuracy_score(y_test, y_pred)\n",
    "\n",
    "\n",
    "\n",
    "# visualize performance\n",
    "from sklearn.metrics import confusion_matrix\n",
    "cf_matrix = confusion_matrix(y_pred, y_test)\n",
    "\n",
    "import seaborn as sns\n",
    "sns.heatmap(cf_matrix, annot=True)\n",
    "plt.show()\n",
    "\n",
    "# saving the performance in a dictionary\n",
    "count_vectorizer_base_performance = {\n",
    "    'accuracy':accuracy,\n",
    "    'precision':precision,\n",
    "    'recall':recall,\n",
    "    'fscore': fscore,\n",
    "    'cf_matrix': cf_matrix,\n",
    "    'classification_report': classification_report}"
   ]
  },
  {
   "cell_type": "markdown",
   "metadata": {
    "id": "qIdpWH_ijp3D"
   },
   "source": [
    "# GridSearch for best classifier with `CountVectorizer()`\n"
   ]
  },
  {
   "cell_type": "code",
   "execution_count": 21,
   "metadata": {
    "id": "G-5o9Rtsjs1I"
   },
   "outputs": [],
   "source": [
    "from sklearn.model_selection import GridSearchCV\n",
    "from sklearn.pipeline import Pipeline\n",
    "from xgboost import XGBClassifier\n",
    "from sklearn.ensemble import RandomForestClassifier\n",
    "from sklearn.ensemble import GradientBoostingClassifier\n",
    "from sklearn.naive_bayes import MultinomialNB\n",
    "from sklearn.neighbors import KNeighborsClassifier\n",
    "from sklearn.linear_model import LogisticRegression\n",
    "from sklearn.svm import SVC\n",
    "from sklearn.tree import DecisionTreeClassifier"
   ]
  },
  {
   "cell_type": "code",
   "execution_count": 34,
   "metadata": {
    "id": "WMsgQ4w_jvzF"
   },
   "outputs": [],
   "source": [
    "clf1 = RandomForestClassifier(random_state=88)\n",
    "# clf2 = SVC(probability=True, random_state=88)\n",
    "clf3 = LogisticRegression(random_state=88)\n",
    "clf4 = GradientBoostingClassifier(random_state=88)\n",
    "clf5 = KNeighborsClassifier()\n",
    "clf6 = BernoulliNB()\n",
    "clf7 = XGBClassifier(random_state=88)"
   ]
  },
  {
   "cell_type": "code",
   "execution_count": 26,
   "metadata": {
    "id": "gJhQNZVDj4JV"
   },
   "outputs": [],
   "source": [
    "# Initiaze the hyperparameters for each dictionary\n",
    "param1 = {}\n",
    "param1['classifier__max_depth'] = [5]\n",
    "param1['classifier'] = [clf1]\n",
    "\n",
    "# param2 = {}\n",
    "# param2['classifier'] = [clf2]\n",
    "\n",
    "param3 = {}\n",
    "param3['classifier__penalty'] = ['l1', 'l2']\n",
    "param3['classifier'] = [clf3]\n",
    "\n",
    "param4 = {}\n",
    "param4['classifier__n_estimators'] = [10, 50]\n",
    "param4['classifier__max_depth'] = [5]\n",
    "param4['classifier'] = [clf4]\n",
    "\n",
    "param5 = {}\n",
    "param5['classifier'] = [clf5]\n",
    "\n",
    "param6 = {}\n",
    "param6['classifier'] = [clf6]\n",
    "\n",
    "\n",
    "param7 = {}\n",
    "param7['classifier'] = [clf7]\n",
    "\n",
    "# set up the pipeline and parameter grid\n",
    "pipeline = Pipeline([('classifier', clf1)])"
   ]
  },
  {
   "cell_type": "markdown",
   "metadata": {
    "id": "u6nAoSn_kAx5"
   },
   "source": [
    "**Note**: Unfortunately the GridSearch could not run through all the parameter grid, even on Google Colab. I had to reduce the number of params passed through the grid to varying results. "
   ]
  },
  {
   "cell_type": "code",
   "execution_count": null,
   "metadata": {
    "id": "jlcVjPAg7861"
   },
   "outputs": [],
   "source": [
    "params = [param4, param7]\n",
    "gs = GridSearchCV(pipeline, params, cv=3, \n",
    "                  n_jobs=-1).fit(X_train, y_train)"
   ]
  },
  {
   "cell_type": "code",
   "execution_count": 30,
   "metadata": {
    "colab": {
     "base_uri": "https://localhost:8080/",
     "height": 35
    },
    "id": "LjSpa3gNkRCC",
    "outputId": "c211bb29-73ea-4e3a-8af3-a99aaf075e19"
   },
   "outputs": [
    {
     "data": {
      "text/plain": [
       "0.8234309623430962"
      ]
     },
     "metadata": {},
     "output_type": "display_data"
    }
   ],
   "source": [
    "display(gs.score(X_test, y_test))"
   ]
  },
  {
   "cell_type": "code",
   "execution_count": 37,
   "metadata": {
    "colab": {
     "base_uri": "https://localhost:8080/"
    },
    "id": "JDuTvSB-9zIW",
    "outputId": "ccea150f-54d0-475a-bd19-43055392cdbd"
   },
   "outputs": [
    {
     "data": {
      "text/plain": [
       "0.8791290592723551"
      ]
     },
     "execution_count": 37,
     "metadata": {},
     "output_type": "execute_result"
    }
   ],
   "source": [
    "gs.score(X_train, y_train)"
   ]
  },
  {
   "cell_type": "code",
   "execution_count": 38,
   "metadata": {
    "colab": {
     "base_uri": "https://localhost:8080/",
     "height": 53
    },
    "id": "98_vWgejkf8j",
    "outputId": "932a0194-ef68-43a7-8b98-e69307635af7"
   },
   "outputs": [
    {
     "data": {
      "text/plain": [
       "0.6410041841004184"
      ]
     },
     "metadata": {},
     "output_type": "display_data"
    },
    {
     "data": {
      "text/plain": [
       "0.6410041841004184"
      ]
     },
     "execution_count": 38,
     "metadata": {},
     "output_type": "execute_result"
    }
   ],
   "source": [
    "params = [param5, param3]\n",
    "gs2 = GridSearchCV(pipeline, params, cv=3, \n",
    "                  n_jobs=-1).fit(X_train, y_train)\n",
    "\n",
    "display(gs2.score(X_test, y_test))\n",
    "gs2.score(X_test, y_test)"
   ]
  },
  {
   "cell_type": "code",
   "execution_count": null,
   "metadata": {
    "id": "NTzepzh094eA"
   },
   "outputs": [],
   "source": [
    "gs2.score(X_train, y_train)"
   ]
  },
  {
   "cell_type": "code",
   "execution_count": 35,
   "metadata": {
    "colab": {
     "base_uri": "https://localhost:8080/",
     "height": 35
    },
    "id": "75HCNFoXkxR9",
    "outputId": "6c4c5466-e01d-4b91-a3dd-4b8a1eb465fb"
   },
   "outputs": [
    {
     "data": {
      "text/plain": [
       "0.7171548117154811"
      ]
     },
     "metadata": {},
     "output_type": "display_data"
    }
   ],
   "source": [
    "params = [param1, param6]\n",
    "gs3 = GridSearchCV(pipeline, params, cv=3, \n",
    "                  n_jobs=-1).fit(X_train, y_train)\n",
    "\n",
    "display(gs3.score(X_test, y_test))"
   ]
  },
  {
   "cell_type": "code",
   "execution_count": 36,
   "metadata": {
    "colab": {
     "base_uri": "https://localhost:8080/"
    },
    "id": "y4bE4tgS96-K",
    "outputId": "5244108b-39c5-43d6-8618-16ec2eb96f09"
   },
   "outputs": [
    {
     "data": {
      "text/plain": [
       "0.7379733879222109"
      ]
     },
     "execution_count": 36,
     "metadata": {},
     "output_type": "execute_result"
    }
   ],
   "source": [
    "gs3.score(X_train, y_train)"
   ]
  },
  {
   "cell_type": "code",
   "execution_count": 41,
   "metadata": {
    "colab": {
     "base_uri": "https://localhost:8080/"
    },
    "id": "B_heNbT-BVSZ",
    "outputId": "9c6f12a5-bfb7-47bc-c6a3-d5a9cf430fae"
   },
   "outputs": [
    {
     "data": {
      "text/plain": [
       "{'classifier': XGBClassifier(base_score=None, booster=None, callbacks=None,\n",
       "               colsample_bylevel=None, colsample_bynode=None,\n",
       "               colsample_bytree=None, early_stopping_rounds=None,\n",
       "               enable_categorical=False, eval_metric=None, feature_types=None,\n",
       "               gamma=None, gpu_id=None, grow_policy=None, importance_type=None,\n",
       "               interaction_constraints=None, learning_rate=None, max_bin=None,\n",
       "               max_cat_threshold=None, max_cat_to_onehot=None,\n",
       "               max_delta_step=None, max_depth=None, max_leaves=None,\n",
       "               min_child_weight=None, missing=nan, monotone_constraints=None,\n",
       "               n_estimators=100, n_jobs=None, num_parallel_tree=None,\n",
       "               predictor=None, random_state=88, ...)}"
      ]
     },
     "execution_count": 41,
     "metadata": {},
     "output_type": "execute_result"
    }
   ],
   "source": [
    "# gs clearly gives the best performance\n",
    "gs.best_params_"
   ]
  },
  {
   "cell_type": "markdown",
   "metadata": {
    "id": "hISJBM49k3y7"
   },
   "source": [
    "Because of the circumstances of the experiment, we cannot conclusively say that no other classifier with the right set of parametrs woudl give a better performance."
   ]
  },
  {
   "cell_type": "markdown",
   "metadata": {
    "id": "8Iip3QQn9I4R"
   },
   "source": [
    "## Performance Evaluation"
   ]
  },
  {
   "cell_type": "code",
   "execution_count": 40,
   "metadata": {
    "colab": {
     "base_uri": "https://localhost:8080/"
    },
    "id": "aAXjKme_lPEI",
    "outputId": "3c643a26-5f13-4e8c-fa09-aa9053855035"
   },
   "outputs": [
    {
     "name": "stdout",
     "output_type": "stream",
     "text": [
      "              precision    recall  f1-score   support\n",
      "\n",
      "           0       0.80      0.83      0.82       573\n",
      "           1       0.84      0.81      0.83       622\n",
      "\n",
      "    accuracy                           0.82      1195\n",
      "   macro avg       0.82      0.82      0.82      1195\n",
      "weighted avg       0.82      0.82      0.82      1195\n",
      "\n"
     ]
    }
   ],
   "source": [
    "y_pred = gs.predict(X_test)\n",
    "from sklearn.metrics import classification_report, precision_recall_fscore_support, accuracy_score\n",
    "print(classification_report(y_pred, y_test))\n",
    "precision, recall, fscore, _ = precision_recall_fscore_support(y_test, y_pred, average='weighted')\n",
    "accuracy = accuracy_score(y_test, y_pred)"
   ]
  },
  {
   "cell_type": "code",
   "execution_count": 42,
   "metadata": {
    "colab": {
     "base_uri": "https://localhost:8080/",
     "height": 430
    },
    "id": "4lmAqzGm5zOu",
    "outputId": "24f416e3-4697-47c1-baa7-d275e9eebb6f"
   },
   "outputs": [
    {
     "data": {
      "image/png": "[encoded data removed]",
      "text/plain": [
       "<Figure size 640x480 with 2 Axes>"
      ]
     },
     "metadata": {},
     "output_type": "display_data"
    }
   ],
   "source": [
    "# visualize performance\n",
    "from sklearn.metrics import confusion_matrix\n",
    "cf_matrix = confusion_matrix(y_pred, y_test)\n",
    "\n",
    "import seaborn as sns\n",
    "sns.heatmap(cf_matrix, annot=True)\n",
    "plt.show()\n",
    "\n",
    "# saving the performance in a dictionary\n",
    "count_vectorizer_performance = {\n",
    "    'accuracy':accuracy,\n",
    "    'precision':precision,\n",
    "    'recall':recall,\n",
    "    'fscore': fscore,\n",
    "    'cf_matrix': cf_matrix,\n",
    "    'classification_report': classification_report}"
   ]
  },
  {
   "cell_type": "markdown",
   "metadata": {
    "id": "N3HacP5F5MGt"
   },
   "source": [
    "# GridSearch for best classifier with `TfiDVectorizer()`\n"
   ]
  },
  {
   "cell_type": "code",
   "execution_count": 69,
   "metadata": {
    "colab": {
     "base_uri": "https://localhost:8080/"
    },
    "id": "awwgVmcR5Q4E",
    "outputId": "641c0f10-c37d-43f7-822f-6f72f071464a"
   },
   "outputs": [
    {
     "data": {
      "text/plain": [
       "((10747, 9538), (1195, 9538), (10747,), (1195,))"
      ]
     },
     "execution_count": 69,
     "metadata": {},
     "output_type": "execute_result"
    }
   ],
   "source": [
    "# Preparing the training dataset with the tdidvectorized data\n",
    "X = train_df.drop(columns=['question1', 'question2', 'is_duplicate'])\n",
    "y = train_df['is_duplicate']\n",
    "# concatenating with the vectorized text\n",
    "X = pd.concat([X.reset_index(drop=True), pd.DataFrame(tdf_X_q1_q2)], axis=1, ignore_index=True)\n",
    "\n",
    "X_train, X_test, y_train, y_test = train_test_split(X, y, test_size=0.1, random_state=88)\n",
    "X_train.shape, X_test.shape, y_train.shape, y_test.shape"
   ]
  },
  {
   "cell_type": "code",
   "execution_count": 45,
   "metadata": {
    "colab": {
     "base_uri": "https://localhost:8080/"
    },
    "id": "7H-v13gB5dlY",
    "outputId": "7a3492ca-e887-4dbe-e1af-38c5e67ad6ba"
   },
   "outputs": [
    {
     "data": {
      "text/plain": [
       "(0.6379454731552991, 0.6410041841004184)"
      ]
     },
     "execution_count": 45,
     "metadata": {},
     "output_type": "execute_result"
    }
   ],
   "source": [
    "# instantite and train the base model and get scores\n",
    "model_tfd = LogisticRegression()\n",
    "model_tfd.fit(X_train, y_train)\n",
    "\n",
    "base_train_accuracy_tfd = model_tfd.score(X_train, y_train)\n",
    "base_test_accuracy_tfd = model_tfd.score(X_test, y_test)\n",
    "\n",
    "base_train_accuracy_tfd, base_test_accuracy_tfd"
   ]
  },
  {
   "cell_type": "code",
   "execution_count": 46,
   "metadata": {
    "colab": {
     "base_uri": "https://localhost:8080/",
     "height": 591
    },
    "id": "90otWfSCBu2C",
    "outputId": "d0c253b3-e0c2-4c25-f911-ac07f7dc40a3"
   },
   "outputs": [
    {
     "name": "stdout",
     "output_type": "stream",
     "text": [
      "              precision    recall  f1-score   support\n",
      "\n",
      "           0       0.83      0.60      0.70       817\n",
      "           1       0.46      0.73      0.56       378\n",
      "\n",
      "    accuracy                           0.64      1195\n",
      "   macro avg       0.64      0.66      0.63      1195\n",
      "weighted avg       0.71      0.64      0.65      1195\n",
      "\n"
     ]
    },
    {
     "data": {
      "image/png": "[encoded data removed]",
      "text/plain": [
       "<Figure size 640x480 with 2 Axes>"
      ]
     },
     "metadata": {},
     "output_type": "display_data"
    }
   ],
   "source": [
    "# get base scores\n",
    "y_pred = model_tfd.predict(X_test)\n",
    "from sklearn.metrics import classification_report, precision_recall_fscore_support, accuracy_score\n",
    "print(classification_report(y_pred, y_test))\n",
    "precision, recall, fscore, _ = precision_recall_fscore_support(y_test, y_pred)\n",
    "accuracy = accuracy_score(y_test, y_pred)\n",
    "\n",
    "\n",
    "\n",
    "# visualize performance\n",
    "from sklearn.metrics import confusion_matrix\n",
    "cf_matrix = confusion_matrix(y_pred, y_test)\n",
    "\n",
    "import seaborn as sns\n",
    "sns.heatmap(cf_matrix, annot=True)\n",
    "plt.show()\n",
    "\n",
    "# saving the performance in a dictionary\n",
    "tfid_base_performance = {\n",
    "    'accuracy':accuracy,\n",
    "    'precision':precision,\n",
    "    'recall':recall,\n",
    "    'fscore': fscore,\n",
    "    'cf_matrix': cf_matrix,\n",
    "    'classification_report': classification_report}"
   ]
  },
  {
   "cell_type": "code",
   "execution_count": 47,
   "metadata": {
    "colab": {
     "base_uri": "https://localhost:8080/",
     "height": 124
    },
    "id": "mqviLBkN5nMU",
    "outputId": "7e0f18cd-5b63-419d-8bc1-9181de564658"
   },
   "outputs": [
    {
     "data": {
      "text/plain": [
       "0.887038243230669"
      ]
     },
     "metadata": {},
     "output_type": "display_data"
    },
    {
     "data": {
      "text/plain": [
       "0.8284518828451883"
      ]
     },
     "metadata": {},
     "output_type": "display_data"
    },
    {
     "data": {
      "text/plain": [
       "0.6379454731552991"
      ]
     },
     "metadata": {},
     "output_type": "display_data"
    },
    {
     "data": {
      "text/plain": [
       "0.6410041841004184"
      ]
     },
     "metadata": {},
     "output_type": "display_data"
    },
    {
     "data": {
      "text/plain": [
       "0.7354610589001582"
      ]
     },
     "metadata": {},
     "output_type": "display_data"
    },
    {
     "data": {
      "text/plain": [
       "0.705439330543933"
      ]
     },
     "metadata": {},
     "output_type": "display_data"
    }
   ],
   "source": [
    "# perform the grid search with the previous parameter grid\n",
    "params = [param4, param7]\n",
    "gs = GridSearchCV(pipeline, params, cv=3, \n",
    "                  n_jobs=-1).fit(X_train, y_train)\n",
    "\n",
    "display(gs.score(X_train, y_train))\n",
    "display(gs.score(X_test, y_test))\n",
    "\n",
    "params = [param5, param3]\n",
    "gs2 = GridSearchCV(pipeline, params, cv=3, \n",
    "                  n_jobs=-1).fit(X_train, y_train)\n",
    "\n",
    "display(gs2.score(X_train, y_train))\n",
    "display(gs2.score(X_test, y_test))\n",
    "\n",
    "params = [param1, param6]\n",
    "gs3 = GridSearchCV(pipeline, params, cv=3, \n",
    "                  n_jobs=-1).fit(X_train, y_train)\n",
    "\n",
    "display(gs3.score(X_train, y_train))\n",
    "display(gs3.score(X_test, y_test))"
   ]
  },
  {
   "cell_type": "code",
   "execution_count": 48,
   "metadata": {
    "colab": {
     "base_uri": "https://localhost:8080/"
    },
    "id": "O_G4uAlBHMT8",
    "outputId": "63a70e47-f07a-4f89-b5f6-3e7c87404137"
   },
   "outputs": [
    {
     "data": {
      "text/plain": [
       "{'classifier': XGBClassifier(base_score=None, booster=None, callbacks=None,\n",
       "               colsample_bylevel=None, colsample_bynode=None,\n",
       "               colsample_bytree=None, early_stopping_rounds=None,\n",
       "               enable_categorical=False, eval_metric=None, feature_types=None,\n",
       "               gamma=None, gpu_id=None, grow_policy=None, importance_type=None,\n",
       "               interaction_constraints=None, learning_rate=None, max_bin=None,\n",
       "               max_cat_threshold=None, max_cat_to_onehot=None,\n",
       "               max_delta_step=None, max_depth=None, max_leaves=None,\n",
       "               min_child_weight=None, missing=nan, monotone_constraints=None,\n",
       "               n_estimators=100, n_jobs=None, num_parallel_tree=None,\n",
       "               predictor=None, random_state=88, ...)}"
      ]
     },
     "execution_count": 48,
     "metadata": {},
     "output_type": "execute_result"
    }
   ],
   "source": [
    "gs.best_params_"
   ]
  },
  {
   "cell_type": "markdown",
   "metadata": {
    "id": "l3yfTadX_QUg"
   },
   "source": [
    "## Performance Evaluation\n",
    "\n"
   ]
  },
  {
   "cell_type": "code",
   "execution_count": 49,
   "metadata": {
    "colab": {
     "base_uri": "https://localhost:8080/"
    },
    "id": "DOzYrTrc6xxb",
    "outputId": "4d903be6-7b6a-42ca-feac-4bd5264de49c"
   },
   "outputs": [
    {
     "name": "stdout",
     "output_type": "stream",
     "text": [
      "              precision    recall  f1-score   support\n",
      "\n",
      "           0       0.80      0.84      0.82       565\n",
      "           1       0.85      0.81      0.83       630\n",
      "\n",
      "    accuracy                           0.83      1195\n",
      "   macro avg       0.83      0.83      0.83      1195\n",
      "weighted avg       0.83      0.83      0.83      1195\n",
      "\n"
     ]
    }
   ],
   "source": [
    "## Performance Evaluation\n",
    "y_pred = gs.predict(X_test)\n",
    "from sklearn.metrics import classification_report, precision_recall_fscore_support, accuracy_score\n",
    "print(classification_report(y_pred, y_test))\n",
    "precision, recall, fscore, _ = precision_recall_fscore_support(y_test, y_pred)\n",
    "accuracy = accuracy_score(y_test, y_pred)\n"
   ]
  },
  {
   "cell_type": "code",
   "execution_count": 72,
   "metadata": {
    "id": "p9Q0gekSJpMI"
   },
   "outputs": [],
   "source": [
    "params = [param7]\n",
    "gs = GridSearchCV(pipeline, params, cv=3, \n",
    "                  n_jobs=-1).fit(X_train, y_train)\n",
    "                  \n",
    "                  \n",
    "y_pred = gs.predict(X_test)\n",
    "precision, recall, fscore, _ = precision_recall_fscore_support(y_test, y_pred, average='weighted')\n",
    "accuracy = accuracy_score(y_test, y_pred)\n",
    "cf_matrix = confusion_matrix(y_pred, y_test)\n",
    "# saving the performance in a dictionary\n",
    "tfdif_vectorizer_performance = {\n",
    "    'accuracy':accuracy,\n",
    "    'precision':precision,\n",
    "    'recall':recall,\n",
    "    'fscore': fscore,\n",
    "    'cf_matrix': cf_matrix,\n",
    "    'classification_report': classification_report}"
   ]
  },
  {
   "cell_type": "code",
   "execution_count": 50,
   "metadata": {
    "colab": {
     "base_uri": "https://localhost:8080/",
     "height": 430
    },
    "id": "RqiIMP_N62SD",
    "outputId": "0ae3451e-6c60-489a-8138-3d6476b8f3c4"
   },
   "outputs": [
    {
     "data": {
      "image/png": "[encoded data removed]",
      "text/plain": [
       "<Figure size 640x480 with 2 Axes>"
      ]
     },
     "metadata": {},
     "output_type": "display_data"
    }
   ],
   "source": [
    "# visualize performance\n",
    "from sklearn.metrics import confusion_matrix\n",
    "cf_matrix = confusion_matrix(y_pred, y_test)\n",
    "\n",
    "import seaborn as sns\n",
    "sns.heatmap(cf_matrix, annot=True)\n",
    "plt.show()\n",
    "\n",
    "# saving the performance in a dictionary\n",
    "tfdif_vectorizer_performance = {\n",
    "    'accuracy':accuracy,\n",
    "    'precision':precision,\n",
    "    'recall':recall,\n",
    "    'fscore': fscore,\n",
    "    'cf_matrix': cf_matrix,\n",
    "    'classification_report': classification_report}"
   ]
  },
  {
   "cell_type": "code",
   "execution_count": 75,
   "metadata": {
    "id": "EG0XtpqWHUOw"
   },
   "outputs": [],
   "source": [
    "tmp = pd.DataFrame([tfdif_vectorizer_performance, \n",
    "             tfid_base_performance,\n",
    "             count_vectorizer_base_performance,\n",
    "             count_vectorizer_performance])\n",
    "results = tmp.drop(columns=['cf_matrix', 'classification_report'])\n",
    "results"
   ]
  },
  {
   "cell_type": "code",
   "execution_count": 95,
   "metadata": {
    "colab": {
     "base_uri": "https://localhost:8080/",
     "height": 537
    },
    "id": "GACb19ddHvpw",
    "outputId": "1776b280-2271-4623-8a26-d577c821ef60"
   },
   "outputs": [
    {
     "data": {
      "text/plain": [
       "<Axes: >"
      ]
     },
     "execution_count": 95,
     "metadata": {},
     "output_type": "execute_result"
    },
    {
     "data": {
      "image/png": "[encoded data removed]",
      "text/plain": [
       "<Figure size 640x480 with 1 Axes>"
      ]
     },
     "metadata": {},
     "output_type": "display_data"
    }
   ],
   "source": [
    "results.index = ['tfd_best', 'tfd_base', 'countvec_best', 'countvec_base']\n",
    "results\n",
    "results.plot(kind='bar')"
   ]
  },
  {
   "cell_type": "markdown",
   "metadata": {
    "id": "eJ5iG65lS8bW"
   },
   "source": [
    "**Note**: It would be interesting to evaluate how the models would perform over the full dataset, but from this, it shows that the XGBoost Classifier with default settings is performing at the same level or close to the complex Deep Learning algorithms. Note also that its performance is fairly consistent regardless of what text vectorizer was used. However, we cannot conclude that this would be the same for all the other classifiers."
   ]
  },
  {
   "cell_type": "code",
   "execution_count": null,
   "metadata": {
    "id": "2g9TDrC2V-Wz"
   },
   "outputs": [],
   "source": []
  }
 ],
 "metadata": {
  "colab": {
   "provenance": [],
   "toc_visible": true
  },
  "kernelspec": {
   "display_name": "Python 3 (ipykernel)",
   "language": "python",
   "name": "python3"
  },
  "language_info": {
   "codemirror_mode": {
    "name": "ipython",
    "version": 3
   },
   "file_extension": ".py",
   "mimetype": "text/x-python",
   "name": "python",
   "nbconvert_exporter": "python",
   "pygments_lexer": "ipython3",
   "version": "3.8.16"
  }
 },
 "nbformat": 4,
 "nbformat_minor": 1
}
